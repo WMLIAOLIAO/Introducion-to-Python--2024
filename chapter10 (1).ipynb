{
 "cells": [
  {
   "cell_type": "code",
   "execution_count": null,
   "id": "455a61f2-926a-400c-a177-1193a505075d",
   "metadata": {},
   "outputs": [],
   "source": [
    "#第10章 文件和异常\n",
    "#10.1 读取文件"
   ]
  },
  {
   "cell_type": "code",
   "execution_count": 1,
   "id": "0e65bb5d-8e6f-4e2e-a231-3b35fdc85a7b",
   "metadata": {},
   "outputs": [
    {
     "ename": "FileNotFoundError",
     "evalue": "[Errno 2] No such file or directory: 'pi_digits.txt'",
     "output_type": "error",
     "traceback": [
      "\u001b[1;31m---------------------------------------------------------------------------\u001b[0m",
      "\u001b[1;31mFileNotFoundError\u001b[0m                         Traceback (most recent call last)",
      "Cell \u001b[1;32mIn[1], line 5\u001b[0m\n\u001b[0;32m      2\u001b[0m \u001b[38;5;28;01mfrom\u001b[39;00m \u001b[38;5;21;01mpathlib\u001b[39;00m \u001b[38;5;28;01mimport\u001b[39;00m Path\n\u001b[0;32m      4\u001b[0m path \u001b[38;5;241m=\u001b[39m Path(\u001b[38;5;124m'\u001b[39m\u001b[38;5;124mpi_digits.txt\u001b[39m\u001b[38;5;124m'\u001b[39m)\n\u001b[1;32m----> 5\u001b[0m contents \u001b[38;5;241m=\u001b[39m path\u001b[38;5;241m.\u001b[39mread_text()\n\u001b[0;32m      6\u001b[0m \u001b[38;5;28mprint\u001b[39m(contents)\n",
      "File \u001b[1;32m~\\anaconda3\\Lib\\pathlib.py:1058\u001b[0m, in \u001b[0;36mPath.read_text\u001b[1;34m(self, encoding, errors)\u001b[0m\n\u001b[0;32m   1054\u001b[0m \u001b[38;5;250m\u001b[39m\u001b[38;5;124;03m\"\"\"\u001b[39;00m\n\u001b[0;32m   1055\u001b[0m \u001b[38;5;124;03mOpen the file in text mode, read it, and close the file.\u001b[39;00m\n\u001b[0;32m   1056\u001b[0m \u001b[38;5;124;03m\"\"\"\u001b[39;00m\n\u001b[0;32m   1057\u001b[0m encoding \u001b[38;5;241m=\u001b[39m io\u001b[38;5;241m.\u001b[39mtext_encoding(encoding)\n\u001b[1;32m-> 1058\u001b[0m \u001b[38;5;28;01mwith\u001b[39;00m \u001b[38;5;28mself\u001b[39m\u001b[38;5;241m.\u001b[39mopen(mode\u001b[38;5;241m=\u001b[39m\u001b[38;5;124m'\u001b[39m\u001b[38;5;124mr\u001b[39m\u001b[38;5;124m'\u001b[39m, encoding\u001b[38;5;241m=\u001b[39mencoding, errors\u001b[38;5;241m=\u001b[39merrors) \u001b[38;5;28;01mas\u001b[39;00m f:\n\u001b[0;32m   1059\u001b[0m     \u001b[38;5;28;01mreturn\u001b[39;00m f\u001b[38;5;241m.\u001b[39mread()\n",
      "File \u001b[1;32m~\\anaconda3\\Lib\\pathlib.py:1044\u001b[0m, in \u001b[0;36mPath.open\u001b[1;34m(self, mode, buffering, encoding, errors, newline)\u001b[0m\n\u001b[0;32m   1042\u001b[0m \u001b[38;5;28;01mif\u001b[39;00m \u001b[38;5;124m\"\u001b[39m\u001b[38;5;124mb\u001b[39m\u001b[38;5;124m\"\u001b[39m \u001b[38;5;129;01mnot\u001b[39;00m \u001b[38;5;129;01min\u001b[39;00m mode:\n\u001b[0;32m   1043\u001b[0m     encoding \u001b[38;5;241m=\u001b[39m io\u001b[38;5;241m.\u001b[39mtext_encoding(encoding)\n\u001b[1;32m-> 1044\u001b[0m \u001b[38;5;28;01mreturn\u001b[39;00m io\u001b[38;5;241m.\u001b[39mopen(\u001b[38;5;28mself\u001b[39m, mode, buffering, encoding, errors, newline)\n",
      "\u001b[1;31mFileNotFoundError\u001b[0m: [Errno 2] No such file or directory: 'pi_digits.txt'"
     ]
    }
   ],
   "source": [
    "#10.1.1 读取文件的全部内容\n",
    "from pathlib import Path\n",
    "\n",
    "path = Path('pi_digits.txt')\n",
    "contents = path.read_text()\n",
    "print(contents)"
   ]
  },
  {
   "cell_type": "code",
   "execution_count": null,
   "id": "2857fd7a-f598-41ed-941b-b27d3ca5eb3d",
   "metadata": {},
   "outputs": [],
   "source": [
    "contents.rstrip()\n",
    "print(contents)"
   ]
  },
  {
   "cell_type": "code",
   "execution_count": null,
   "id": "32afe901-7080-474a-883a-51787e76e11f",
   "metadata": {},
   "outputs": [],
   "source": [
    "#方法链式调用\n",
    "contents = path.read_text().rstrip()\n",
    "print(contents)"
   ]
  },
  {
   "cell_type": "code",
   "execution_count": null,
   "id": "54c54fc7-21f5-4794-9940-8fe88b9638f1",
   "metadata": {},
   "outputs": [],
   "source": [
    "#10.1.2 相对文件路径和绝对文件路径\n",
    "#相对文件路径\n",
    "path = Path('text_files/filename.txt')\n",
    "#绝对文件路径\n",
    "path = Path('/home/eric/data_files/text_files/filename.txt')"
   ]
  },
  {
   "cell_type": "code",
   "execution_count": null,
   "id": "69bc06b7-d4a2-4c57-b7ff-39149521ed0e",
   "metadata": {},
   "outputs": [],
   "source": [
    "#10.1.3 访问文件中的各行\n",
    "from pathlib import Path\n",
    "\n",
    "path = Path('pi_digits.txt')\n",
    "contents = path.read_text()\n",
    "\n",
    "lines = contents.splitlines()\n",
    "for line in lines:\n",
    "    print(line)"
   ]
  },
  {
   "cell_type": "code",
   "execution_count": null,
   "id": "08a86dd9-02c3-4c90-b28a-0f55c8813fc5",
   "metadata": {},
   "outputs": [],
   "source": [
    "#10.1.4 使用文件的内容\n",
    "from pathlib import Path\n",
    "\n",
    "path = Path('pi_digits.txt')\n",
    "contents = path.read_text()\n",
    "\n",
    "#使用splitlines（）方法转换为一系列行\n",
    "lines = contents.splitlines()\n",
    "\n",
    "#创建一个空变量，用于存储值\n",
    "pi_string = ''\n",
    "\n",
    "#使用循环将值加入变量\n",
    "for line in lines:\n",
    "    pi_string += line\n",
    "\n",
    "print(pi_string)\n",
    "print(len(pi_string))"
   ]
  },
  {
   "cell_type": "code",
   "execution_count": null,
   "id": "bb34eaf2-3c92-4572-b53b-35751e98be26",
   "metadata": {},
   "outputs": [],
   "source": [
    "from pathlib import Path\n",
    "\n",
    "path = Path('pi_digits.txt')\n",
    "contents = path.read_text()\n",
    "\n",
    "lines = contents.splitlines()\n",
    "pi_string = ''\n",
    "for line in lines:\n",
    "    pi_string += line.lstrip()\n",
    "\n",
    "print(pi_string)\n",
    "print(len(pi_string))"
   ]
  },
  {
   "cell_type": "code",
   "execution_count": null,
   "id": "2a13802b-6f22-4152-9840-79a3ec69dc99",
   "metadata": {},
   "outputs": [],
   "source": [
    "#10.1.5 包含100万位的大型文件\n",
    "from pathlib import Path\n",
    "\n",
    "path = Path('pi_million_digits.txt')\n",
    "contents = path.read_text()\n",
    "\n",
    "lines = contents.splitlines()\n",
    "pi_string = ''\n",
    "for line in lines:\n",
    "    pi_string += line.lstrip()\n",
    "\n",
    "print(f'{pi_string[:52]}…')\n",
    "print(len(pi_string))"
   ]
  },
  {
   "cell_type": "code",
   "execution_count": null,
   "id": "26e7f1cd-82f1-403a-b6ef-c1b09bdee650",
   "metadata": {},
   "outputs": [],
   "source": [
    "#10.1.6 圆周率值中包含你的生日吗\n",
    "from pathlib import Path\n",
    "\n",
    "path = Path('pi_million_digits.txt')\n",
    "contents = path.read_text()\n",
    "\n",
    "lines = contents.splitlines()\n",
    "pi_string = ''\n",
    "for line in lines:\n",
    "    pi_string += line.strip()\n",
    "\n",
    "birthday = input('Enter your birthday, in the form mmddyy: ')\n",
    "if birthday in pi_string:\n",
    "    print('Your birthday appears in the first million digits of pil!')\n",
    "else:\n",
    "    print('Your birthday does not appear in the first million digits of pil!')"
   ]
  },
  {
   "cell_type": "code",
   "execution_count": null,
   "id": "1eca3359-2dae-42b8-b16d-ff5e80f69a40",
   "metadata": {},
   "outputs": [],
   "source": [
    "#10.2 写入文件\n",
    "#10.2.1 写入一行\n",
    "from pathlib import Path\n",
    "\n",
    "path = Path('programming.txt')\n",
    "path.write_text('I love programming.')"
   ]
  },
  {
   "cell_type": "code",
   "execution_count": null,
   "id": "fb15b7da-3329-4303-9ba8-b81e36971e46",
   "metadata": {},
   "outputs": [],
   "source": [
    "#10.2.2 写入多行\n",
    "from pathlib import Path\n",
    "\n",
    "contents = 'I love programming.\\n'\n",
    "contents += 'I love creating new games.\\n'\n",
    "contents += 'I also love working with data.\\n'\n",
    "\n",
    "path = Path('programming.txt')\n",
    "path.write_text(contents)"
   ]
  },
  {
   "cell_type": "code",
   "execution_count": null,
   "id": "d5d5e2e7-3ff7-47c2-bb2a-697b75eb4f69",
   "metadata": {},
   "outputs": [],
   "source": [
    "#10.3 异常\n",
    "#10.3.1 处理ZeroDivisionError异常\n",
    "print(5/0)"
   ]
  },
  {
   "cell_type": "code",
   "execution_count": null,
   "id": "2a92996a-856d-4fbb-9081-fb52023b9876",
   "metadata": {},
   "outputs": [],
   "source": [
    "#10.3 异常\n",
    "#10.3.1 处理ZeroDivisionError异常\n",
    "print(5/0)"
   ]
  },
  {
   "cell_type": "code",
   "execution_count": null,
   "id": "c8e811cf-7edd-46d5-8954-8433cee3dea5",
   "metadata": {},
   "outputs": [],
   "source": [
    "#10.3.3 使用异常避免崩溃\n",
    "print(\"Give me two numbers, and I'll divide them.\")\n",
    "print(\"Enter 'q' to quit.\")\n",
    "\n",
    "while True:\n",
    "    #提示输入一个数，按q退出\n",
    "    first_number = input(\"\\nFirst number:\")\n",
    "    if first_number == 'q':\n",
    "        break\n",
    "    #输入第二个数，按q退出\n",
    "    second_number = input(\"Second number:\")\n",
    "    if second_number == 'q':\n",
    "        break\n",
    "    #输出答案，即第一个数除以第二个数\n",
    "    answer = int(first_number)/int(second_number)\n",
    "    print(answer)"
   ]
  },
  {
   "cell_type": "code",
   "execution_count": null,
   "id": "2ecdb837-1f4e-4265-aa47-a09fab69a558",
   "metadata": {},
   "outputs": [],
   "source": [
    "#10.3.4 else代码块\n",
    "print(\"Give me two numbers, and I'll divide them.\")\n",
    "print(\"Enter 'q' to quit.\")\n",
    "\n",
    "while True:\n",
    "    #提示输入一个数，按q退出\n",
    "    first_number = input(\"\\nFirst number:\")\n",
    "    if first_number == 'q':\n",
    "        break\n",
    "    #输入第二个数，按q退出\n",
    "    second_number = input(\"Second number:\")\n",
    "    if second_number == 'q':\n",
    "        break\n",
    "    #输出答案，即第一个数除以第二个数\n",
    "    try:\n",
    "        answer = int(first_number)/int(second_number)\n",
    "    #可能引发错误的代码放在try-except\n",
    "    except ZeroDivisionError:\n",
    "        print(\"You can't divide by 0!\")\n",
    "    #try成功执行才需要继续执行的代码放在else\n",
    "    else:\n",
    "        print(answer)"
   ]
  },
  {
   "cell_type": "code",
   "execution_count": null,
   "id": "b1daf631-a62b-4600-8e68-1688567548cf",
   "metadata": {},
   "outputs": [],
   "source": [
    "#10.3.5 处理FileNotFoundError异常\n",
    "from pathlib import Path\n",
    "\n",
    "path = Path('alice.txt')\n",
    "contents = path.read_text(encoding='utf-8')"
   ]
  },
  {
   "cell_type": "code",
   "execution_count": null,
   "id": "fd1b97e2-0b43-4db6-ae6d-307f6f2086a4",
   "metadata": {},
   "outputs": [],
   "source": [
    "from pathlib import Path\n",
    "\n",
    "path = Path('alice.txt')\n",
    "try:\n",
    "    contents = path.read_text(encoding='utf-8')\n",
    "except FileNotFoundError:\n",
    "    print(f\"Sorry, the file {path} does not exist\")"
   ]
  },
  {
   "cell_type": "code",
   "execution_count": null,
   "id": "a92edd46-e77e-480b-9b64-2e653e384274",
   "metadata": {},
   "outputs": [],
   "source": [
    "#10.3.6 分析文本\n",
    "from pathlib import Path\n",
    "\n",
    "path = Path('alice.txt')\n",
    "try:\n",
    "    contents = path.read_text(encoding='utf-8')\n",
    "except FileNotFoundError:\n",
    "    print(f\"Sorry, the file {path} does not exist\")\n",
    "else:\n",
    "    #计算文件大致包含多少个单词\n",
    "    words = contents.split()#split()方法默认以空白为分隔符将字符串拆分成多个部分\n",
    "    num_words = len(words)\n",
    "    print(f\"The file{path} has about {num_words} words.\")"
   ]
  },
  {
   "cell_type": "code",
   "execution_count": null,
   "id": "84cb95b5-be1c-4753-b3ed-5cee5500ad09",
   "metadata": {},
   "outputs": [],
   "source": [
    "words[:20]"
   ]
  },
  {
   "cell_type": "code",
   "execution_count": null,
   "id": "ff76f372-2b76-42a6-85d3-8d28d9660dfa",
   "metadata": {},
   "outputs": [],
   "source": [
    "#10.3.7 使用多个文件\n",
    "from pathlib import Path\n",
    "\n",
    "def count_words(path):\n",
    "    \"\"\"计算一个文件大致包含多少个单词\"\"\"\n",
    "    try:\n",
    "        contents = path.read_text(encoding='utf-8')\n",
    "    except FileNotFoundError:\n",
    "        print(f\"Sorry, the file {path} does not exist\")\n",
    "    else:\n",
    "        #计算文件大致包含多少个单词\n",
    "        words = contents.split()#split()方法默认以空白为分隔符将字符串拆分成多个部分\n",
    "        num_words = len(words)\n",
    "        print(f\"The file{path} has about {num_words} words.\")\n",
    "\n",
    "path = Path('alice.txt')\n",
    "count_words(path)"
   ]
  },
  {
   "cell_type": "code",
   "execution_count": null,
   "id": "3b61f47f-7ec6-4c98-8527-40cd35416e7f",
   "metadata": {},
   "outputs": [],
   "source": [
    "from pathlib import Path\n",
    "\n",
    "def count_words(path):\n",
    "    \"\"\"计算一个文件大致包含多少个单词\"\"\"\n",
    "    try:\n",
    "        contents = path.read_text(encoding='utf-8')\n",
    "    except FileNotFoundError:\n",
    "        print(f\"Sorry, the file {path} does not exist\")\n",
    "    else:\n",
    "        #计算文件大致包含多少个单词\n",
    "        words = contents.split()#split()方法默认以空白为分隔符将字符串拆分成多个部分\n",
    "        num_words = len(words)\n",
    "        print(f\"The file{path} has about {num_words} words.\")\n",
    "\n",
    "filenames = ['alice.txt', 'siddhartha.txt', 'moby_dick.txt', 'little_women.txt']\n",
    "for filename in filenames:\n",
    "    path = Path(filename)\n",
    "    count_words(path)"
   ]
  },
  {
   "cell_type": "code",
   "execution_count": null,
   "id": "762da099-1ad0-4a8b-b676-b34cca41b58f",
   "metadata": {},
   "outputs": [],
   "source": [
    "#10.3.8 静默失败\n",
    "from pathlib import Path\n",
    "\n",
    "def count_words(path):\n",
    "    \"\"\"计算一个文件大致包含多少个单词\"\"\"\n",
    "    try:\n",
    "        contents = path.read_text(encoding='utf-8')\n",
    "    except FileNotFoundError:\n",
    "        pass\n",
    "    else:\n",
    "        #计算文件大致包含多少个单词\n",
    "        words = contents.split()#split()方法默认以空白为分隔符将字符串拆分成多个部分\n",
    "        num_words = len(words)\n",
    "        print(f\"The file{path} has about {num_words} words.\")\n",
    "\n",
    "filenames = ['alice.txt', 'siddhartha.txt', 'moby_dick.txt', 'little_women.txt']\n",
    "for filename in filenames:\n",
    "    path = Path(filename)\n",
    "    count_words(path)"
   ]
  },
  {
   "cell_type": "code",
   "execution_count": null,
   "id": "92f6d5b6-66d4-4a7d-af33-0b9b483cb6d5",
   "metadata": {},
   "outputs": [],
   "source": [
    "#10.4 存储数据\n",
    "#10.4.1 使用json.dumps()和json.loads()\n",
    "from pathlib import Path\n",
    "import json\n",
    "\n",
    "numbers = [2, 4, 5, 8, 77, 78]\n",
    "\n",
    "#将数值列表存储到numbers.json中\n",
    "path = Path('numbers.json')\n",
    "#使用json.dumps()函数生成字符串，包含数据的JSON表现形式\n",
    "contents = json.dumps(numbers)\n",
    "path.write_text(contents)"
   ]
  },
  {
   "cell_type": "code",
   "execution_count": null,
   "id": "f98d154b-e28f-480c-97fa-1f4426d97351",
   "metadata": {},
   "outputs": [],
   "source": [
    "print(contents)"
   ]
  },
  {
   "cell_type": "code",
   "execution_count": null,
   "id": "26158173-286e-40a3-bdb8-bda080d0df93",
   "metadata": {},
   "outputs": [],
   "source": [
    "from pathlib import Path\n",
    "import json\n",
    "\n",
    "path = Path('numbers.json')\n",
    "contents = path.read_text()\n",
    "numbers = json.loads(contents)\n",
    "\n",
    "print(numbers)"
   ]
  },
  {
   "cell_type": "code",
   "execution_count": null,
   "id": "5c9b6878-13d2-41e8-984a-613a7de2a3f2",
   "metadata": {},
   "outputs": [],
   "source": [
    "#10.4.2 保存和读取用户生成的数据\n",
    "from pathlib import Path\n",
    "import json\n",
    "\n",
    "username = input(\"What is your name?\")\n",
    "\n",
    "path = Path('username.json')\n",
    "contents = json.dumps(username)\n",
    "path.write_text(contents)\n",
    "\n",
    "print(f\"We will remember you when you come back, {username}!\")"
   ]
  },
  {
   "cell_type": "code",
   "execution_count": null,
   "id": "64557087-1650-4ae6-83e8-13a5996d301a",
   "metadata": {},
   "outputs": [],
   "source": [
    "from pathlib import Path\n",
    "import json\n",
    "\n",
    "path = Path('username.json')\n",
    "contents = path.read_text()\n",
    "username = json.loads(contents)\n",
    "\n",
    "print(f\"Welcome back, {username}!\")"
   ]
  },
  {
   "cell_type": "code",
   "execution_count": null,
   "id": "a7de71c7-b332-4779-b785-a01f33d65091",
   "metadata": {},
   "outputs": [],
   "source": [
    "contents"
   ]
  },
  {
   "cell_type": "code",
   "execution_count": null,
   "id": "e01eef7c-d254-415f-86e4-2f73ad4b9023",
   "metadata": {},
   "outputs": [],
   "source": [
    "username"
   ]
  },
  {
   "cell_type": "code",
   "execution_count": null,
   "id": "def60660-d7e2-4416-84f3-4b055b035bce",
   "metadata": {},
   "outputs": [],
   "source": [
    "from pathlib import Path\n",
    "import json\n",
    "\n",
    "path = Path('username.json')\n",
    "if path.exists():\n",
    "    contents = path.read_text()\n",
    "    username = json.loads(contents)\n",
    "    print(f\"Welcome back, {username}!\")\n",
    "else:\n",
    "    username = input(\"What is your name?\")\n",
    "    contents = json.dumps(username)\n",
    "    path.write_text(contents)\n",
    "    print(f\"We will remember you when you come back, {username}!\")"
   ]
  },
  {
   "cell_type": "code",
   "execution_count": null,
   "id": "6d622e8c-fc81-4fbe-9114-2372b39f0b27",
   "metadata": {},
   "outputs": [],
   "source": [
    "#10.4.3 重构\n",
    "from pathlib import Path\n",
    "import json\n",
    "\n",
    "def greet_user():\n",
    "    \"\"\"问候用户，并指出其名字\"\"\"\n",
    "    path = Path('username.json')\n",
    "    if path.exists():#如果文件存在，则返回True\n",
    "        contents = path.read_text()#读取特殊格式的文本文件\n",
    "        username = json.loads(contents)#文件的内容传给函数，这个函数将json格式的字符串作为参数返回应该python对象\n",
    "        print(f\"Welcome back, {username}!\")\n",
    "    else:\n",
    "        username = input(\"What is your name?\")\n",
    "        contents = json.dumps(username)#dumps函数生成应该字符串\n",
    "        path.write_text(contents)#写入文件\n",
    "        print(f\"We will remember you when you come back, {username}!\")\n",
    "\n",
    "greet_user()"
   ]
  },
  {
   "cell_type": "code",
   "execution_count": null,
   "id": "3635c142-1187-47db-8a0e-ba01ed129261",
   "metadata": {},
   "outputs": [],
   "source": [
    "from pathlib import Path\n",
    "import json\n",
    "\n",
    "def get_stored_username(path):\n",
    "    \"\"\"如果存储了用户名，就获取它\"\"\"\n",
    "    if path.exists():#如果文件存在，则返回True\n",
    "        contents = path.read_text()#读取特殊格式的文本文件\n",
    "        username = json.loads(contents)#文件的内容传给函数，这个函数将json格式的字符串作为参数返回应该python对象\n",
    "        return username\n",
    "    else:\n",
    "        return None\n",
    "\n",
    "def greet_user():\n",
    "    \"\"\"问候用户并指出其名字\"\"\"\n",
    "    path = Path('username.json')\n",
    "    username = get_stored_username(path)\n",
    "    if username:\n",
    "        print(f\"Welcome back, {username}!\")\n",
    "    else:\n",
    "        username = input(\"What is your name?\")\n",
    "        contents = json.dumps(username)#dumps函数生成应该字符串\n",
    "        path.write_text(contents)#写入文件\n",
    "        print(f\"We will remember you when you come back, {username}!\")\n",
    "\n",
    "greet_user()\n"
   ]
  },
  {
   "cell_type": "code",
   "execution_count": null,
   "id": "80d54375-ae95-41e9-ba26-206b3a3b493e",
   "metadata": {},
   "outputs": [],
   "source": [
    "from pathlib import Path\n",
    "import json\n",
    "\n",
    "def get_stored_username(path):\n",
    "    \"\"\"如果存储了用户名，就获取它\"\"\"\n",
    "    if path.exists():#如果文件存在，则返回True\n",
    "        contents = path.read_text()#读取特殊格式的文本文件\n",
    "        username = json.loads(contents)#文件的内容传给函数，这个函数将json格式的字符串作为参数返回应该python对象\n",
    "        return username\n",
    "    else:\n",
    "        return None\n",
    "\n",
    "def get_new_username(path):\n",
    "    \"\"\"提示用户输入用户名\"\"\"\n",
    "    username = input(\"What is your name?\")\n",
    "    contents = json.dumps(username)#dumps函数生成应该字符串\n",
    "    path.write_text(contents)#写入文件\n",
    "    return username\n",
    "    \n",
    "def greet_user():\n",
    "    \"\"\"问候用户并指出其名字\"\"\"\n",
    "    path = Path('username.json')\n",
    "    username = get_stored_username(path)\n",
    "    if username:\n",
    "        print(f\"Welcome back, {username}!\")\n",
    "    else:\n",
    "        username = get_new_username(path)\n",
    "        print(f\"We will remember you when you come back, {username}!\")\n",
    "\n",
    "greet_user()"
   ]
  },
  {
   "cell_type": "code",
   "execution_count": 2,
   "id": "47cf26a2-30e0-4649-bbd9-77b4bce4a193",
   "metadata": {},
   "outputs": [
    {
     "ename": "FileNotFoundError",
     "evalue": "[Errno 2] No such file or directory: 'learning_python.txt'",
     "output_type": "error",
     "traceback": [
      "\u001b[1;31m---------------------------------------------------------------------------\u001b[0m",
      "\u001b[1;31mFileNotFoundError\u001b[0m                         Traceback (most recent call last)",
      "Cell \u001b[1;32mIn[2], line 6\u001b[0m\n\u001b[0;32m      3\u001b[0m \u001b[38;5;28;01mfrom\u001b[39;00m \u001b[38;5;21;01mpathlib\u001b[39;00m \u001b[38;5;28;01mimport\u001b[39;00m Path\n\u001b[0;32m      5\u001b[0m path \u001b[38;5;241m=\u001b[39m Path(\u001b[38;5;124m'\u001b[39m\u001b[38;5;124mlearning_python.txt\u001b[39m\u001b[38;5;124m'\u001b[39m)\n\u001b[1;32m----> 6\u001b[0m contents \u001b[38;5;241m=\u001b[39m path\u001b[38;5;241m.\u001b[39mread_text()\n\u001b[0;32m      7\u001b[0m \u001b[38;5;28mprint\u001b[39m(contents)\n",
      "File \u001b[1;32m~\\anaconda3\\Lib\\pathlib.py:1058\u001b[0m, in \u001b[0;36mPath.read_text\u001b[1;34m(self, encoding, errors)\u001b[0m\n\u001b[0;32m   1054\u001b[0m \u001b[38;5;250m\u001b[39m\u001b[38;5;124;03m\"\"\"\u001b[39;00m\n\u001b[0;32m   1055\u001b[0m \u001b[38;5;124;03mOpen the file in text mode, read it, and close the file.\u001b[39;00m\n\u001b[0;32m   1056\u001b[0m \u001b[38;5;124;03m\"\"\"\u001b[39;00m\n\u001b[0;32m   1057\u001b[0m encoding \u001b[38;5;241m=\u001b[39m io\u001b[38;5;241m.\u001b[39mtext_encoding(encoding)\n\u001b[1;32m-> 1058\u001b[0m \u001b[38;5;28;01mwith\u001b[39;00m \u001b[38;5;28mself\u001b[39m\u001b[38;5;241m.\u001b[39mopen(mode\u001b[38;5;241m=\u001b[39m\u001b[38;5;124m'\u001b[39m\u001b[38;5;124mr\u001b[39m\u001b[38;5;124m'\u001b[39m, encoding\u001b[38;5;241m=\u001b[39mencoding, errors\u001b[38;5;241m=\u001b[39merrors) \u001b[38;5;28;01mas\u001b[39;00m f:\n\u001b[0;32m   1059\u001b[0m     \u001b[38;5;28;01mreturn\u001b[39;00m f\u001b[38;5;241m.\u001b[39mread()\n",
      "File \u001b[1;32m~\\anaconda3\\Lib\\pathlib.py:1044\u001b[0m, in \u001b[0;36mPath.open\u001b[1;34m(self, mode, buffering, encoding, errors, newline)\u001b[0m\n\u001b[0;32m   1042\u001b[0m \u001b[38;5;28;01mif\u001b[39;00m \u001b[38;5;124m\"\u001b[39m\u001b[38;5;124mb\u001b[39m\u001b[38;5;124m\"\u001b[39m \u001b[38;5;129;01mnot\u001b[39;00m \u001b[38;5;129;01min\u001b[39;00m mode:\n\u001b[0;32m   1043\u001b[0m     encoding \u001b[38;5;241m=\u001b[39m io\u001b[38;5;241m.\u001b[39mtext_encoding(encoding)\n\u001b[1;32m-> 1044\u001b[0m \u001b[38;5;28;01mreturn\u001b[39;00m io\u001b[38;5;241m.\u001b[39mopen(\u001b[38;5;28mself\u001b[39m, mode, buffering, encoding, errors, newline)\n",
      "\u001b[1;31mFileNotFoundError\u001b[0m: [Errno 2] No such file or directory: 'learning_python.txt'"
     ]
    }
   ],
   "source": [
    "#练习\n",
    "#10.1 Python学习笔记\n",
    "from pathlib import Path\n",
    "\n",
    "path = Path('learning_python.txt')\n",
    "contents = path.read_text()\n",
    "print(contents)"
   ]
  },
  {
   "cell_type": "code",
   "execution_count": null,
   "id": "f1858532-4ef5-4dfe-b95f-1ff4089e9fb4",
   "metadata": {},
   "outputs": [],
   "source": [
    "from pathlib import Path\n",
    "\n",
    "path = Path('learning_python.txt')\n",
    "contents = path.read_text()\n",
    "\n",
    "lines = contents.splitlines()\n",
    "for line in lines:\n",
    "    print(line)\n",
    "\n",
    "print(lines)"
   ]
  },
  {
   "cell_type": "code",
   "execution_count": null,
   "id": "248827e4-34b5-44ca-8e1e-feb85d6487bc",
   "metadata": {},
   "outputs": [],
   "source": [
    "#10.2 C语言学习笔记\n",
    "from pathlib import Path\n",
    "\n",
    "path = Path('learning_python.txt')\n",
    "contents = path.read_text()\n",
    "\n",
    "lines = contents.splitlines()\n",
    "for line in lines:\n",
    "    line = line.replace('Python', 'C')\n",
    "    print(line)"
   ]
  },
  {
   "cell_type": "code",
   "execution_count": null,
   "id": "45a6f76d-e830-43d7-bb9f-2e7dd881eb90",
   "metadata": {},
   "outputs": [],
   "source": [
    "#10.3 简化代码\n",
    "from pathlib import Path\n",
    "\n",
    "path = Path('learning_python.txt')\n",
    "contents = path.read_text()\n",
    "\n",
    "for line in contents.splitlines():\n",
    "    line = line.replace('Python', 'C')\n",
    "    print(line)"
   ]
  },
  {
   "cell_type": "code",
   "execution_count": null,
   "id": "2384c396-f430-4e56-9f0c-b70a726ff253",
   "metadata": {},
   "outputs": [],
   "source": [
    "#10.4 访客\n",
    "from pathlib import Path\n",
    "\n",
    "content = input(\"Enter your name:\")\n",
    "\n",
    "path = Path('guest.txt')\n",
    "path.write_text(content)"
   ]
  },
  {
   "cell_type": "code",
   "execution_count": null,
   "id": "4a7670e6-9002-4480-8331-e1b0d47378f1",
   "metadata": {},
   "outputs": [],
   "source": [
    "#10.5 访客簿\n",
    "from pathlib import Path\n",
    "\n",
    "#将提示词赋给变量prompt\n",
    "prompt = 'What is your name?'\n",
    "prompt += \"Enter 'quit' to quit\"\n",
    "\n",
    "names = []\n",
    "while True:\n",
    "    #提示用户输入名字并赋给name，加入列表names\n",
    "    name = input(prompt)\n",
    "    if name == 'quit':\n",
    "        break\n",
    "    else:\n",
    "        names.append(name)\n",
    "\n",
    "contents = ''\n",
    "path = Path('guest_book.txt')\n",
    "for name in names:\n",
    "    contents += f'{name}\\n'\n",
    "\n",
    "path.write_text(contents)"
   ]
  },
  {
   "cell_type": "code",
   "execution_count": null,
   "id": "b1d82ea7-a8de-4a1d-96a2-aeda67d12a1b",
   "metadata": {},
   "outputs": [],
   "source": [
    "#10.6 加法运算\n",
    "try:\n",
    "    num_0 = input('Please enter a number:')\n",
    "    num_1 = input('Please enter another number:')\n",
    "    num_0 = int(num_0)\n",
    "    num_1 = int(num_1)\n",
    "except ValueError:\n",
    "    print('Sorry, your input is not a number.')\n",
    "else:\n",
    "    sum = num_0 + num_1\n",
    "    print(f'The sum of {num_0} and {num_1} is {sum}.'"
   ]
  },
  {
   "cell_type": "code",
   "execution_count": null,
   "id": "d15a4d54-f3dd-4752-b869-a1ea42634a9d",
   "metadata": {},
   "outputs": [],
   "source": [
    "try:\n",
    "    num_0 = input('Please enter a number:')\n",
    "    num_1 = input('Please enter another number:')\n",
    "    num_0 = int(num_0)\n",
    "    num_1 = int(num_1)\n",
    "except ValueError:\n",
    "    print('Sorry, your input is not a number.')\n",
    "else:\n",
    "    sum = num_0 + num_1\n",
    "    print(f'The sum of {num_0} and {num_1} is {sum}.')"
   ]
  },
  {
   "cell_type": "code",
   "execution_count": null,
   "id": "e1016b89-af2a-4af2-8dde-ebcb2c58b0b1",
   "metadata": {},
   "outputs": [],
   "source": [
    "#10.7 加法计算器\n",
    "print(\"Enter 'q' to quit at any time\") \n",
    "while True:\n",
    "    try:\n",
    "        num_0 = input('Please enter a number:')\n",
    "        if num_0 == 'q':\n",
    "            break\n",
    "        num_1 = input('Please enter another number:')\n",
    "        if num_1 == 'q':\n",
    "            break\n",
    "        num_0 = int(num_0)\n",
    "        num_1 = int(num_1)\n",
    "    except ValueError:\n",
    "        print('Sorry, your input is not a number.')\n",
    "    else:\n",
    "        sum = num_0 + num_1\n",
    "        print(f'The sum of {num_0} and {num_1} is {sum}.')"
   ]
  },
  {
   "cell_type": "code",
   "execution_count": null,
   "id": "18b3478d-1b97-4ddb-8404-26d0f0e32e1e",
   "metadata": {},
   "outputs": [],
   "source": [
    "#10.8 猫和狗\n",
    "from pathlib import Path\n",
    "\n",
    "files = ['dogs.txt', 'cats.txt']\n",
    "\n",
    "for file in files:\n",
    "    path = Path(file)\n",
    "    try:\n",
    "        contents = path.read_text()\n",
    "    except FileNotFoundError:\n",
    "        print(f'Sorry, the file {file} does not exist.')\n",
    "    else:\n",
    "        print(contents)"
   ]
  },
  {
   "cell_type": "code",
   "execution_count": null,
   "id": "ebf232a5-dbe4-480e-8717-86091f50673f",
   "metadata": {},
   "outputs": [],
   "source": [
    "#10.9 静默的猫和狗\n",
    "from pathlib import Path\n",
    "\n",
    "files = ['dogs.txt', 'cats.txt']\n",
    "\n",
    "for file in files:\n",
    "    path = Path(file)\n",
    "    try:\n",
    "        contents = path.read_text()\n",
    "    except FileNotFoundError:\n",
    "        pass\n",
    "    else:\n",
    "        print(contents)"
   ]
  },
  {
   "cell_type": "code",
   "execution_count": null,
   "id": "c54ed47f-4caf-4d75-952a-d0d29c222d61",
   "metadata": {},
   "outputs": [],
   "source": [
    "#10.10 常见单词\n",
    "from pathlib import Path\n",
    "\n",
    "def count_words(file, word):\n",
    "    \"\"\"数文本内特定单词出现的次数，可能会有误差\"\"\"\n",
    "    path = Path(file)\n",
    "    try:\n",
    "        contents = path.read_text(encoding='utf-8')\n",
    "    except FileNotFoundError:\n",
    "        pass\n",
    "    else:\n",
    "        count_words = contents.lower().count(word)\n",
    "        print(f\"'{word}' appears about {count_words} times in {file}.\")\n",
    "\n",
    "count_words('alice.txt', 'the')"
   ]
  },
  {
   "cell_type": "code",
   "execution_count": null,
   "id": "3d4375e1-3eed-42e0-8da9-d796402d62ea",
   "metadata": {},
   "outputs": [],
   "source": [
    "#10.11 喜欢的数\n",
    "from pathlib import Path\n",
    "import json\n",
    "\n",
    "f_num = input('What is your favorite number?')\n",
    "\n",
    "path = Path('favorite_number.json')\n",
    "contents = json.dumps(f_num)\n",
    "path.write_text(contents)"
   ]
  },
  {
   "cell_type": "code",
   "execution_count": null,
   "id": "39a1c5b8-f75f-435a-8c5b-d0c34d117853",
   "metadata": {},
   "outputs": [],
   "source": [
    "number = json.loads(contents)\n",
    "print(f'I know your favorte number, it is {number}.')"
   ]
  },
  {
   "cell_type": "code",
   "execution_count": null,
   "id": "3bc13e9a-98d2-428e-a7b5-0636f73a0303",
   "metadata": {},
   "outputs": [],
   "source": [
    "#10.12 记住喜欢的数\n",
    "from pathlib import Path\n",
    "import json\n",
    "\n",
    "path = Path('favorite_number.json')\n",
    "if path.exists():\n",
    "    contents = path.read_text()\n",
    "    number = json.loads(contents)\n",
    "    print(f'I know your favorte number, it is {number}.')\n",
    "else:\n",
    "    f_num = input('What is your favorite number?')\n",
    "    path = Path('favorite_number.json')\n",
    "    contents = json.dumps(f_num)\n",
    "    path.write_text(contents)\n",
    "    print('I will remember your favorite number.')"
   ]
  },
  {
   "cell_type": "code",
   "execution_count": null,
   "id": "76374911-128b-45cb-bb76-de2647d41b71",
   "metadata": {},
   "outputs": [],
   "source": [
    "#10.13 用户字典\n",
    "from pathlib import Path\n",
    "import json\n",
    "\n",
    "def get_stored_info(path):\n",
    "    \"\"\"如果用户存储了信息，读取它\"\"\"\n",
    "    if path.exists():#如果文件存在，则返回True\n",
    "        contents = path.read_text()#读取特殊格式的文本文件\n",
    "        user_dict = json.loads(contents)#文件的内容传给函数，这个函数将json格式的字符串作为参数返回应该python对象\n",
    "        return user_dict\n",
    "    else:\n",
    "        return None\n",
    "\n",
    "def get_new_info(path):\n",
    "    \"\"\"提示用户输入信息\"\"\"\n",
    "    username = input(\"What is your name?\")\n",
    "    favorite_number = input(\"What is your favorite number?\")\n",
    "\n",
    "    user_dict = {'username':username, 'number':favorite_number}\n",
    "    contents = json.dumps(user_dict)#dumps函数生成应该字符串\n",
    "    path.write_text(contents)#写入文件\n",
    "    return user_dict\n",
    "    \n",
    "def greet_user():\n",
    "    \"\"\"问候用户并指出其信息\"\"\"\n",
    "    path = Path('user_info.json')\n",
    "    user_dict = get_stored_info(path)\n",
    "    if user_dict:\n",
    "        print(f\"Welcome back, {user_dict['username']}!\")\n",
    "        print(f\"I know your favorite number is {user_dict['number']}.\")\n",
    "    else:\n",
    "        user_dict = get_new_info(path)\n",
    "        print(f\"We will remember you when you come back, {user_dict['username']}!\")\n",
    "\n",
    "greet_user()"
   ]
  },
  {
   "cell_type": "code",
   "execution_count": null,
   "id": "95a19d54-4876-40fe-806a-136ed611b45e",
   "metadata": {},
   "outputs": [],
   "source": [
    "10.14 验证用户\n",
    "from pathlib import Path\n",
    "import json\n",
    "\n",
    "def get_stored_username(path):\n",
    "    \"\"\"Get stored username if available.\"\"\"\n",
    "    if path.exists():\n",
    "        contents = path.read_text()\n",
    "        username = json.loads(contents)\n",
    "        return username\n",
    "    else:\n",
    "        return None\n",
    "\n",
    "def get_new_username(path):\n",
    "    \"\"\"Prompt for a new username.\"\"\"\n",
    "    username = input(\"What is your name? \")\n",
    "    contents = json.dumps(username)\n",
    "    path.write_text(contents)\n",
    "    return username\n",
    "\n",
    "def greet_user():\n",
    "    \"\"\"Greet the user by name.\"\"\"\n",
    "    path = Path('username.json')\n",
    "    username = get_stored_username(path)\n",
    "    if username:\n",
    "        correct = input(f\"Are you {username}? (y/n) \")\n",
    "        if correct == 'y':\n",
    "            print(f\"Welcome back, {username}!\")\n",
    "        else:\n",
    "            username = get_new_username(path)\n",
    "            print(f\"We'll remember you when you come back, {username}!\")    \n",
    "    else:\n",
    "        username = get_new_username(path)\n",
    "        print(f\"We'll remember you when you come back, {username}!\")\n",
    "\n",
    "greet_user()"
   ]
  }
 ],
 "metadata": {
  "kernelspec": {
   "display_name": "Python 3 (ipykernel)",
   "language": "python",
   "name": "python3"
  },
  "language_info": {
   "codemirror_mode": {
    "name": "ipython",
    "version": 3
   },
   "file_extension": ".py",
   "mimetype": "text/x-python",
   "name": "python",
   "nbconvert_exporter": "python",
   "pygments_lexer": "ipython3",
   "version": "3.11.7"
  }
 },
 "nbformat": 4,
 "nbformat_minor": 5
}
