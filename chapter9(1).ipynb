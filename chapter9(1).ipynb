{
 "cells": [
  {
   "cell_type": "code",
   "execution_count": 1,
   "id": "4f8754f9-57e2-4c54-b03b-9203ee1620c1",
   "metadata": {},
   "outputs": [],
   "source": [
    "#第9章 类\n",
    "#9.1 创建和使用类\n",
    "#9.1.1 创建 Dog类\n",
    "class Dog:\n",
    "    \"\"\"一次模拟小狗的简单尝试\"\"\"\n",
    "\n",
    "    #_init_()方法是特殊方法，根据类创建实例时会自动运行它，务必确保前后都有两个下划线\n",
    "    def __init__(self, name, age):\n",
    "        \"\"\"初始化属性name和age\"\"\"\n",
    "        self.name = name\n",
    "        self.age = age\n",
    "\n",
    "    def sit(self):\n",
    "        \"\"\"模拟小狗收到命令时坐下\"\"\"\n",
    "        print(f\"{self.name} is now sitting.\")\n",
    "\n",
    "    def roll_over(self):\n",
    "        \"\"\"模拟小狗收到命令时打滚\"\"\"\n",
    "        print(f\"{self.name} rolled over!\")"
   ]
  },
  {
   "cell_type": "code",
   "execution_count": 2,
   "id": "b4d6c752-5063-42ee-aacd-477a7b182db5",
   "metadata": {},
   "outputs": [
    {
     "name": "stdout",
     "output_type": "stream",
     "text": [
      "My dog's name is Willie.\n",
      "My dog is 6 years old.\n"
     ]
    }
   ],
   "source": [
    "#9.1.2 根据类创建实例\n",
    "class Dog:\n",
    "    \"\"\"一次模拟小狗的简单尝试\"\"\"\n",
    "\n",
    "    #_init_()方法是特殊方法，根据类创建实例时会自动运行它，务必确保前后都有下划线\n",
    "    def __init__(self, name, age):\n",
    "        \"\"\"初始化属性name和age\"\"\"\n",
    "        self.name = name\n",
    "        self.age = age\n",
    "\n",
    "    def sit(self):\n",
    "        \"\"\"模拟小狗收到命令时坐下\"\"\"\n",
    "        print(f\"{self.name} is now sitting.\")\n",
    "\n",
    "    def roll_over(self):\n",
    "        \"\"\"模拟小狗收到命令时打滚\"\"\"\n",
    "        print(f\"{self.name} rolled over!\")\n",
    "\n",
    "my_dog = Dog('Willie', 6)\n",
    "\n",
    "print(f\"My dog's name is {my_dog.name}.\")\n",
    "print(f\"My dog is {my_dog.age} years old.\")"
   ]
  },
  {
   "cell_type": "code",
   "execution_count": 3,
   "id": "7ef9dd9b-e00d-454d-aa7b-d2f4344344d6",
   "metadata": {},
   "outputs": [
    {
     "data": {
      "text/plain": [
       "'Willie'"
      ]
     },
     "execution_count": 3,
     "metadata": {},
     "output_type": "execute_result"
    }
   ],
   "source": [
    "##访问属性\n",
    "my_dog.name"
   ]
  },
  {
   "cell_type": "code",
   "execution_count": 4,
   "id": "0363e693-c461-47f6-98b7-a98d35ad1d33",
   "metadata": {},
   "outputs": [
    {
     "name": "stdout",
     "output_type": "stream",
     "text": [
      "Willie is now sitting.\n",
      "Willie rolled over!\n"
     ]
    }
   ],
   "source": [
    "class Dog:\n",
    "    \"\"\"一次模拟小狗的简单尝试\"\"\"\n",
    "\n",
    "    #_init_()方法是特殊方法，根据类创建实例时会自动运行它，务必确保前后都有两个下划线\n",
    "    def __init__(self, name, age):\n",
    "        \"\"\"初始化属性name和age\"\"\"\n",
    "        self.name = name\n",
    "        self.age = age\n",
    "\n",
    "    def sit(self):\n",
    "        \"\"\"模拟小狗收到命令时坐下\"\"\"\n",
    "        print(f\"{self.name} is now sitting.\")\n",
    "\n",
    "    def roll_over(self):\n",
    "        \"\"\"模拟小狗收到命令时打滚\"\"\"\n",
    "        print(f\"{self.name} rolled over!\")\n",
    "\n",
    "#调用方法\n",
    "my_dog = Dog('Willie', 6)\n",
    "my_dog.sit()\n",
    "my_dog.roll_over()"
   ]
  },
  {
   "cell_type": "code",
   "execution_count": 5,
   "id": "26424a74-cc08-4587-9cdb-990c7f6b224c",
   "metadata": {},
   "outputs": [
    {
     "name": "stdout",
     "output_type": "stream",
     "text": [
      "My dog's name is Willie.\n",
      "My dog is 6 years old.\n",
      "Willie is now sitting.\n",
      "\n",
      "Your dog's name is Lucy.\n",
      "Your dog is 3 years old.\n",
      "Lucy is now sitting.\n"
     ]
    }
   ],
   "source": [
    "class Dog:\n",
    "    \"\"\"一次模拟小狗的简单尝试\"\"\"\n",
    "\n",
    "    #_init_()方法是特殊方法，根据类创建实例时会自动运行它，务必确保前后都有下划线\n",
    "    def __init__(self, name, age):\n",
    "        \"\"\"初始化属性name和age\"\"\"\n",
    "        self.name = name\n",
    "        self.age = age\n",
    "\n",
    "    def sit(self):\n",
    "        \"\"\"模拟小狗收到命令时坐下\"\"\"\n",
    "        print(f\"{self.name} is now sitting.\")\n",
    "\n",
    "    def roll_over(self):\n",
    "        \"\"\"模拟小狗收到命令时打滚\"\"\"\n",
    "        print(f\"{self.name} rolled over!\")\n",
    "\n",
    "#创建多个实例\n",
    "my_dog = Dog('Willie', 6)\n",
    "your_dog = Dog('Lucy', 3)\n",
    "\n",
    "print(f\"My dog's name is {my_dog.name}.\")\n",
    "print(f\"My dog is {my_dog.age} years old.\")\n",
    "my_dog.sit()\n",
    "\n",
    "print(f\"\\nYour dog's name is {your_dog.name}.\")\n",
    "print(f\"Your dog is {your_dog.age} years old.\")\n",
    "your_dog.sit()"
   ]
  },
  {
   "cell_type": "code",
   "execution_count": 6,
   "id": "ebe1e93d-3cd9-4d2d-9dcc-6bd088de4fab",
   "metadata": {},
   "outputs": [
    {
     "name": "stdout",
     "output_type": "stream",
     "text": [
      "2024 Audi A4\n"
     ]
    }
   ],
   "source": [
    "#9.2 使用类和实例\n",
    "#9.2.1 Car类\n",
    "class Car:\n",
    "    \"\"\"一次模拟汽车的简单尝试\"\"\"\n",
    "\n",
    "    def __init__(self, make, model, year):\n",
    "        \"\"\"初始化描述汽车的属性\"\"\"\n",
    "        self.make = make\n",
    "        self.model = model\n",
    "        self.year = year\n",
    "\n",
    "    def get_descriptive_name(self):\n",
    "        \"\"\"返回格式规范的描述性信息\"\"\"\n",
    "        long_name = f\"{self.year} {self.make} {self.model}\"\n",
    "        return long_name.title()\n",
    "\n",
    "my_new_car = Car('audi', 'a4', 2024)\n",
    "print(my_new_car.get_descriptive_name())"
   ]
  },
  {
   "cell_type": "code",
   "execution_count": 7,
   "id": "d7b6587e-feb6-4069-8914-577f233af50b",
   "metadata": {},
   "outputs": [
    {
     "name": "stdout",
     "output_type": "stream",
     "text": [
      "2024 Audi A4\n",
      "This car has 0 miles on it.\n"
     ]
    }
   ],
   "source": [
    "#9.2.2 给属性指定默认值\n",
    "class Car:\n",
    "    \"\"\"一次模拟汽车的简单尝试\"\"\"\n",
    "\n",
    "    def __init__(self, make, model, year):\n",
    "        \"\"\"初始化描述汽车的属性\"\"\"\n",
    "        self.make = make\n",
    "        self.model = model\n",
    "        self.year = year\n",
    "        self.odometer_reading = 0\n",
    "\n",
    "    def get_descriptive_name(self):\n",
    "        \"\"\"返回格式规范的描述性信息\"\"\"\n",
    "        long_name = f\"{self.year} {self.make} {self.model}\"\n",
    "        return long_name.title()\n",
    "\n",
    "    def read_odometer(self):\n",
    "        \"\"\"打印一条指出汽车行驶里程的消息\"\"\"\n",
    "        print(f\"This car has {self.odometer_reading} miles on it.\")\n",
    "        \n",
    "my_new_car = Car('audi', 'a4', 2024)\n",
    "print(my_new_car.get_descriptive_name())\n",
    "my_new_car.read_odometer()"
   ]
  },
  {
   "cell_type": "code",
   "execution_count": 8,
   "id": "7ab123eb-8ea5-4321-abf2-124b19973a91",
   "metadata": {},
   "outputs": [
    {
     "name": "stdout",
     "output_type": "stream",
     "text": [
      "2024 Audi A4\n",
      "This car has 23 miles on it.\n"
     ]
    }
   ],
   "source": [
    "#9.2.3 修改属性的值\n",
    "#直接修改属性的值\n",
    "my_new_car = Car('audi', 'a4', 2024)\n",
    "print(my_new_car.get_descriptive_name())\n",
    "\n",
    "my_new_car.odometer_reading = 23\n",
    "my_new_car.read_odometer()"
   ]
  },
  {
   "cell_type": "code",
   "execution_count": 9,
   "id": "5012119a-ec80-47bb-9144-40227e29fec7",
   "metadata": {},
   "outputs": [
    {
     "name": "stdout",
     "output_type": "stream",
     "text": [
      "2024 Audi A4\n",
      "This car has 23 miles on it.\n"
     ]
    }
   ],
   "source": [
    "class Car:\n",
    "    \"\"\"一次模拟汽车的简单尝试\"\"\"\n",
    "\n",
    "    def __init__(self, make, model, year):\n",
    "        \"\"\"初始化描述汽车的属性\"\"\"\n",
    "        self.make = make\n",
    "        self.model = model\n",
    "        self.year = year\n",
    "        self.odometer_reading = 0\n",
    "\n",
    "    def get_descriptive_name(self):\n",
    "        \"\"\"返回格式规范的描述性信息\"\"\"\n",
    "        long_name = f\"{self.year} {self.make} {self.model}\"\n",
    "        return long_name.title()\n",
    "\n",
    "    def read_odometer(self):\n",
    "        \"\"\"打印一条指出汽车行驶里程的消息\"\"\"\n",
    "        print(f\"This car has {self.odometer_reading} miles on it.\")\n",
    "#通过方法修改属性的值\n",
    "    def update_odometer(self, mileage):#添加一个方法，接受一个里程值\n",
    "        \"\"\"将里程表读数设置为指定的值\"\"\"\n",
    "        self.odometer_reading = mileage #将里程值赋给self.odometer_reading\n",
    "        \n",
    "my_new_car = Car('audi', 'a4', 2024)\n",
    "print(my_new_car.get_descriptive_name())\n",
    "\n",
    "my_new_car.update_odometer(23)\n",
    "my_new_car.read_odometer()"
   ]
  },
  {
   "cell_type": "code",
   "execution_count": 10,
   "id": "f14e06e5-b2d0-48b6-b3aa-f09a2acf8978",
   "metadata": {},
   "outputs": [
    {
     "name": "stdout",
     "output_type": "stream",
     "text": [
      "2024 Audi A4\n",
      "This car has 23 miles on it.\n",
      "You cant't roll back an odometer\n"
     ]
    }
   ],
   "source": [
    "class Car:\n",
    "    \"\"\"一次模拟汽车的简单尝试\"\"\"\n",
    "\n",
    "    def __init__(self, make, model, year):\n",
    "        \"\"\"初始化描述汽车的属性\"\"\"\n",
    "        self.make = make\n",
    "        self.model = model\n",
    "        self.year = year\n",
    "        self.odometer_reading = 0\n",
    "\n",
    "    def get_descriptive_name(self):\n",
    "        \"\"\"返回格式规范的描述性信息\"\"\"\n",
    "        long_name = f\"{self.year} {self.make} {self.model}\"\n",
    "        return long_name.title()\n",
    "\n",
    "    def read_odometer(self):\n",
    "        \"\"\"打印一条指出汽车行驶里程的消息\"\"\"\n",
    "        print(f\"This car has {self.odometer_reading} miles on it.\")\n",
    "#通过方法修改属性的值\n",
    "    def update_odometer(self, mileage):#添加一个方法，接受一个里程值\n",
    "        \"\"\"\n",
    "        将里程表读数设置为指定的值\n",
    "        禁止将里程碑读数往回调\n",
    "        \"\"\"\n",
    "        if mileage >= self.odometer_reading:\n",
    "            self.odometer_reading = mileage #将里程值赋给self.odometer_reading\n",
    "        else:\n",
    "            print(\"You cant't roll back an odometer\")\n",
    "        \n",
    "my_new_car = Car('audi', 'a4', 2024)\n",
    "print(my_new_car.get_descriptive_name())\n",
    "\n",
    "my_new_car.update_odometer(23)\n",
    "my_new_car.read_odometer()\n",
    "\n",
    "my_new_car.update_odometer(22)"
   ]
  },
  {
   "cell_type": "code",
   "execution_count": 11,
   "id": "1868087c-9499-493c-ba8a-cc284a1ae8b8",
   "metadata": {},
   "outputs": [
    {
     "name": "stdout",
     "output_type": "stream",
     "text": [
      "2019 Subaru Outback\n",
      "This car has 23500 miles on it.\n",
      "This car has 23600 miles on it.\n"
     ]
    }
   ],
   "source": [
    "class Car:\n",
    "    \"\"\"一次模拟汽车的简单尝试\"\"\"\n",
    "\n",
    "    def __init__(self, make, model, year):\n",
    "        \"\"\"初始化描述汽车的属性\"\"\"\n",
    "        self.make = make\n",
    "        self.model = model\n",
    "        self.year = year\n",
    "        self.odometer_reading = 0\n",
    "\n",
    "    def get_descriptive_name(self):\n",
    "        \"\"\"返回格式规范的描述性信息\"\"\"\n",
    "        long_name = f\"{self.year} {self.make} {self.model}\"\n",
    "        return long_name.title()\n",
    "\n",
    "    def read_odometer(self):\n",
    "        \"\"\"打印一条指出汽车行驶里程的消息\"\"\"\n",
    "        print(f\"This car has {self.odometer_reading} miles on it.\")\n",
    "#通过方法修改属性的值\n",
    "    def update_odometer(self, mileage):#添加一个方法，接受一个里程值\n",
    "        \"\"\"\n",
    "        将里程表读数设置为指定的值\n",
    "        禁止将里程碑读数往回调\n",
    "        \"\"\"\n",
    "        if mileage >= self.odometer_reading:\n",
    "            self.odometer_reading = mileage #将里程值赋给self.odometer_reading\n",
    "        else:\n",
    "            print(\"You cant't roll back an odometer\")\n",
    "#通过方法让属性的值递增\n",
    "    def increment_odometer(self, miles):\n",
    "        \"\"\"让里程表读数增加指定的量\"\"\"\n",
    "        self.odometer_reading += miles\n",
    "\n",
    "my_used_car = Car('subaru', 'outback', 2019)\n",
    "print(my_used_car.get_descriptive_name())\n",
    "\n",
    "my_used_car.update_odometer(23_500)\n",
    "my_used_car.read_odometer()\n",
    "\n",
    "my_used_car.increment_odometer(100)\n",
    "my_used_car.read_odometer()"
   ]
  },
  {
   "cell_type": "code",
   "execution_count": null,
   "id": "eef68ef9-2183-423f-a868-55e166cbaf83",
   "metadata": {},
   "outputs": [],
   "source": [
    "#9.3 继承\n",
    "#9.3.1 子类的__init__()方法\n",
    "class Car:\n",
    "    \"\"\"一次模拟汽车的简单尝试\"\"\"\n",
    "\n",
    "    def __init__(self, make, model, year):\n",
    "        \"\"\"初始化描述汽车的属性\"\"\"\n",
    "        self.make = make\n",
    "        self.model = model\n",
    "        self.year = year\n",
    "        self.odometer_reading = 0\n",
    "\n",
    "    def get_descriptive_name(self):\n",
    "        \"\"\"返回格式规范的描述性信息\"\"\"\n",
    "        long_name = f\"{self.year} {self.make} {self.model}\"\n",
    "        return long_name.title()\n",
    "\n",
    "    def read_odometer(self):\n",
    "        \"\"\"打印一条指出汽车行驶里程的消息\"\"\"\n",
    "        print(f\"This car has {self.odometer_reading} miles on it.\")\n",
    "\n",
    "    def update_odometer(self, mileage):#添加一个方法，接受一个里程值\n",
    "        \"\"\"\n",
    "        将里程表读数设置为指定的值\n",
    "        禁止将里程碑读数往回调\n",
    "        \"\"\"\n",
    "        if mileage >= self.odometer_reading:\n",
    "            self.odometer_reading = mileage #将里程值赋给self.odometer_reading\n",
    "        else:\n",
    "            print(\"You cant't roll back an odometer\")\n",
    "\n",
    "    def increment_odometer(self, miles):\n",
    "        \"\"\"让里程表读数增加指定的量\"\"\"\n",
    "        self.odometer_reading += miles\n",
    "\n",
    "class ElectricCar(Car):\n",
    "    \"\"\"电动汽车的独特之处\"\"\"\n",
    "\n",
    "    def __init__(self, make, model, year):\n",
    "        \"\"\"初始化父类的属性\"\"\"\n",
    "        super().__init__(make, model, year)\n",
    "\n",
    "my_leaf = ElectricCar('nissan', 'leaf', 2024)\n",
    "print(my_leaf.get_descriptive_name())"
   ]
  },
  {
   "cell_type": "code",
   "execution_count": 12,
   "id": "995d8aaa-b1a9-4efd-9dda-7241054ad3e1",
   "metadata": {},
   "outputs": [
    {
     "name": "stdout",
     "output_type": "stream",
     "text": [
      "2024 Nissan Leaf\n",
      "This car has a 40-kwh battery.\n"
     ]
    }
   ],
   "source": [
    "#9.3.2 给子类定义属性和方法\n",
    "class Car:\n",
    "    \"\"\"一次模拟汽车的简单尝试\"\"\"\n",
    "\n",
    "    def __init__(self, make, model, year):\n",
    "        \"\"\"初始化描述汽车的属性\"\"\"\n",
    "        self.make = make\n",
    "        self.model = model\n",
    "        self.year = year\n",
    "        self.odometer_reading = 0\n",
    "\n",
    "    def get_descriptive_name(self):\n",
    "        \"\"\"返回格式规范的描述性信息\"\"\"\n",
    "        long_name = f\"{self.year} {self.make} {self.model}\"\n",
    "        return long_name.title()\n",
    "\n",
    "    def read_odometer(self):\n",
    "        \"\"\"打印一条指出汽车行驶里程的消息\"\"\"\n",
    "        print(f\"This car has {self.odometer_reading} miles on it.\")\n",
    "\n",
    "    def update_odometer(self, mileage):#添加一个方法，接受一个里程值\n",
    "        \"\"\"\n",
    "        将里程表读数设置为指定的值\n",
    "        禁止将里程碑读数往回调\n",
    "        \"\"\"\n",
    "        if mileage >= self.odometer_reading:\n",
    "            self.odometer_reading = mileage #将里程值赋给self.odometer_reading\n",
    "        else:\n",
    "            print(\"You cant't roll back an odometer\")\n",
    "\n",
    "    def increment_odometer(self, miles):\n",
    "        \"\"\"让里程表读数增加指定的量\"\"\"\n",
    "        self.odometer_reading += miles\n",
    "\n",
    "class ElectricCar(Car):\n",
    "    \"\"\"电动汽车的独特之处\"\"\"\n",
    "\n",
    "    def __init__(self, make, model, year):\n",
    "        \"\"\"\n",
    "        先初始化父类的属性，再初始化电动汽车特有的属性\n",
    "        \"\"\"\n",
    "        super().__init__(make, model, year)\n",
    "        self.battery_size = 40 #添加新属性并给属性默认值\n",
    "#添加新方法描述电池信息\n",
    "    def describe_battery(self):\n",
    "        \"\"\"打印一条描述电池容量的消息\"\"\"\n",
    "        print(f\"This car has a {self.battery_size}-kwh battery.\")\n",
    "\n",
    "my_leaf = ElectricCar('nissan', 'leaf', 2024)\n",
    "print(my_leaf.get_descriptive_name())\n",
    "my_leaf.describe_battery()"
   ]
  },
  {
   "cell_type": "code",
   "execution_count": 13,
   "id": "fb6d8950-f9a5-499f-8a3e-4549d53ab763",
   "metadata": {},
   "outputs": [],
   "source": [
    "#9.3.3 重写父类中的方法\n",
    "class ElectricCar(Car):\n",
    "    \"\"\"电动汽车的独特之处\"\"\"\n",
    "\n",
    "    def __init__(self, make, model, year):\n",
    "        \"\"\"\n",
    "        先初始化父类的属性，再初始化电动汽车特有的属性\n",
    "        \"\"\"\n",
    "        super().__init__(make, model, year)\n",
    "        self.battery_size = 40 #添加新属性并给属性默认值\n",
    "#添加新方法描述电池信息\n",
    "    def describe_battery(self):\n",
    "        \"\"\"打印一条描述电池容量的消息\"\"\"\n",
    "        print(f\"This car has a {self.battery_size}-kwh battery.\")\n",
    "#重写方法覆盖以前的方法\n",
    "    def fill_gas_tank(self):\n",
    "        \"\"\"电动汽车没有油箱\"\"\"\n",
    "        print(\"This car doesn't have a gas tank!\")"
   ]
  },
  {
   "cell_type": "code",
   "execution_count": 14,
   "id": "858f0bfe-907b-4cff-a93c-667dd8747dba",
   "metadata": {},
   "outputs": [
    {
     "name": "stdout",
     "output_type": "stream",
     "text": [
      "2024 Nissan Leaf\n",
      "This car has a 40-kwh battery.\n"
     ]
    }
   ],
   "source": [
    "#9.3.4 将实例用作属性\n",
    "class Car:\n",
    "    \"\"\"一次模拟汽车的简单尝试\"\"\"\n",
    "\n",
    "    def __init__(self, make, model, year):\n",
    "        \"\"\"初始化描述汽车的属性\"\"\"\n",
    "        self.make = make\n",
    "        self.model = model\n",
    "        self.year = year\n",
    "        self.odometer_reading = 0\n",
    "\n",
    "    def get_descriptive_name(self):\n",
    "        \"\"\"返回格式规范的描述性信息\"\"\"\n",
    "        long_name = f\"{self.year} {self.make} {self.model}\"\n",
    "        return long_name.title()\n",
    "\n",
    "    def read_odometer(self):\n",
    "        \"\"\"打印一条指出汽车行驶里程的消息\"\"\"\n",
    "        print(f\"This car has {self.odometer_reading} miles on it.\")\n",
    "\n",
    "    def update_odometer(self, mileage):#添加一个方法，接受一个里程值\n",
    "        \"\"\"\n",
    "        将里程表读数设置为指定的值\n",
    "        禁止将里程碑读数往回调\n",
    "        \"\"\"\n",
    "        if mileage >= self.odometer_reading:\n",
    "            self.odometer_reading = mileage #将里程值赋给self.odometer_reading\n",
    "        else:\n",
    "            print(\"You cant't roll back an odometer\")\n",
    "\n",
    "    def increment_odometer(self, miles):\n",
    "        \"\"\"让里程表读数增加指定的量\"\"\"\n",
    "        self.odometer_reading += miles\n",
    "\n",
    "class Battery:\n",
    "    \"\"\"一次模拟电动汽车电池的简单尝试\"\"\"\n",
    "\n",
    "    def __init__(self, battery_size=40):\n",
    "        \"\"\"初始化电池的属性\"\"\"\n",
    "        self.battery_size = battery_size\n",
    "\n",
    "    def describe_battery(self):\n",
    "        \"\"\"打印一条描述电池容量的消息\"\"\"\n",
    "        print(f\"This car has a {self.battery_size}-kwh battery.\")\n",
    "\n",
    "class ElectricCar(Car):\n",
    "    \"\"\"电动汽车的独特之处\"\"\"\n",
    "\n",
    "    def __init__(self, make, model, year):\n",
    "        \"\"\"\n",
    "        先初始化父类的属性，再初始化电动汽车特有的属性\n",
    "        \"\"\"\n",
    "        super().__init__(make, model, year)\n",
    "        self.battery = Battery() #创建一个新的Battery实例并赋给一个新的属性\n",
    "\n",
    "my_leaf = ElectricCar('nissan', 'leaf', 2024)\n",
    "print(my_leaf.get_descriptive_name())\n",
    "my_leaf.battery.describe_battery()"
   ]
  },
  {
   "cell_type": "code",
   "execution_count": 15,
   "id": "8a177801-5893-4b7a-b3ee-cfbbd202a1a1",
   "metadata": {},
   "outputs": [
    {
     "name": "stdout",
     "output_type": "stream",
     "text": [
      "2024 Nissan Leaf\n",
      "This car has a 40-kwh battery.\n",
      "This car can go about 150 miles on a full charge.\n"
     ]
    }
   ],
   "source": [
    "class Car:\n",
    "    \"\"\"一次模拟汽车的简单尝试\"\"\"\n",
    "\n",
    "    def __init__(self, make, model, year):\n",
    "        \"\"\"初始化描述汽车的属性\"\"\"\n",
    "        self.make = make\n",
    "        self.model = model\n",
    "        self.year = year\n",
    "        self.odometer_reading = 0\n",
    "\n",
    "    def get_descriptive_name(self):\n",
    "        \"\"\"返回格式规范的描述性信息\"\"\"\n",
    "        long_name = f\"{self.year} {self.make} {self.model}\"\n",
    "        return long_name.title()\n",
    "\n",
    "    def read_odometer(self):\n",
    "        \"\"\"打印一条指出汽车行驶里程的消息\"\"\"\n",
    "        print(f\"This car has {self.odometer_reading} miles on it.\")\n",
    "\n",
    "    def update_odometer(self, mileage):#添加一个方法，接受一个里程值\n",
    "        \"\"\"\n",
    "        将里程表读数设置为指定的值\n",
    "        禁止将里程碑读数往回调\n",
    "        \"\"\"\n",
    "        if mileage >= self.odometer_reading:\n",
    "            self.odometer_reading = mileage #将里程值赋给self.odometer_reading\n",
    "        else:\n",
    "            print(\"You cant't roll back an odometer\")\n",
    "\n",
    "    def increment_odometer(self, miles):\n",
    "        \"\"\"让里程表读数增加指定的量\"\"\"\n",
    "        self.odometer_reading += miles\n",
    "\n",
    "class Battery:\n",
    "    \"\"\"一次模拟电动汽车电池的简单尝试\"\"\"\n",
    "\n",
    "    def __init__(self, battery_size=40):\n",
    "        \"\"\"初始化电池的属性\"\"\"\n",
    "        self.battery_size = battery_size\n",
    "\n",
    "    def describe_battery(self):\n",
    "        \"\"\"打印一条描述电池容量的消息\"\"\"\n",
    "        print(f\"This car has a {self.battery_size}-kwh battery.\")\n",
    "\n",
    "    def get_range(self):\n",
    "        \"\"\"打印一条消息，指出电池的续航里程\"\"\"\n",
    "        if self.battery_size == 40:\n",
    "            range = 150\n",
    "        elif self.battery_size == 65:\n",
    "            range = 225\n",
    "\n",
    "        print(f\"This car can go about {range} miles on a full charge.\")\n",
    "        \n",
    "class ElectricCar(Car):\n",
    "    \"\"\"电动汽车的独特之处\"\"\"\n",
    "\n",
    "    def __init__(self, make, model, year):\n",
    "        \"\"\"\n",
    "        先初始化父类的属性，再初始化电动汽车特有的属性\n",
    "        \"\"\"\n",
    "        super().__init__(make, model, year)\n",
    "        self.battery = Battery() #创建一个新的Battery实例并赋给一个新的属性\n",
    "\n",
    "my_leaf = ElectricCar('nissan', 'leaf', 2024)\n",
    "print(my_leaf.get_descriptive_name())\n",
    "my_leaf.battery.describe_battery()\n",
    "my_leaf.battery.get_range()"
   ]
  },
  {
   "cell_type": "code",
   "execution_count": 3,
   "id": "55c53d0a-c8dc-481e-af6c-061845650ac0",
   "metadata": {
    "scrolled": true
   },
   "outputs": [],
   "source": [
    "#9.4 导入类\n",
    "#9.4.1 导入单个类\n",
    "class Car:\n",
    "    def __init__(self, make, model, year):\n",
    "        self.make = make\n",
    "        self.model = model\n",
    "        self.year = year\n",
    "        self.odometer_reading = 0\n",
    "    def get_descriptive_name(self):\n",
    "        long_name = f\"{self.year} {self.make} {self.model}\"\n",
    "        return long_name.title()\n",
    "    def read_odometer(self):\n",
    "        print(f\"This car has {self.odometer_reading} miles on it.\")\n",
    "    def update_odometer(self, mileage):\n",
    "        if mileage >= self.odometer_reading:\n",
    "            self.odometer_reading = mileage\n",
    "        else:\n",
    "            print(\"You can't roll back an odometer!\")\n",
    "    def increment_odometer(self, miles):\n",
    "        self.odometer_reading += miles\n",
    "        from car import Car\n",
    "        my_new_car = Car('audi', 'a4', 2024)\n",
    "        print(my_new_car.get_descriptive_name())\n",
    "        my_new_car.odometer_reading = 23\n",
    "        my_new_car.read_odometer()\n",
    "  "
   ]
  },
  {
   "cell_type": "code",
   "execution_count": 18,
   "id": "f861dc6a-536c-46f2-ac59-e1ab2f3a5926",
   "metadata": {},
   "outputs": [],
   "source": [
    "#9.4.2 在一个模块中存储多个类\n",
    "\"\"\"一组用于表示燃油汽车和电动汽车的类\"\"\"\n",
    "\n",
    "class Car:\n",
    "    \"\"\"一次模拟汽车的简单尝试\"\"\"\n",
    "\n",
    "    def __init__(self, make, model, year):\n",
    "        \"\"\"初始化描述汽车的属性\"\"\"\n",
    "        self.make = make\n",
    "        self.model = model\n",
    "        self.year = year\n",
    "        self.odometer_reading = 0\n",
    "\n",
    "    def get_descriptive_name(self):\n",
    "        \"\"\"返回格式规范的描述性信息\"\"\"\n",
    "        long_name = f\"{self.year} {self.make} {self.model}\"\n",
    "        return long_name.title()\n",
    "\n",
    "    def read_odometer(self):\n",
    "        \"\"\"打印一条指出汽车行驶里程的消息\"\"\"\n",
    "        print(f\"This car has {self.odometer_reading} miles on it.\")\n",
    "\n",
    "    def update_odometer(self, mileage):#添加一个方法，接受一个里程值\n",
    "        \"\"\"\n",
    "        将里程表读数设置为指定的值\n",
    "        禁止将里程碑读数往回调\n",
    "        \"\"\"\n",
    "        if mileage >= self.odometer_reading:\n",
    "            self.odometer_reading = mileage #将里程值赋给self.odometer_reading\n",
    "        else:\n",
    "            print(\"You cant't roll back an odometer\")\n",
    "\n",
    "    def increment_odometer(self, miles):\n",
    "        \"\"\"让里程表读数增加指定的量\"\"\"\n",
    "        self.odometer_reading += miles\n",
    "\n",
    "class Battery:\n",
    "    \"\"\"一次模拟电动汽车电池的简单尝试\"\"\"\n",
    "\n",
    "    def __init__(self, battery_size=40):\n",
    "        \"\"\"初始化电池的属性\"\"\"\n",
    "        self.battery_size = battery_size\n",
    "\n",
    "    def describe_battery(self):\n",
    "        \"\"\"打印一条描述电池容量的消息\"\"\"\n",
    "        print(f\"This car has a {self.battery_size}-kwh battery.\")\n",
    "\n",
    "    def get_range(self):\n",
    "        \"\"\"打印一条消息，指出电池的续航里程\"\"\"\n",
    "        if self.battery_size == 40:\n",
    "            range = 150\n",
    "        elif self.battery_size == 65:\n",
    "            range = 225\n",
    "\n",
    "        print(f\"This car can go about {range} miles on a full charge.\")\n",
    "        \n",
    "class ElectricCar(Car):\n",
    "    \"\"\"电动汽车的独特之处\"\"\"\n",
    "\n",
    "    def __init__(self, make, model, year):\n",
    "        \"\"\"\n",
    "        先初始化父类的属性，再初始化电动汽车特有的属性\n",
    "        \"\"\"\n",
    "        super().__init__(make, model, year)\n",
    "        self.battery = Battery()\n",
    "        from car import ElectricCar\n",
    "        my_leaf = ElectricCar('nissan', 'leaf', 2024)\n",
    "        print(my_leaf.get_descriptive_name())\n",
    "        my_leaf.battery.describe_battery()\n",
    "        my_leaf.battery.get_range()\n",
    "#9.4.3 从⼀个模块中导⼊多个类\n",
    "        from car import Car, ElectricCar\n",
    "\n",
    "        my_mustang = Car('ford', 'mustang', 2024)\n",
    "        print(my_mustang.get_descriptive_name())\n",
    "        my_leaf = ElectricCar('nissan', 'leaf', 2024)\n",
    "        print(my_leaf.get_descriptive_name())\n",
    "        import car\n",
    "        my_mustang = car.Car('ford', 'mustang', 2024)\n",
    "        print(my_mustang.get_descriptive_name())\n",
    "        my_leaf = car.ElectricCar('nissan', 'leaf', 2024)\n",
    "        print(my_leaf.get_descriptivename())\n",
    "        import car\n",
    "        my_mustang = car.Car('ford', 'mustang', 2024)\n",
    "        print(my_mustang.get_descriptive_name())\n",
    "        my_leaf = car.ElectricCar('nissan', 'leaf', 2024)\n",
    "        print(my_leaf.get_descriptive_name())\n",
    "#9.4.6 在⼀个模块中导⼊另⼀个模块    \n",
    "        from car import Car\n",
    "        from electric_car import ElectricCar\n",
    "        my_mustang = Car('ford', 'mustang', 2024)\n",
    "        print(my_mustang.get_descriptive_name())\n",
    "        my_leaf = ElectricCar('nissan', 'leaf', 2024)\n",
    "        print(my_leaf.get_descriptive_name())\n",
    "#9.4.7 使⽤别名\n",
    "        from electric_car import ElectricCar as EC\n",
    "        my_leaf = EC('nissan', 'leaf', 2024)"
   ]
  },
  {
   "cell_type": "code",
   "execution_count": 17,
   "id": "a910c44d-77ea-40d4-a440-ef68d8a8b9d7",
   "metadata": {},
   "outputs": [
    {
     "data": {
      "text/plain": [
       "2"
      ]
     },
     "execution_count": 17,
     "metadata": {},
     "output_type": "execute_result"
    }
   ],
   "source": [
    "#9.5 Python 标准库\n",
    "from random import randint\n",
    "randint(1,6)"
   ]
  },
  {
   "cell_type": "code",
   "execution_count": 19,
   "id": "d931dac5-1c48-46fa-897f-cd153a06f65e",
   "metadata": {},
   "outputs": [
    {
     "data": {
      "text/plain": [
       "'michael'"
      ]
     },
     "execution_count": 19,
     "metadata": {},
     "output_type": "execute_result"
    }
   ],
   "source": [
    " from random import choice\n",
    " players = ['charles', 'martina', 'michael', 'florence', 'eli']\n",
    " first_up = choice(players)\n",
    " first_up"
   ]
  },
  {
   "cell_type": "code",
   "execution_count": 40,
   "id": "aa55d586-4022-4eff-a91f-78e24cd49bbf",
   "metadata": {},
   "outputs": [
    {
     "name": "stdout",
     "output_type": "stream",
     "text": [
      "Apple Chinese_Food\n",
      "Apple is opening.\n"
     ]
    }
   ],
   "source": [
    "#作业\n",
    "#9.1 餐馆\n",
    "class Restaurant:\n",
    "    \"\"\"描述餐厅基础信息\"\"\"\n",
    "\n",
    "    def __init__(self, restaurant_name, cuisine_type, number_served=0):\n",
    "        \"\"\"初始化描述餐厅的信息\"\"\"\n",
    "        self.restaurant_name = restaurant_name\n",
    "        self.cuisine_type = cuisine_type\n",
    "        self.number_served = number_served\n",
    "    \n",
    "    def describe_restaurant(self):\n",
    "        \"\"\"打印餐厅信息\"\"\"\n",
    "        restaurant_info = f\"{self.restaurant_name} {self.cuisine_type}\"\n",
    "        return restaurant_info.title()\n",
    "\n",
    "    def open_restaurant(self):\n",
    "        \"\"\"指出餐厅正在营业\"\"\"\n",
    "        print(f\"{self.restaurant_name.title()} is opening.\")\n",
    "\n",
    "restaurant = Restaurant('apple', 'Chinese_food')\n",
    "print(restaurant.describe_restaurant())\n",
    "restaurant.open_restaurant()"
   ]
  },
  {
   "cell_type": "code",
   "execution_count": 37,
   "id": "370e3d86-9351-4fbe-ac16-b29140933978",
   "metadata": {},
   "outputs": [
    {
     "name": "stdout",
     "output_type": "stream",
     "text": [
      "Zero_One Fast Food\n",
      "Fangzhongshan Hulatang\n",
      "Mcdonlald Yummy Food\n"
     ]
    }
   ],
   "source": [
    "#9.2 三家餐馆\n",
    "#根据Restaurant类创建三个实例，并调用describe_restaurant()方法\n",
    "restaurant_0 = Restaurant('zero_one', 'fast food')\n",
    "print(restaurant_0.describe_restaurant())\n",
    "restaurant_1 = Restaurant('fangzhongshan', 'hulatang')\n",
    "print(restaurant_1.describe_restaurant())\n",
    "restaurant_2 = Restaurant('Mcdonlald', 'yummy food')\n",
    "print(restaurant_2.describe_restaurant())"
   ]
  },
  {
   "cell_type": "code",
   "execution_count": 39,
   "id": "55715329-35a9-45f4-b0ac-020592a439ff",
   "metadata": {},
   "outputs": [
    {
     "name": "stdout",
     "output_type": "stream",
     "text": [
      "\n",
      "Wang Meng 20\n",
      "Hello, Wang Meng!\n",
      "\n",
      "Taylor Swift 35\n",
      "Hello, Taylor Swift!\n",
      "\n",
      "Troyan Sivan 66\n",
      "Hello, Troyan Sivan!\n"
     ]
    }
   ],
   "source": [
    "#9.3 用户\n",
    "class User:\n",
    "    \"\"\"描述用户基本信息\"\"\"\n",
    "\n",
    "    def __init__(self, first_name, last_name, age):\n",
    "        \"\"\"初始化描述用户的信息\"\"\"\n",
    "        self.f_name = first_name\n",
    "        self.l_name = last_name\n",
    "        self.age = age\n",
    "\n",
    "    def describe_user(self):\n",
    "        \"\"\"打印用户信息摘要\"\"\"\n",
    "        print(f'\\n{self.f_name.title()} {self.l_name.title()} {self.age}')\n",
    "\n",
    "    def greet_user(self):\n",
    "        \"\"\"向用户发出个性化的问候\"\"\"\n",
    "        print(f\"Hello, {self.f_name.title()} {self.l_name.title()}!\")\n",
    "\n",
    "user_0 = User('wang', 'meng', 20)\n",
    "user_0.describe_user()\n",
    "user_0.greet_user()\n",
    "\n",
    "user_1 = User('Taylor', 'Swift', 35)\n",
    "user_1.describe_user()\n",
    "user_1.greet_user()\n",
    "\n",
    "user_2 = User('Troyan', 'Sivan', 66)\n",
    "user_2.describe_user()\n",
    "user_2.greet_user()"
   ]
  },
  {
   "cell_type": "code",
   "execution_count": 42,
   "id": "da7b52da-3409-4807-a692-a0ce0665dd5e",
   "metadata": {},
   "outputs": [
    {
     "name": "stdout",
     "output_type": "stream",
     "text": [
      "0 person had dinner at Zero1.\n",
      "3 persons had dinner at Zero1.\n",
      "6 persons had dinner at Zero1.\n",
      "15 persons had dinner at Zero1.\n"
     ]
    }
   ],
   "source": [
    "#9.4 就餐人数\n",
    "class Restaurant:\n",
    "    \"\"\"描述餐厅基础信息\"\"\"\n",
    "\n",
    "    def __init__(self, restaurant_name, cuisine_type, number_served=0):\n",
    "        \"\"\"初始化描述餐厅的信息\"\"\"\n",
    "        self.restaurant_name = restaurant_name\n",
    "        self.cuisine_type = cuisine_type\n",
    "        self.number_served = number_served\n",
    "    \n",
    "    def describe_restaurant(self):\n",
    "        \"\"\"打印餐厅信息\"\"\"\n",
    "        restaurant_info = f\"{self.restaurant_name} {self.cuisine_type}\"\n",
    "        return restaurant_info.title()\n",
    "\n",
    "    def open_restaurant(self):\n",
    "        \"\"\"指出餐厅正在营业\"\"\"\n",
    "        print(f\"{self.restaurant_name.title()} is opening.\")\n",
    "\n",
    "    def set_number_served(self,p_number):\n",
    "        \"\"\"设置就餐人数\"\"\"\n",
    "        self.number_served = p_number\n",
    "        print(f'{self.number_served} persons had dinner at {self.restaurant_name.title()}.')\n",
    "\n",
    "    def increment_number_served(self, num):\n",
    "        \"\"\"添加餐厅就餐的人数\"\"\"\n",
    "        self.number_served += num\n",
    "        print(f'{self.number_served} persons had dinner at {self.restaurant_name.title()}.')\n",
    "\n",
    "restaurant = Restaurant('zero1', 'yummyfood')\n",
    "print(f'{restaurant.number_served} person had dinner at {restaurant.restaurant_name.title()}.')\n",
    "\n",
    "restaurant = Restaurant('zero1', 'yummyfood', 3)\n",
    "print(f'{restaurant.number_served} persons had dinner at {restaurant.restaurant_name.title()}.')\n",
    "\n",
    "restaurant.set_number_served(6)\n",
    "restaurant.increment_number_served(9)"
   ]
  },
  {
   "cell_type": "code",
   "execution_count": 43,
   "id": "80e7578b-e344-4db8-b493-553f810a853a",
   "metadata": {},
   "outputs": [
    {
     "data": {
      "text/plain": [
       "0"
      ]
     },
     "execution_count": 43,
     "metadata": {},
     "output_type": "execute_result"
    }
   ],
   "source": [
    "#9.5 尝试登录次数\n",
    "class User:\n",
    "    \"\"\"描述用户基本信息\"\"\"\n",
    "\n",
    "    def __init__(self, first_name, last_name, age, login_attempts):\n",
    "        \"\"\"初始化描述用户的信息\"\"\"\n",
    "        self.f_name = first_name\n",
    "        self.l_name = last_name\n",
    "        self.age = age\n",
    "        self.login_attempts = login_attempts\n",
    "    \n",
    "    def describe_user(self):\n",
    "        \"\"\"打印用户信息摘要\"\"\"\n",
    "        print(f'\\n{self.f_name.title()} {self.l_name.title()} {self.age}')\n",
    "\n",
    "    def greet_user(self):\n",
    "        \"\"\"向用户发出个性化的问候\"\"\"\n",
    "        print(f\"Hello, {self.f_name.title()} {self.l_name.title()}!\")\n",
    "\n",
    "    def increment_login_attempts(self):\n",
    "        \"\"\"将属性login_attempts次数加1\"\"\"\n",
    "        self.login_attempts += 1\n",
    "\n",
    "    def reset_login_attempts(self):\n",
    "        \"\"\"重置login_attempts的次数\"\"\"\n",
    "        self.login_attempts = 0\n",
    "\n",
    "my_user = User('wang','meng',20,1)\n",
    "\n",
    "my_user.increment_login_attempts()\n",
    "my_user.login_attempts\n",
    "\n",
    "my_user.increment_login_attempts()\n",
    "my_user.login_attempts\n",
    "\n",
    "my_user.increment_login_attempts()\n",
    "my_user.login_attempts\n",
    "\n",
    "my_user.reset_login_attempts()\n",
    "my_user.login_attempts"
   ]
  },
  {
   "cell_type": "code",
   "execution_count": 44,
   "id": "dfd348a0-7023-4419-965f-fe38bd80196f",
   "metadata": {},
   "outputs": [
    {
     "name": "stdout",
     "output_type": "stream",
     "text": [
      "bitte\n",
      "sweet\n",
      "hot\n"
     ]
    }
   ],
   "source": [
    "#9.6 冰激凌小店\n",
    "class Restaurant:\n",
    "    \"\"\"描述餐厅基础信息\"\"\"\n",
    "\n",
    "    def __init__(self, restaurant_name, cuisine_type, number_served=0):\n",
    "        \"\"\"初始化描述餐厅的信息\"\"\"\n",
    "        self.restaurant_name = restaurant_name\n",
    "        self.cuisine_type = cuisine_type\n",
    "        self.number_served = number_served\n",
    "    \n",
    "    def describe_restaurant(self):\n",
    "        \"\"\"打印餐厅信息\"\"\"\n",
    "        restaurant_info = f\"{self.restaurant_name} {self.cuisine_type}\"\n",
    "        return restaurant_info.title()\n",
    "\n",
    "    def open_restaurant(self):\n",
    "        \"\"\"指出餐厅正在营业\"\"\"\n",
    "        print(f\"{self.restaurant_name.title()} is opening.\")\n",
    "\n",
    "    def set_number_served(self,p_number):\n",
    "        \"\"\"设置就餐人数\"\"\"\n",
    "        self.number_served = p_number\n",
    "        print(f'{self.number_served} persons had dinner at {self.restaurant_name.title()}.')\n",
    "\n",
    "    def increment_number_served(self, num):\n",
    "        \"\"\"添加餐厅就餐的人数\"\"\"\n",
    "        self.number_served += num\n",
    "        print(f'{self.number_served} persons had dinner at {self.restaurant_name.title()}.')\n",
    "\n",
    "class IceCreamStand(Restaurant):\n",
    "    \"\"\"冰激凌小店的信息\"\"\"\n",
    "\n",
    "    def __init__(self, restaurant_name, cuisine_type, number_served=0):\n",
    "        \"\"\"\n",
    "        先初始化父类的属性，再初始化冰激凌小店的属性\n",
    "        \"\"\"\n",
    "        super().__init__(restaurant_name, cuisine_type, number_served=0)\n",
    "        self.flavors = ['bitte', 'sweet', 'hot']\n",
    "\n",
    "    def describe_flavors(self):\n",
    "        \"\"\"显示冰激凌口味\"\"\"\n",
    "        for flavor in self.flavors:\n",
    "            print(flavor)\n",
    "\n",
    "icecream = IceCreamStand('icecreamstand', 'ice_cream', 99)\n",
    "icecream.describe_flavors()"
   ]
  },
  {
   "cell_type": "code",
   "execution_count": 45,
   "id": "8a54e43b-050a-4e27-9271-79667e8ffcd1",
   "metadata": {},
   "outputs": [
    {
     "name": "stdout",
     "output_type": "stream",
     "text": [
      "can add post\n",
      "can delete post\n",
      "can ban user\n"
     ]
    }
   ],
   "source": [
    "#9.7 管理员\n",
    "class User:\n",
    "    \"\"\"描述用户基本信息\"\"\"\n",
    "\n",
    "    def __init__(self, first_name, last_name, age):\n",
    "        \"\"\"初始化描述用户的信息\"\"\"\n",
    "        self.f_name = first_name\n",
    "        self.l_name = last_name\n",
    "        self.age = age\n",
    "\n",
    "    def describe_user(self):\n",
    "        \"\"\"打印用户信息摘要\"\"\"\n",
    "        print(f'\\n{self.f_name.title()} {self.l_name.title()} {self.age}')\n",
    "\n",
    "    def greet_user(self):\n",
    "        \"\"\"向用户发出个性化的问候\"\"\"\n",
    "        print(f\"Hello, {self.f_name.title()} {self.l_name.title()}!\")\n",
    "\n",
    "class Admin(User):\n",
    "    \"\"\"管理员的特殊之处\"\"\"\n",
    "\n",
    "    def __init__(self, first_name, last_name, age):\n",
    "        \"\"\"初始化父类和管理员的属性\"\"\"\n",
    "        super().__init__(first_name, last_name, age)\n",
    "        self.privileges = ['can add post', 'can delete post', 'can ban user']\n",
    "\n",
    "    def show_privileges(self):\n",
    "        \"\"\"显示管理员的权限\"\"\"\n",
    "        for privilege in self.privileges:\n",
    "            print(privilege)\n",
    "\n",
    "admin = Admin('wang', 'meng', 20)\n",
    "admin.show_privileges()"
   ]
  },
  {
   "cell_type": "code",
   "execution_count": 46,
   "id": "8522355f-dfe6-4e48-833f-93673e51f69e",
   "metadata": {},
   "outputs": [
    {
     "name": "stdout",
     "output_type": "stream",
     "text": [
      "can add post\n",
      "can delete post\n",
      "can ban user\n"
     ]
    }
   ],
   "source": [
    "#9.8 权限\n",
    "class Privileges:\n",
    "    \"\"\"关于权限的类\"\"\"\n",
    "\n",
    "    def __init__(self, privileges):\n",
    "        \"\"\"初始化权限属性\"\"\"\n",
    "        self.privileges = ['can add post', 'can delete post', 'can ban user']\n",
    "\n",
    "    def show_privileges(self):\n",
    "        \"\"\"显示管理员的权限\"\"\"\n",
    "        for privilege in self.privileges:\n",
    "            print(privilege)\n",
    "\n",
    "admin = Admin('wang', 'meng', 20)\n",
    "admin.show_privileges()"
   ]
  },
  {
   "cell_type": "code",
   "execution_count": 47,
   "id": "48bc7da2-6dc0-426d-8696-ecf18a0946ad",
   "metadata": {},
   "outputs": [
    {
     "name": "stdout",
     "output_type": "stream",
     "text": [
      "This car can go about 150 miles on a full charge.\n",
      "This car can go about 225 miles on a full charge.\n"
     ]
    }
   ],
   "source": [
    "#9.9 电池升级\n",
    "\"\"\"一组用于表示燃油汽车和电动汽车的类\"\"\"\n",
    "\n",
    "class Car:\n",
    "    \"\"\"一次模拟汽车的简单尝试\"\"\"\n",
    "\n",
    "    def __init__(self, make, model, year):\n",
    "        \"\"\"初始化描述汽车的属性\"\"\"\n",
    "        self.make = make\n",
    "        self.model = model\n",
    "        self.year = year\n",
    "        self.odometer_reading = 0\n",
    "\n",
    "    def get_descriptive_name(self):\n",
    "        \"\"\"返回格式规范的描述性信息\"\"\"\n",
    "        long_name = f\"{self.year} {self.make} {self.model}\"\n",
    "        return long_name.title()\n",
    "\n",
    "    def read_odometer(self):\n",
    "        \"\"\"打印一条指出汽车行驶里程的消息\"\"\"\n",
    "        print(f\"This car has {self.odometer_reading} miles on it.\")\n",
    "\n",
    "    def update_odometer(self, mileage):#添加一个方法，接受一个里程值\n",
    "        \"\"\"\n",
    "        将里程表读数设置为指定的值\n",
    "        禁止将里程碑读数往回调\n",
    "        \"\"\"\n",
    "        if mileage >= self.odometer_reading:\n",
    "            self.odometer_reading = mileage #将里程值赋给self.odometer_reading\n",
    "        else:\n",
    "            print(\"You cant't roll back an odometer\")\n",
    "\n",
    "    def increment_odometer(self, miles):\n",
    "        \"\"\"让里程表读数增加指定的量\"\"\"\n",
    "        self.odometer_reading += miles\n",
    "\n",
    "class Battery:\n",
    "    \"\"\"一次模拟电动汽车电池的简单尝试\"\"\"\n",
    "\n",
    "    def __init__(self, battery_size=40):\n",
    "        \"\"\"初始化电池的属性\"\"\"\n",
    "        self.battery_size = battery_size\n",
    "\n",
    "    def describe_battery(self):\n",
    "        \"\"\"打印一条描述电池容量的消息\"\"\"\n",
    "        print(f\"This car has a {self.battery_size}-kwh battery.\")\n",
    "\n",
    "    def get_range(self):\n",
    "        \"\"\"打印一条消息，指出电池的续航里程\"\"\"\n",
    "        if self.battery_size == 40:\n",
    "            range = 150\n",
    "        elif self.battery_size == 65:\n",
    "            range = 225\n",
    "\n",
    "        print(f\"This car can go about {range} miles on a full charge.\")\n",
    "\n",
    "    def upgrade_battery(self):\n",
    "        \"\"\"升级电池容量\"\"\"\n",
    "        if self.battery_size < 65:\n",
    "            self.battery_size = 65\n",
    "        \n",
    "class ElectricCar(Car):\n",
    "    \"\"\"电动汽车的独特之处\"\"\"\n",
    "\n",
    "    def __init__(self, make, model, year):\n",
    "        \"\"\"\n",
    "        先初始化父类的属性，再初始化电动汽车特有的属性\n",
    "        \"\"\"\n",
    "        super().__init__(make, model, year)\n",
    "        self.battery = Battery() #创建一个新的Battery实例并赋给一个新的属性\n",
    "\n",
    "my_bmw = ElectricCar('bmw', 'i6', 2018)\n",
    "my_bmw.battery.get_range()\n",
    "my_bmw.battery.upgrade_battery()\n",
    "my_bmw.battery.get_range()"
   ]
  },
  {
   "cell_type": "code",
   "execution_count": null,
   "id": "88797fb2-8cd1-4b43-9e02-7fb41aaa9750",
   "metadata": {},
   "outputs": [],
   "source": [
    "#9.10 导入Restaurant类\n",
    "from restaurant import Restaurant\n",
    "\n",
    "rest_0 = Restaurant('MM', 'yummyfood', 99)\n",
    "rest_0.describe_restaurant()\n"
   ]
  },
  {
   "cell_type": "code",
   "execution_count": null,
   "id": "d8b3469f-e344-4798-ae9d-27bfc351f8bc",
   "metadata": {},
   "outputs": [],
   "source": [
    "#9.11 导入Admin类\n",
    "from user import Admin\n",
    "\n",
    "admin_0 = Admin('wang', 'meng', 20)\n",
    "admin_0.show_privileges()"
   ]
  },
  {
   "cell_type": "code",
   "execution_count": null,
   "id": "1a75b8da-de19-4b99-a565-94c9ea9f80cd",
   "metadata": {},
   "outputs": [],
   "source": [
    "#9.12 多个模块\n",
    "from usertwo import User\n",
    "from privilegeadmin import Admin\n",
    "\n",
    "admin_1 = Admin('meng', 'wang', 33)\n",
    "admin_1.show_privileges()"
   ]
  },
  {
   "cell_type": "code",
   "execution_count": 50,
   "id": "7ea33fe7-2cdf-45eb-abca-9a6ec27bceb4",
   "metadata": {},
   "outputs": [
    {
     "name": "stdout",
     "output_type": "stream",
     "text": [
      "6\n",
      "3\n",
      "1\n",
      "4\n",
      "1\n",
      "1\n",
      "3\n",
      "4\n",
      "1\n",
      "3\n",
      "9\n",
      "6\n",
      "9\n",
      "8\n",
      "5\n",
      "6\n",
      "9\n",
      "3\n",
      "1\n",
      "7\n",
      "4\n",
      "1\n",
      "14\n",
      "10\n",
      "18\n",
      "3\n",
      "7\n",
      "14\n",
      "12\n",
      "15\n"
     ]
    }
   ],
   "source": [
    "#9.13 骰子\n",
    "from random import randint #导入随机数方法\n",
    "\n",
    "class Die:\n",
    "    \"\"\"关于骰子的模拟\"\"\"\n",
    "\n",
    "    def __init__(self, sides=6): #包含一个sides属性，默认值为6，即6个面\n",
    "        \"\"\"初始化骰子的属性\"\"\"\n",
    "        self.sides = sides\n",
    "\n",
    "    def roll_die(self):\n",
    "        \"\"\"打印位于1和骰子面数之间的随机数\"\"\"\n",
    "        print(randint(1,self.sides))\n",
    "\n",
    "die_0 = Die()\n",
    "number = 0\n",
    "while number < 10:\n",
    "    number += 1\n",
    "    die_0.roll_die()\n",
    "\n",
    "die_1 = Die(10)\n",
    "number = 0\n",
    "while number < 10:\n",
    "    number += 1\n",
    "    die_1.roll_die()\n",
    "\n",
    "die_2 = Die(20)\n",
    "number = 0\n",
    "while number < 10:\n",
    "    number += 1\n",
    "    die_2.roll_die()"
   ]
  },
  {
   "cell_type": "code",
   "execution_count": 65,
   "id": "23288522-0c96-4410-bcea-4c9a95063958",
   "metadata": {},
   "outputs": [
    {
     "name": "stdout",
     "output_type": "stream",
     "text": [
      "If there are '1', '888', '66' and '66' on the lottery ticket, you get a big awrad!\n"
     ]
    }
   ],
   "source": [
    "#9.14 彩票\n",
    "from random import choice\n",
    "lottery_ticket = [1, 47, 218, 66, 99, 888, 9076, 1234, 78, 250, 'w', 'm', 'n', 'd']\n",
    "first = choice(lottery_ticket)\n",
    "second = choice(lottery_ticket)\n",
    "third = choice(lottery_ticket)\n",
    "fourth = choice(lottery_ticket)\n",
    "print(f\"If there are '{first}', '{second}', '{third}' and '{fourth}' on the lottery ticket, you get a big awrad!\")"
   ]
  },
  {
   "cell_type": "code",
   "execution_count": 66,
   "id": "98fe1985-13a5-4ec4-a12e-5dac6b02c330",
   "metadata": {},
   "outputs": [
    {
     "name": "stdout",
     "output_type": "stream",
     "text": [
      "After 17305 circles, you got the big award!\n"
     ]
    }
   ],
   "source": [
    "#9.15 彩票分析\n",
    "from random import choice\n",
    "lottery_ticket = [1, 47, 218, 66, 99, 888, 9076, 1234, 78, 250, 'w', 'm', 'n', 'd']\n",
    "number = 0\n",
    "awrad_ticket = [1, 47, 218, 66]\n",
    "while True:\n",
    "    #使用number记录循环次数\n",
    "    number += 1\n",
    "    #生成随机并加入列表\n",
    "    a = choice(lottery_ticket)\n",
    "    b = choice(lottery_ticket)\n",
    "    c = choice(lottery_ticket)\n",
    "    d = choice(lottery_ticket)\n",
    "    my_ticket = [a, b, c ,d]\n",
    "    #使用break退出循环\n",
    "    if my_ticket == awrad_ticket:\n",
    "        print(f'After {number} circles, you got the big award!')\n",
    "        break"
   ]
  },
  {
   "cell_type": "code",
   "execution_count": null,
   "id": "acbebf76-c297-42d8-b87f-480564714879",
   "metadata": {},
   "outputs": [],
   "source": []
  }
 ],
 "metadata": {
  "kernelspec": {
   "display_name": "Python 3 (ipykernel)",
   "language": "python",
   "name": "python3"
  },
  "language_info": {
   "codemirror_mode": {
    "name": "ipython",
    "version": 3
   },
   "file_extension": ".py",
   "mimetype": "text/x-python",
   "name": "python",
   "nbconvert_exporter": "python",
   "pygments_lexer": "ipython3",
   "version": "3.11.7"
  }
 },
 "nbformat": 4,
 "nbformat_minor": 5
}
