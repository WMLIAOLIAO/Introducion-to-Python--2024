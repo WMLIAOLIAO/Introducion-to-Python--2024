{
 "cells": [
  {
   "cell_type": "code",
   "execution_count": null,
   "id": "ce115cff-6c2a-4b2b-9404-5645e4a875d8",
   "metadata": {},
   "outputs": [],
   "source": [
    "#第六章"
   ]
  }
 ],
 "metadata": {
  "kernelspec": {
   "display_name": "Python 3 (ipykernel)",
   "language": "python",
   "name": "python3"
  },
  "language_info": {
   "codemirror_mode": {
    "name": "ipython",
    "version": 3
   },
   "file_extension": ".py",
   "mimetype": "text/x-python",
   "name": "python",
   "nbconvert_exporter": "python",
   "pygments_lexer": "ipython3",
   "version": "3.11.7"
  }
 },
 "nbformat": 4,
 "nbformat_minor": 5
}
