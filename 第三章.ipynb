{
 "cells": [
  {
   "cell_type": "code",
   "execution_count": null,
   "id": "3366012b-6dc7-4df2-adb4-0804441c7e42",
   "metadata": {},
   "outputs": [],
   "source": [
    "#第三章  列表简介"
   ]
  },
  {
   "cell_type": "code",
   "execution_count": 2,
   "id": "36d8158e-bbb4-4597-ab43-34c7ce80ad91",
   "metadata": {},
   "outputs": [
    {
     "name": "stdout",
     "output_type": "stream",
     "text": [
      "['trek', 'cannondale', 'redline', 'specialized']\n"
     ]
    }
   ],
   "source": [
    "bicycles = ['trek', 'cannondale', 'redline', 'specialized'] \n",
    "print(bicycles)"
   ]
  },
  {
   "cell_type": "code",
   "execution_count": null,
   "id": "f362cd0f-9c1b-4473-bb52-de3a60caf559",
   "metadata": {},
   "outputs": [],
   "source": [
    "3.1.1　访问列表元素"
   ]
  },
  {
   "cell_type": "code",
   "execution_count": 3,
   "id": "4727d07e-a126-4abc-a0f6-44513c1315e8",
   "metadata": {},
   "outputs": [
    {
     "data": {
      "text/plain": [
       "'trek'"
      ]
     },
     "execution_count": 3,
     "metadata": {},
     "output_type": "execute_result"
    }
   ],
   "source": [
    "#索引从0开始\n",
    "bicycles[0]"
   ]
  },
  {
   "cell_type": "code",
   "execution_count": 4,
   "id": "4e584b95-cba0-4ee5-8ee9-192c699914ba",
   "metadata": {},
   "outputs": [
    {
     "data": {
      "text/plain": [
       "'specialized'"
      ]
     },
     "execution_count": 4,
     "metadata": {},
     "output_type": "execute_result"
    }
   ],
   "source": [
    "#通过将索引指定为-1 ，可让Python返回最后一个列表元素\n",
    "bicycles[-1]"
   ]
  },
  {
   "cell_type": "code",
   "execution_count": 5,
   "id": "89929b91-71bd-4880-b895-c1e16bedc637",
   "metadata": {},
   "outputs": [
    {
     "name": "stdout",
     "output_type": "stream",
     "text": [
      "trek trek\n"
     ]
    }
   ],
   "source": [
    "print(bicycles[0],bicycles[-4])"
   ]
  },
  {
   "cell_type": "code",
   "execution_count": 6,
   "id": "d6110f0c-95a8-4c6a-86ca-d30367feb5fe",
   "metadata": {},
   "outputs": [
    {
     "name": "stdout",
     "output_type": "stream",
     "text": [
      "['A', 'B', 'C', 'D']\n"
     ]
    }
   ],
   "source": [
    "names=['A','B','C','D']\n",
    "print(names)"
   ]
  },
  {
   "cell_type": "code",
   "execution_count": 14,
   "id": "8c9d7087-ebb6-47ed-81c9-9fe139f60299",
   "metadata": {},
   "outputs": [
    {
     "name": "stdout",
     "output_type": "stream",
     "text": [
      "A,hello!\n",
      "B,hello!\n",
      "C,hello!\n",
      "D,hello!\n",
      "\n"
     ]
    }
   ],
   "source": [
    "sentence=f\"{names[0]},hello!\\n{names[1]},hello!\\n{names[2]},hello!\\n{names[3]},hello!\\n\"\n",
    "print(sentence)"
   ]
  },
  {
   "cell_type": "code",
   "execution_count": 16,
   "id": "a3f0e29f-630b-4f62-ad4f-d5f9033c299f",
   "metadata": {},
   "outputs": [
    {
     "name": "stdout",
     "output_type": "stream",
     "text": [
      "honda,I like it!\n",
      "yamaha,I like it!\n",
      "suzuki,I like it!\n"
     ]
    }
   ],
   "source": [
    "motorcycles =['honda', 'yamaha','suzuki']\n",
    "sents=f\"{motorcycles[0]},I like it!\\n{motorcycles[1]},I like it!\\n{motorcycles[2]},I like it!\"\n",
    "print(sents)"
   ]
  },
  {
   "cell_type": "code",
   "execution_count": null,
   "id": "a2655f17-6a8c-4328-b0cb-75881465af21",
   "metadata": {},
   "outputs": [],
   "source": [
    "3.2.1　修改列表元素"
   ]
  },
  {
   "cell_type": "code",
   "execution_count": 37,
   "id": "1cce5b08-35f4-4a80-b413-2c22d8234628",
   "metadata": {},
   "outputs": [
    {
     "ename": "IndexError",
     "evalue": "pop from empty list",
     "output_type": "error",
     "traceback": [
      "\u001b[1;31m---------------------------------------------------------------------------\u001b[0m",
      "\u001b[1;31mIndexError\u001b[0m                                Traceback (most recent call last)",
      "Cell \u001b[1;32mIn[37], line 1\u001b[0m\n\u001b[1;32m----> 1\u001b[0m popped_name \u001b[38;5;241m=\u001b[39m names\u001b[38;5;241m.\u001b[39mpop()\n\u001b[0;32m      2\u001b[0m \u001b[38;5;28mprint\u001b[39m(\u001b[38;5;124mf\u001b[39m\u001b[38;5;124m\"\u001b[39m\u001b[38;5;132;01m{\u001b[39;00mpopped_name\u001b[38;5;132;01m}\u001b[39;00m\u001b[38;5;124m,sorry.\u001b[39m\u001b[38;5;124m\"\u001b[39m)\n\u001b[0;32m      3\u001b[0m \u001b[38;5;28mprint\u001b[39m(popped_name)\n",
      "\u001b[1;31mIndexError\u001b[0m: pop from empty list"
     ]
    }
   ],
   "source": [
    "popped_name = names.pop()\n",
    "print(f\"{popped_name},sorry.\")\n",
    "print(popped_name)\n",
    "\n",
    "names = ['AMY','TOM','JERRY']\n",
    "print(f\"{names[0]} can not come.\")\n",
    "\n",
    "names.append(\"JOHN\")\n",
    "for name in names:\n",
    "    print(f\"{name}. please!\")\n",
    "\n",
    "names.insert(0,\"HoJ\")\n",
    "names.insert(2,\"Ohj\")\n",
    "names.append(\"JOH\")\n",
    "for name in names:\n",
    "    print(f\"{name}. please!\")\n",
    "\n",
    "popped_name = names.pop()\n",
    "print(f\"{name},sorry.\")\n",
    "print(popped_name)\n",
    "\n",
    "popped_name = names.pop()\n",
    "print(f\"{name},sorry.\")\n",
    "print(popped_name)\n",
    "\n",
    "#这一块一不小心删多了，下面的运行也没法进行了，私密马赛"
   ]
  },
  {
   "cell_type": "code",
   "execution_count": null,
   "id": "ee5461b3-29d5-485b-887c-d2766485f2eb",
   "metadata": {},
   "outputs": [],
   "source": [
    "3.8 放眼世界"
   ]
  },
  {
   "cell_type": "code",
   "execution_count": 38,
   "id": "3d5db62e-ab17-4235-8379-68226c34229a",
   "metadata": {},
   "outputs": [
    {
     "name": "stdout",
     "output_type": "stream",
     "text": [
      "['HK', 'guangdong', 'jining', 'qingdao', 'qvanzhou']\n",
      "['qvanzhou', 'qingdao', 'jining', 'guangdong', 'HK']\n"
     ]
    }
   ],
   "source": [
    "places=[\"HK\",\"guangdong\",\"qingdao\",\"qvanzhou\",\"jining\"]\n",
    "places.sort()\n",
    "print(places)\n",
    "places.sort(reverse=True)\n",
    "print(places)"
   ]
  },
  {
   "cell_type": "code",
   "execution_count": 39,
   "id": "f06ac914-9e3d-4b31-b00e-938aa568ca58",
   "metadata": {},
   "outputs": [
    {
     "name": "stdout",
     "output_type": "stream",
     "text": [
      "['qvanzhou', 'qingdao', 'jining', 'guangdong', 'HK']\n"
     ]
    }
   ],
   "source": [
    "print(places)"
   ]
  },
  {
   "cell_type": "code",
   "execution_count": 40,
   "id": "f9009620-52de-4df7-95a4-308b8a427076",
   "metadata": {},
   "outputs": [
    {
     "name": "stdout",
     "output_type": "stream",
     "text": [
      "['HK', 'guangdong', 'jining', 'qingdao', 'qvanzhou']\n"
     ]
    }
   ],
   "source": [
    "places.sort(reverse=False)\n",
    "print(places)"
   ]
  },
  {
   "cell_type": "code",
   "execution_count": 41,
   "id": "3343a649-7abd-4399-a71f-38d085177728",
   "metadata": {},
   "outputs": [
    {
     "name": "stdout",
     "output_type": "stream",
     "text": [
      "['HK', 'guangdong', 'jining', 'qingdao', 'qvanzhou']\n"
     ]
    }
   ],
   "source": [
    "places.sort()\n",
    "print(places)"
   ]
  },
  {
   "cell_type": "code",
   "execution_count": 42,
   "id": "59c512fd-5c8c-4f4d-82fa-a8da66bdbfa3",
   "metadata": {},
   "outputs": [
    {
     "name": "stdout",
     "output_type": "stream",
     "text": [
      "['qvanzhou', 'qingdao', 'jining', 'guangdong', 'HK']\n"
     ]
    }
   ],
   "source": [
    "places.sort(reverse=True)\n",
    "print(places)"
   ]
  },
  {
   "cell_type": "code",
   "execution_count": 43,
   "id": "df61ac92-3331-4d19-b8ac-d7545e6498d4",
   "metadata": {},
   "outputs": [
    {
     "data": {
      "text/plain": [
       "5"
      ]
     },
     "execution_count": 43,
     "metadata": {},
     "output_type": "execute_result"
    }
   ],
   "source": [
    "3.4\n",
    "#length的缩写 len 显示列表长度\n",
    "\n",
    "car=['qw','er','rt','ty','tu']\n",
    "len(car)"
   ]
  },
  {
   "cell_type": "code",
   "execution_count": null,
   "id": "7658262c-e369-4241-91b8-6ab928204207",
   "metadata": {},
   "outputs": [],
   "source": []
  }
 ],
 "metadata": {
  "kernelspec": {
   "display_name": "Python 3 (ipykernel)",
   "language": "python",
   "name": "python3"
  },
  "language_info": {
   "codemirror_mode": {
    "name": "ipython",
    "version": 3
   },
   "file_extension": ".py",
   "mimetype": "text/x-python",
   "name": "python",
   "nbconvert_exporter": "python",
   "pygments_lexer": "ipython3",
   "version": "3.11.7"
  }
 },
 "nbformat": 4,
 "nbformat_minor": 5
}
