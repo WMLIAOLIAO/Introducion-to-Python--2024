{
 "cells": [
  {
   "cell_type": "code",
   "execution_count": null,
   "id": "b26971b2-0cb6-45d6-8776-25dbc931f4d9",
   "metadata": {},
   "outputs": [],
   "source": [
    "#第五章 if语句"
   ]
  },
  {
   "cell_type": "code",
   "execution_count": 1,
   "id": "b8d169d2-31c5-49fa-b5a2-969cdbceda95",
   "metadata": {},
   "outputs": [
    {
     "name": "stdout",
     "output_type": "stream",
     "text": [
      "Audi\n",
      "BMW\n",
      "Subaru\n",
      "Toyota\n"
     ]
    }
   ],
   "source": [
    "#一个简单示例\n",
    "cars = ['audi', 'bmw', 'subaru', 'toyota']\n",
    "for car in cars:\n",
    "    if car == 'bmw':\n",
    "        print(car.upper())\n",
    "    else:\n",
    "        print(car.title())"
   ]
  },
  {
   "cell_type": "code",
   "execution_count": 2,
   "id": "75905ddd-0523-40ed-b9e0-49ea82d6881b",
   "metadata": {},
   "outputs": [
    {
     "data": {
      "text/plain": [
       "True"
      ]
     },
     "execution_count": 2,
     "metadata": {},
     "output_type": "execute_result"
    }
   ],
   "source": [
    "#条件测试\n",
    "car = 'audi'\n",
    "car == 'audi'"
   ]
  },
  {
   "cell_type": "code",
   "execution_count": 3,
   "id": "c4124350-f40b-4425-9bba-07e3ade9b9bb",
   "metadata": {},
   "outputs": [
    {
     "data": {
      "text/plain": [
       "False"
      ]
     },
     "execution_count": 3,
     "metadata": {},
     "output_type": "execute_result"
    }
   ],
   "source": [
    "car = 'audi'\n",
    "car == 'bmw'\n"
   ]
  },
  {
   "cell_type": "code",
   "execution_count": 4,
   "id": "5605d678-cdf8-4135-9114-28c81b116750",
   "metadata": {},
   "outputs": [
    {
     "data": {
      "text/plain": [
       "True"
      ]
     },
     "execution_count": 4,
     "metadata": {},
     "output_type": "execute_result"
    }
   ],
   "source": [
    "19 != 21"
   ]
  },
  {
   "cell_type": "code",
   "execution_count": 5,
   "id": "99591ddf-1eb5-40ee-9534-05719ed2c263",
   "metadata": {},
   "outputs": [
    {
     "data": {
      "text/plain": [
       "False"
      ]
     },
     "execution_count": 5,
     "metadata": {},
     "output_type": "execute_result"
    }
   ],
   "source": [
    "#检查是否相等时忽略大小写\n",
    "car = 'Audi'\n",
    "car == 'audi'"
   ]
  },
  {
   "cell_type": "code",
   "execution_count": 6,
   "id": "8a6964ac-2926-4738-b506-55014be5bf71",
   "metadata": {},
   "outputs": [
    {
     "data": {
      "text/plain": [
       "True"
      ]
     },
     "execution_count": 6,
     "metadata": {},
     "output_type": "execute_result"
    }
   ],
   "source": [
    "car = 'Audi'\n",
    "car.lower() == 'audi'\n",
    "\n",
    "#函数lower() 不会修改最初赋给变量car 的值，因此进行这样的比较时不会影响原来的变量"
   ]
  },
  {
   "cell_type": "code",
   "execution_count": 7,
   "id": "5f638339-ce13-44cf-a53b-99dda77cfba0",
   "metadata": {},
   "outputs": [
    {
     "name": "stdout",
     "output_type": "stream",
     "text": [
      "Hold the anchovies!\n"
     ]
    }
   ],
   "source": [
    "#检查是否不相等\n",
    "requested_topping = 'mushrooms'\n",
    "if requested_topping != 'anchovies':\n",
    "    print(\"Hold the anchovies!\")"
   ]
  },
  {
   "cell_type": "code",
   "execution_count": 9,
   "id": "f14000b5-4f54-4eff-a814-2f1ce9ea81d9",
   "metadata": {},
   "outputs": [
    {
     "name": "stdout",
     "output_type": "stream",
     "text": [
      "That is not the correct answer. Please try again!\n",
      "True\n",
      "True\n",
      "False\n",
      "False\n"
     ]
    }
   ],
   "source": [
    "#数值比较\n",
    "answer = 17\n",
    "if answer != 42:\n",
    "    print(\"That is not the correct answer. Please try again!\")\n",
    "    \n",
    "age = 20\n",
    "print(age >= 10)\n",
    "print(age <= 90)\n",
    "print(age > 40)\n",
    "print(age < 3)"
   ]
  },
  {
   "cell_type": "code",
   "execution_count": 10,
   "id": "a97d55a1-5efa-48ec-833e-00974957b7a0",
   "metadata": {},
   "outputs": [
    {
     "data": {
      "text/plain": [
       "True"
      ]
     },
     "execution_count": 10,
     "metadata": {},
     "output_type": "execute_result"
    }
   ],
   "source": [
    "age = 20\n",
    "age == 20"
   ]
  },
  {
   "cell_type": "code",
   "execution_count": 11,
   "id": "2ecd6f40-f962-476b-b865-c0af6a85334a",
   "metadata": {},
   "outputs": [
    {
     "data": {
      "text/plain": [
       "False"
      ]
     },
     "execution_count": 11,
     "metadata": {},
     "output_type": "execute_result"
    }
   ],
   "source": [
    "#检查多个条件\n",
    "#使用and检查多个条件\n",
    "age_0 = 22\n",
    "age_1 = 18\n",
    "age_0 >= 21 and age_1 >= 21"
   ]
  },
  {
   "cell_type": "code",
   "execution_count": 12,
   "id": "0396f18a-de7b-48bc-8ad3-6da5cf96b922",
   "metadata": {},
   "outputs": [
    {
     "data": {
      "text/plain": [
       "True"
      ]
     },
     "execution_count": 12,
     "metadata": {},
     "output_type": "execute_result"
    }
   ],
   "source": [
    "age_1 = 22\n",
    "age_0 >= 21 and age_1 >= 21"
   ]
  },
  {
   "cell_type": "code",
   "execution_count": 13,
   "id": "30dfd848-93f8-4d15-883b-960bda7c08fe",
   "metadata": {},
   "outputs": [
    {
     "data": {
      "text/plain": [
       "True"
      ]
     },
     "execution_count": 13,
     "metadata": {},
     "output_type": "execute_result"
    }
   ],
   "source": [
    "#为改善可读性，可将每个测试分别放在一对圆括号内，但并非必须\n",
    "\n",
    "(age_0 >= 21) and (age_1 >= 21)"
   ]
  },
  {
   "cell_type": "code",
   "execution_count": 14,
   "id": "b0d013c5-6820-4d28-830e-cb00fd94fb5c",
   "metadata": {},
   "outputs": [
    {
     "data": {
      "text/plain": [
       "True"
      ]
     },
     "execution_count": 14,
     "metadata": {},
     "output_type": "execute_result"
    }
   ],
   "source": [
    "#使用or检查多个条件\n",
    "age_0 = 22\n",
    "age_1 = 18\n",
    "age_0 >= 21 or age_1 >= 21"
   ]
  },
  {
   "cell_type": "code",
   "execution_count": 15,
   "id": "55aa8441-e87d-4256-ba6c-e1182004b309",
   "metadata": {},
   "outputs": [
    {
     "data": {
      "text/plain": [
       "False"
      ]
     },
     "execution_count": 15,
     "metadata": {},
     "output_type": "execute_result"
    }
   ],
   "source": [
    "age_0 = 18\n",
    "age_0 >= 21 or age_1 >= 21"
   ]
  },
  {
   "cell_type": "code",
   "execution_count": 16,
   "id": "409678be-3360-45d9-b815-308ca7da3dec",
   "metadata": {},
   "outputs": [
    {
     "data": {
      "text/plain": [
       "True"
      ]
     },
     "execution_count": 16,
     "metadata": {},
     "output_type": "execute_result"
    }
   ],
   "source": [
    "True == 1"
   ]
  },
  {
   "cell_type": "code",
   "execution_count": 17,
   "id": "0ea13e29-74d0-424b-b3b6-b560a5af0d7c",
   "metadata": {},
   "outputs": [
    {
     "data": {
      "text/plain": [
       "True"
      ]
     },
     "execution_count": 17,
     "metadata": {},
     "output_type": "execute_result"
    }
   ],
   "source": [
    "False == 0"
   ]
  },
  {
   "cell_type": "code",
   "execution_count": 18,
   "id": "657869d1-4fce-4c3c-8058-9a72ab717714",
   "metadata": {},
   "outputs": [
    {
     "data": {
      "text/plain": [
       "1"
      ]
     },
     "execution_count": 18,
     "metadata": {},
     "output_type": "execute_result"
    }
   ],
   "source": [
    "True + False"
   ]
  },
  {
   "cell_type": "code",
   "execution_count": 19,
   "id": "27906856-15e8-4b37-a70f-378a4ca9b4d0",
   "metadata": {},
   "outputs": [
    {
     "data": {
      "text/plain": [
       "1"
      ]
     },
     "execution_count": 19,
     "metadata": {},
     "output_type": "execute_result"
    }
   ],
   "source": [
    "True - False"
   ]
  },
  {
   "cell_type": "code",
   "execution_count": 20,
   "id": "e68f4adf-05ba-472b-8bd7-408341eabbf2",
   "metadata": {},
   "outputs": [
    {
     "data": {
      "text/plain": [
       "True"
      ]
     },
     "execution_count": 20,
     "metadata": {},
     "output_type": "execute_result"
    }
   ],
   "source": [
    "True & True\n",
    "\n",
    "#and：&"
   ]
  },
  {
   "cell_type": "code",
   "execution_count": 21,
   "id": "26fad460-d6eb-4b34-bcc4-7127009be44a",
   "metadata": {},
   "outputs": [
    {
     "data": {
      "text/plain": [
       "False"
      ]
     },
     "execution_count": 21,
     "metadata": {},
     "output_type": "execute_result"
    }
   ],
   "source": [
    "True & False"
   ]
  },
  {
   "cell_type": "code",
   "execution_count": 22,
   "id": "e01b89a0-a6b4-412f-a8ea-5f1c9362141f",
   "metadata": {},
   "outputs": [
    {
     "data": {
      "text/plain": [
       "True"
      ]
     },
     "execution_count": 22,
     "metadata": {},
     "output_type": "execute_result"
    }
   ],
   "source": [
    "True | False\n",
    "\n",
    "#or：|（竖线，同stata）"
   ]
  },
  {
   "cell_type": "code",
   "execution_count": 23,
   "id": "c05fd2a1-3434-4209-aded-d12e16711284",
   "metadata": {},
   "outputs": [
    {
     "data": {
      "text/plain": [
       "0.0"
      ]
     },
     "execution_count": 23,
     "metadata": {},
     "output_type": "execute_result"
    }
   ],
   "source": [
    "False / True "
   ]
  },
  {
   "cell_type": "code",
   "execution_count": 24,
   "id": "a83457b2-36b8-4eea-b95c-7f4c59b26f29",
   "metadata": {},
   "outputs": [
    {
     "name": "stdout",
     "output_type": "stream",
     "text": [
      "True\n",
      "False\n",
      "\n",
      "False\n"
     ]
    }
   ],
   "source": [
    "#检查特定值是否包含/不包含在列表中\n",
    "requested_toppings = ['mushrooms', 'onions', 'pineapple']\n",
    "print('mushrooms' in requested_toppings)\n",
    "print('pepperoni' in requested_toppings)\n",
    "print()   #相当于空行\n",
    "print('onions' not in requested_toppings)"
   ]
  },
  {
   "cell_type": "code",
   "execution_count": 25,
   "id": "7b9e982b-2d89-497b-bc7b-4c30ca1bef62",
   "metadata": {},
   "outputs": [
    {
     "name": "stdout",
     "output_type": "stream",
     "text": [
      "Marie, you can post a response if you wish.\n"
     ]
    }
   ],
   "source": [
    "banned_users = ['andrew', 'carolina', 'david']\n",
    "user = 'marie'\n",
    "if user not in banned_users:\n",
    "    print(f\"{user.title()}, you can post a response if you wish.\")"
   ]
  },
  {
   "cell_type": "code",
   "execution_count": null,
   "id": "89795675-99b2-4d78-9e29-ccd28d66f9bb",
   "metadata": {},
   "outputs": [],
   "source": [
    "#布尔表达式\n",
    "条件测试的别名。\n",
    "与条件表达式一样，布尔表达式的结果要么为True ，要么为False；\n",
    "布尔值变量:存储布尔表达式结果的变量，通常用于记录条件，如游戏是否正在运行"
   ]
  },
  {
   "cell_type": "code",
   "execution_count": 26,
   "id": "0ded77ea-5904-4062-b5f3-40c4fafa7fc5",
   "metadata": {},
   "outputs": [
    {
     "data": {
      "text/plain": [
       "False"
      ]
     },
     "execution_count": 26,
     "metadata": {},
     "output_type": "execute_result"
    }
   ],
   "source": [
    "game_paused = True\n",
    "not game_paused"
   ]
  },
  {
   "cell_type": "code",
   "execution_count": 28,
   "id": "10f9f32b-d12a-48c6-939f-239d85c2fa48",
   "metadata": {},
   "outputs": [],
   "source": [
    "screen_active = True\n",
    "game_paused = False\n",
    "game_active = screen_active and not game_paused\n",
    "#如果屏幕是激活的(screen active=True)，且游戏没有被暂停(game paused=False)，那么游戏被视为是激活的(game active=True)\n",
    "\n",
    "#打小括号()是提高优先级的方式   ()优先级最高 大于乘方大于乘除大于加减\n",
    "#但是not本身的优先级就高于and，所以这里无需括号\n",
    "\n",
    "can_edit = admin_user or owner_usen\n",
    "#如果用户既不是管理员(admin_user=False)也不是所有者(owner_user=False)，那么就不能编辑(can_edit = False)\n"
   ]
  },
  {
   "cell_type": "code",
   "execution_count": 29,
   "id": "06e1affe-4b8a-4949-b78e-9a564aba3357",
   "metadata": {},
   "outputs": [
    {
     "name": "stdout",
     "output_type": "stream",
     "text": [
      "False\n",
      "True\n"
     ]
    }
   ],
   "source": [
    "#5.1编写条件测试\n",
    "print('ttpd' == 'TTPD')\n",
    "print('you' != 'your')"
   ]
  },
  {
   "cell_type": "code",
   "execution_count": 30,
   "id": "245f9081-d777-45e1-aff3-3164c1204708",
   "metadata": {},
   "outputs": [
    {
     "name": "stdout",
     "output_type": "stream",
     "text": [
      "Is 'red' in colors? I predict true.\n",
      "True\n",
      "\n",
      "Is 'green' not in colors? I predict false.\n",
      "False\n",
      "\n",
      "Is 'brown' in colors? I predict false.\n",
      "False\n",
      "\n",
      "Is 'white' not in colors? I predict true.\n",
      "True\n",
      "\n",
      "Are 'red' and 'blue' in colors? I predict true.\n",
      "True\n",
      "\n",
      "Are 'red' and 'purple' in colors? I predict false.\n",
      "False\n"
     ]
    }
   ],
   "source": [
    "colors=['red','blue','yellow','green']\n",
    "print(\"Is 'red' in colors? I predict true.\")\n",
    "print('red' in colors)\n",
    "\n",
    "print(\"\\nIs 'green' not in colors? I predict false.\")\n",
    "print('green' not in colors)\n",
    "\n",
    "print(\"\\nIs 'brown' in colors? I predict false.\")\n",
    "print('brown' in colors)\n",
    "\n",
    "print(\"\\nIs 'white' not in colors? I predict true.\")\n",
    "print('white' not in colors)\n",
    "\n",
    "print(\"\\nAre 'red' and 'blue' in colors? I predict true.\")\n",
    "print('red' and 'blue' in colors)\n",
    "\n",
    "print(\"\\nAre 'red' and 'purple' in colors? I predict false.\")\n",
    "print('red' and 'purple' in colors)"
   ]
  },
  {
   "cell_type": "code",
   "execution_count": 31,
   "id": "c3d0c28c-4d47-472e-b36f-ac201e40067b",
   "metadata": {},
   "outputs": [
    {
     "name": "stdout",
     "output_type": "stream",
     "text": [
      "Is gender == 'female'? I predict True.\n",
      "True\n",
      "\n",
      "Is gender == 'male'? I predict False.\n",
      "False\n",
      "\n",
      "Is gender != 'male'? I predict true.\n",
      "True\n",
      "\n",
      "Is gender != 'female'? I predict False.\n",
      "False\n"
     ]
    }
   ],
   "source": [
    "gender = 'female'\n",
    "print(\"Is gender == 'female'? I predict True.\")\n",
    "print(gender == 'female')\n",
    "print(\"\\nIs gender == 'male'? I predict False.\")\n",
    "print(gender == 'male')\n",
    "print(\"\\nIs gender != 'male'? I predict true.\")\n",
    "print(gender != 'male')\n",
    "print(\"\\nIs gender != 'female'? I predict False.\")\n",
    "print(gender != 'female')"
   ]
  },
  {
   "cell_type": "code",
   "execution_count": 32,
   "id": "7df10dd3-23c1-4dd1-b4a4-226dc9bee824",
   "metadata": {},
   "outputs": [
    {
     "name": "stdout",
     "output_type": "stream",
     "text": [
      "True\n",
      "False\n"
     ]
    }
   ],
   "source": [
    "sky = 'moon'\n",
    "ground = 'leaf'\n",
    "print(sky != ground)\n",
    "print(sky == ground)"
   ]
  },
  {
   "cell_type": "code",
   "execution_count": 33,
   "id": "3768ebba-6a89-4927-a8e9-f5c1118d3141",
   "metadata": {},
   "outputs": [
    {
     "name": "stdout",
     "output_type": "stream",
     "text": [
      "True\n",
      "False\n"
     ]
    }
   ],
   "source": [
    "boy = 'Cascades'\n",
    "print(boy.lower() == 'cascades')\n",
    "print(boy.lower() == 'Cascades')"
   ]
  },
  {
   "cell_type": "code",
   "execution_count": 34,
   "id": "9647e267-7a1d-49cd-a940-37dad676c194",
   "metadata": {},
   "outputs": [
    {
     "name": "stdout",
     "output_type": "stream",
     "text": [
      "True\n",
      "False\n",
      "False\n",
      "True\n",
      "True\n",
      "False\n"
     ]
    }
   ],
   "source": [
    "rk = 3\n",
    "print(rk > 1)\n",
    "print(rk >= 5)\n",
    "print(rk == 81)\n",
    "print(rk <= 3)\n",
    "print(rk <= 100 or rk > 78)\n",
    "print(rk != 100 and rk < 1)"
   ]
  },
  {
   "cell_type": "code",
   "execution_count": null,
   "id": "6d813c36-7d2b-49ac-81e9-48e882c96dc1",
   "metadata": {},
   "outputs": [],
   "source": [
    "#5.3 if语句\n",
    "条件测试\n",
    "相关操作\n"
   ]
  },
  {
   "cell_type": "code",
   "execution_count": 37,
   "id": "47eb405d-2af0-4ac3-a19e-a77b20ca7a03",
   "metadata": {},
   "outputs": [
    {
     "name": "stdout",
     "output_type": "stream",
     "text": [
      "Sorry, you are too young to vote.\n",
      "Please register to vote as soon as you turn 18!\n",
      "Your admission cost is $25.\n"
     ]
    }
   ],
   "source": [
    "#if-else语句\n",
    "#总是执行两个操作中的一个\n",
    "age = 17\n",
    "if age >= 18:\n",
    "    print(\"You are old enough to vote!\")\n",
    "    print(\"Have you registered to vote yet?\")\n",
    "else:\n",
    "    print(\"Sorry, you are too young to vote.\")\n",
    "    print(\"Please register to vote as soon as you turn 18!\")\n",
    "\n",
    "#if-elif-else语句\n",
    "#只执行结构中的一个代码块，它依次通过每一个条件测试，\n",
    "#直到遇到通过了之后的条件测试，python将执行紧跟在他后面的代码，并跳过余下的代码测试\n",
    "age = 12\n",
    "if age < 4:\n",
    "    print(\"Your admission cost is $0.\")\n",
    "elif age < 18:\n",
    "    print(\"Your admission cost is $25.\")\n",
    "else:\n",
    "    print(\"Your admission cost is $40.\")\n"
   ]
  },
  {
   "cell_type": "code",
   "execution_count": 38,
   "id": "2f5c3715-2d52-49f3-84fb-da9b51908512",
   "metadata": {},
   "outputs": [
    {
     "name": "stdout",
     "output_type": "stream",
     "text": [
      "Your admission cost is $25.\n"
     ]
    }
   ],
   "source": [
    "#省略else 代码块\n",
    "age = 12\n",
    "if age < 4:\n",
    "    price = 0\n",
    "elif age < 18:\n",
    "    price = 25\n",
    "elif age < 65:\n",
    "    price = 40\n",
    "elif age >= 65:\n",
    "    price = 20\n",
    "\n",
    "print(f\"Your admission cost is ${price}.\")"
   ]
  },
  {
   "cell_type": "code",
   "execution_count": 39,
   "id": "49f0d91d-cd4c-464c-b40e-d211b6d25f85",
   "metadata": {},
   "outputs": [
    {
     "name": "stdout",
     "output_type": "stream",
     "text": [
      "Adding mushrooms.\n",
      "Adding extra cheese.\n",
      "\n",
      "Finished making your pizza!\n"
     ]
    }
   ],
   "source": [
    "#测试多个条件\n",
    "#但有的情况并不适合用elif，只能反复采用if，否则容易造成混乱\n",
    "\n",
    "requested_toppings = ['mushrooms','extra cheese']\n",
    "if 'mushrooms' in requested_toppings:\n",
    "    print(\"Adding mushrooms.\")\n",
    "if 'pepperoni' in requested_toppings:\n",
    "    print(\"Adding pepperoni.\")\n",
    "if 'extra cheese' in requested_toppings:\n",
    "    print(\"Adding extra cheese.\")\n",
    "                      \n",
    "print(\"\\nFinished making your pizza!\")"
   ]
  },
  {
   "cell_type": "code",
   "execution_count": 40,
   "id": "8e85aeb5-6a87-473d-bd94-af535b618db5",
   "metadata": {},
   "outputs": [
    {
     "name": "stdout",
     "output_type": "stream",
     "text": [
      "Adding mushrooms.\n",
      "\n",
      "Finished making your pizza!\n"
     ]
    }
   ],
   "source": [
    "requested_toppings = ['mushrooms', 'extra cheese']\n",
    "if 'mushrooms' in requested_toppings:\n",
    "    print(\"Adding mushrooms.\")\n",
    "elif 'pepperoni' in requested_toppings: \n",
    "    print(\"Adding pepperoni.\")\n",
    "elif 'extra cheese' in requested_toppings:\n",
    "    print(\"Adding extra cheese.\")\n",
    "print(\"\\nFinished making your pizza!\")"
   ]
  },
  {
   "cell_type": "code",
   "execution_count": 41,
   "id": "180389dc-cb2b-42f0-a634-a0f7e8752c11",
   "metadata": {},
   "outputs": [
    {
     "name": "stdout",
     "output_type": "stream",
     "text": [
      "You got 5 points!\n"
     ]
    }
   ],
   "source": [
    "#外星人颜色\n",
    "alien_color='yellow'\n",
    "if alien_color == 'yellow':\n",
    "    print(\"You got 5 points!\")\n"
   ]
  },
  {
   "cell_type": "code",
   "execution_count": 42,
   "id": "6e44ec75-b0b8-45f5-9a25-c67e35cb712f",
   "metadata": {},
   "outputs": [],
   "source": [
    "alien_color='red'\n",
    "if alien_color == 'green':\n",
    "    print(\"You got 5 points!\")\n"
   ]
  },
  {
   "cell_type": "code",
   "execution_count": 43,
   "id": "782c8a78-2f3e-480f-900f-95581161582b",
   "metadata": {},
   "outputs": [
    {
     "name": "stdout",
     "output_type": "stream",
     "text": [
      "You got 10 points!\n"
     ]
    }
   ],
   "source": [
    "alien_color='red'\n",
    "if alien_color == 'green':\n",
    "    print(\"You got 5 points!\")\n",
    "else:\n",
    "    print(\"You got 10 points!\")"
   ]
  },
  {
   "cell_type": "code",
   "execution_count": 44,
   "id": "93e03946-6a98-4007-a3ec-b5c7f86d78da",
   "metadata": {},
   "outputs": [
    {
     "name": "stdout",
     "output_type": "stream",
     "text": [
      "You got 5 points!\n"
     ]
    }
   ],
   "source": [
    "alien_color='green'\n",
    "if alien_color == 'green':\n",
    "    print(\"You got 5 points!\")\n",
    "else:\n",
    "    print(\"You got 10 points!\")"
   ]
  },
  {
   "cell_type": "code",
   "execution_count": 47,
   "id": "2e923a21-f2e8-4df1-9e5e-1273ef550e9c",
   "metadata": {},
   "outputs": [
    {
     "name": "stdout",
     "output_type": "stream",
     "text": [
      "You got 15 points!\n"
     ]
    }
   ],
   "source": [
    "alien_color='red'\n",
    "if alien_color == 'green':\n",
    "    print(\"You got 5 points!\")\n",
    "elif alien_color == 'yellow':\n",
    "    print(\"You got 10 points!\")\n",
    "else:\n",
    "    print(\"You got 15 points!\")"
   ]
  },
  {
   "cell_type": "code",
   "execution_count": 48,
   "id": "6e5230c8-d2d3-4f8b-9c1f-b689ef42bd63",
   "metadata": {},
   "outputs": [
    {
     "name": "stdout",
     "output_type": "stream",
     "text": [
      "He/She is an adult.\n"
     ]
    }
   ],
   "source": [
    "age = 23\n",
    "if age < 2:\n",
    "    print(\"He/She is an infant.\")\n",
    "elif age < 4:\n",
    "    print(\"He/She is a toddler.\")\n",
    "elif age < 13:\n",
    "    print(\"He/She is a child.\")\n",
    "elif age < 20:\n",
    "    print(\"He/She is a teenager.\")\n",
    "elif age < 65:\n",
    "    print(\"He/She is an adult.\")\n",
    "else:\n",
    "    print(\"He/She is an old.\")\n"
   ]
  },
  {
   "cell_type": "code",
   "execution_count": 49,
   "id": "5dac92da-029d-4885-a53f-ce74d8202c9c",
   "metadata": {},
   "outputs": [
    {
     "name": "stdout",
     "output_type": "stream",
     "text": [
      "You really like apples!\n",
      "You really like peach!\n",
      "You really like durian!\n"
     ]
    }
   ],
   "source": [
    "favorite_fruits=['apple','peach','durian']\n",
    "if 'cherry' in favorite_fruits:\n",
    "    print(\"You really like cherry!\")\n",
    "if 'apple' in favorite_fruits:\n",
    "    print(\"You really like apples!\")\n",
    "if 'peach' in favorite_fruits:\n",
    "    print(\"You really like peach!\")\n",
    "if 'banana' in favorite_fruits:\n",
    "    print(\"You really like bananas!\")\n",
    "if 'durian' in favorite_fruits:\n",
    "    print(\"You really like durian!\")"
   ]
  },
  {
   "cell_type": "code",
   "execution_count": 50,
   "id": "51d0962b-4d09-49e3-9135-703a5f19dae6",
   "metadata": {},
   "outputs": [
    {
     "name": "stdout",
     "output_type": "stream",
     "text": [
      "Adding mushrooms.\n",
      "Sorry, we are out of green peppers right now.\n",
      "Adding extra cheese.\n",
      "\n",
      "Finished making your pizza!\n"
     ]
    }
   ],
   "source": [
    "#5.4使用if语句处理列表\n",
    "requested_toppings = ['mushrooms', 'green peppers', 'extra cheese']\n",
    "for requested_top in requested_toppings:\n",
    "    if requested_top == 'green peppers':\n",
    "        print(\"Sorry, we are out of green peppers right now.\")\n",
    "    else:\n",
    "        print(f\"Adding {requested_top}.\")\n",
    "print(\"\\nFinished making your pizza!\")\n"
   ]
  },
  {
   "cell_type": "code",
   "execution_count": null,
   "id": "73f7a578-58b3-4a98-a7c4-dc2e2dcd622d",
   "metadata": {},
   "outputs": [],
   "source": [
    "确定列表不是空的\n",
    "运行for 循环前确定列表是否为空很重要\n",
    "\n",
    "#将数值0、空值 None、空字符串\"\"、空列表[ ] 、空元组()、空字典{}用作条件表达式时,python 都会返回False。\n",
    "#我们可以将列表名用作条件表达式，这个表达式只有当列表至少包含一个元素时才为 True"
   ]
  },
  {
   "cell_type": "code",
   "execution_count": 51,
   "id": "91187f14-77d2-4806-b326-3a1945d91576",
   "metadata": {},
   "outputs": [
    {
     "name": "stdout",
     "output_type": "stream",
     "text": [
      "Are you sure you want a plain pizza?\n"
     ]
    }
   ],
   "source": [
    "requested_toppings = []\n",
    "if requested_toppings:\n",
    "    for requested_top in requested_toppings:\n",
    "        print(f\"Adding {requested_top}.\")\n",
    "        print(\"\\nFinished making your pizza!\")\n",
    "else:\n",
    "    print(\"Are you sure you want a plain pizza?\")\n",
    "    "
   ]
  },
  {
   "cell_type": "code",
   "execution_count": 52,
   "id": "adfd5de0-7e00-4d7c-894a-39a9b3bc6cfe",
   "metadata": {},
   "outputs": [
    {
     "name": "stdout",
     "output_type": "stream",
     "text": [
      "Adding mushrooms.\n",
      "Sorry, we don't have french fries.\n",
      "Adding extra cheese.\n",
      "\n",
      "Finished making your pizza!\n"
     ]
    }
   ],
   "source": [
    "#使用多个列表\n",
    "available_toppings = ['mushrooms', 'olives', 'green peppers','pepperoni', 'pineapple', 'extra cheese']\n",
    "requested_toppings = ['mushrooms', 'french fries', 'extra cheese']\n",
    "for requested_top in requested_toppings:\n",
    "    if requested_top in available_toppings:\n",
    "        print(f\"Adding {requested_top}.\")\n",
    "    else:\n",
    "        print(f\"Sorry, we don't have {requested_top}.\")\n",
    "print(\"\\nFinished making your pizza!\")"
   ]
  },
  {
   "cell_type": "code",
   "execution_count": 53,
   "id": "0fcc2acf-d57e-4fc7-85cf-8503882f0719",
   "metadata": {},
   "outputs": [
    {
     "name": "stdout",
     "output_type": "stream",
     "text": [
      "Hello wm, thank you for logging in again.\n",
      "Hello ll, thank you for logging in again.\n",
      "Hello admin, would you like to see a status report?\n",
      "Hello ai, thank you for logging in again.\n",
      "Hello ni, thank you for logging in again.\n"
     ]
    }
   ],
   "source": [
    "name_users = ['wm','ll','admin','ai','ni']\n",
    "for name in name_users:\n",
    "    if name == 'admin':\n",
    "        print(\"Hello admin, would you like to see a status report?\")\n",
    "    else:\n",
    "        print(f\"Hello {name}, thank you for logging in again.\")"
   ]
  },
  {
   "cell_type": "code",
   "execution_count": 54,
   "id": "2ab4eb5b-805c-446c-9e6a-7f3ce10b6771",
   "metadata": {},
   "outputs": [
    {
     "name": "stdout",
     "output_type": "stream",
     "text": [
      "We need to find some users!\n"
     ]
    }
   ],
   "source": [
    "name_users = []\n",
    "if name_users:\n",
    "    for name in name_users:\n",
    "        if name == 'admin':\n",
    "            print(\"Hello admin, would you like to see a status report?\")\n",
    "        else:\n",
    "            print(f\"Hello {name}, thank you for logging in again.\")\n",
    "else:\n",
    "    print(\"We need to find some users!\")"
   ]
  },
  {
   "cell_type": "code",
   "execution_count": 55,
   "id": "7abb7ed5-9613-46e4-87bf-00877557751c",
   "metadata": {},
   "outputs": [
    {
     "name": "stdout",
     "output_type": "stream",
     "text": [
      "Amy未被使用，可以使用\n",
      "已被使用，请输入除Rose之外的用户名。\n",
      "Linda未被使用，可以使用\n",
      "Emily未被使用，可以使用\n",
      "Sandra未被使用，可以使用\n"
     ]
    }
   ],
   "source": [
    "current_users=['Ross','Jimmy','Mike','Alice','Rose']\n",
    "new_users=['Amy','Rose','Linda','Emily','Sandra']\n",
    "for new in new_users:\n",
    "    if new in current_users or new.lower() in current_users:\n",
    "        print(f\"已被使用，请输入除{new}之外的用户名。\")\n",
    "    else:\n",
    "        print(f\"{new}未被使用，可以使用\")"
   ]
  },
  {
   "cell_type": "code",
   "execution_count": 56,
   "id": "fa5860b0-8cae-4b30-ad90-68a3ed06ebaa",
   "metadata": {},
   "outputs": [
    {
     "name": "stdout",
     "output_type": "stream",
     "text": [
      "1st\n",
      "2nd\n",
      "3rd\n",
      "4th\n",
      "5th\n",
      "6th\n",
      "7th\n",
      "8th\n",
      "9th\n"
     ]
    }
   ],
   "source": [
    "numbers=[1,2,3,4,5,6,7,8,9]\n",
    "for number in numbers:\n",
    "    if number == 1:\n",
    "        print(\"1st\")\n",
    "    elif number == 2:\n",
    "        print(\"2nd\")\n",
    "    elif number == 3:\n",
    "        print(\"3rd\")\n",
    "    else:\n",
    "        print(f\"{number}th\")"
   ]
  },
  {
   "cell_type": "code",
   "execution_count": null,
   "id": "3b18fe9a-3965-4b53-8459-d64cca4dded9",
   "metadata": {},
   "outputs": [],
   "source": [
    "#设置if 语句的格式\n",
    "在条件测试的格式设置方面，PEP 8提供的唯一建议是，在诸如== 、>= 和<= 等比较运算符两边各添加一个空格。\n",
    "\n",
    "\"if age < 4:\"比\"if age<4:\"更可读"
   ]
  }
 ],
 "metadata": {
  "kernelspec": {
   "display_name": "Python 3 (ipykernel)",
   "language": "python",
   "name": "python3"
  },
  "language_info": {
   "codemirror_mode": {
    "name": "ipython",
    "version": 3
   },
   "file_extension": ".py",
   "mimetype": "text/x-python",
   "name": "python",
   "nbconvert_exporter": "python",
   "pygments_lexer": "ipython3",
   "version": "3.11.7"
  }
 },
 "nbformat": 4,
 "nbformat_minor": 5
}
