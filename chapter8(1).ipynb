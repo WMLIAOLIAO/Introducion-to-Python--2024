{
 "cells": [
  {
   "cell_type": "code",
   "execution_count": 1,
   "id": "7b881714-ea5f-4d79-ad58-b708ce578c83",
   "metadata": {},
   "outputs": [
    {
     "name": "stdout",
     "output_type": "stream",
     "text": [
      "Hello!\n"
     ]
    }
   ],
   "source": [
    "#第8章 函数\n",
    "#8.1 定义函数\n",
    "def greet_user():\n",
    "    \"\"\"显示简单的问候语\"\"\"\n",
    "    print(\"Hello!\")\n",
    "\n",
    "greet_user()\n"
   ]
  },
  {
   "cell_type": "code",
   "execution_count": 2,
   "id": "8f6e12da-6899-4d65-900d-4834d64e41b8",
   "metadata": {},
   "outputs": [
    {
     "name": "stdout",
     "output_type": "stream",
     "text": [
      "Hello!\n"
     ]
    }
   ],
   "source": [
    "greet_user()"
   ]
  },
  {
   "cell_type": "code",
   "execution_count": 3,
   "id": "77e2cd65-331d-4edf-abc8-0fb7620b821a",
   "metadata": {},
   "outputs": [
    {
     "name": "stdout",
     "output_type": "stream",
     "text": [
      "Hello,Amy!\n",
      "Hello,Betty!\n"
     ]
    }
   ],
   "source": [
    "#8.1.1 向函数传递信息\n",
    "def greet_user(username):\n",
    "    \"\"\"显示简单的问候语并以用户名为抬头\"\"\"\n",
    "    print(f\"Hello,{username.title()}!\")\n",
    "greet_user('amy')\n",
    "greet_user('betty')"
   ]
  },
  {
   "cell_type": "code",
   "execution_count": 4,
   "id": "8a7bac2b-29a7-4a6b-90bd-589df0c000e9",
   "metadata": {},
   "outputs": [],
   "source": [
    "#8.1.2 实参和形参\n",
    "#变量username是一个形参，值'jesse'是一个实参，我们将实参传递给函数，这个值被赋给了形参\n"
   ]
  },
  {
   "cell_type": "code",
   "execution_count": 5,
   "id": "cc048586-7bfd-44c8-a4ea-7968e1376abd",
   "metadata": {},
   "outputs": [
    {
     "name": "stdout",
     "output_type": "stream",
     "text": [
      "\n",
      "I have a hamster.\n",
      "My hamster's name is Harry.\n",
      "\n",
      "I have a cat.\n",
      "My cat's name is Kitty.\n",
      "\n",
      "I have a harry.\n",
      "My harry's name is Hamster.\n"
     ]
    }
   ],
   "source": [
    "#.2 传递实参\n",
    "#8.2.1 位置实参\n",
    "def describe_pet(animal_type, pet_name):\n",
    "    \"\"\"显示宠物的信息\"\"\"\n",
    "    print(f\"\\nI have a {animal_type}.\")\n",
    "    print(f\"My {animal_type}'s name is {pet_name.title()}.\")\n",
    "\n",
    "#位置实参即一一对应\n",
    "describe_pet('hamster', 'harry')\n",
    "describe_pet('cat', 'kitty')\n",
    "describe_pet('harry', 'hamster')"
   ]
  },
  {
   "cell_type": "code",
   "execution_count": 6,
   "id": "e5db95ef-0a57-40a2-9589-e607c4397402",
   "metadata": {},
   "outputs": [
    {
     "name": "stdout",
     "output_type": "stream",
     "text": [
      "\n",
      "I have a hamster.\n",
      "My hamster's name is Harry.\n",
      "\n",
      "I have a hamster.\n",
      "My hamster's name is Harry.\n"
     ]
    }
   ],
   "source": [
    "#8.2.2 关键字实参\n",
    "def describe_pet(animal_type, pet_name):\n",
    "    \"\"\"显示宠物的信息\"\"\"\n",
    "    print(f\"\\nI have a {animal_type}.\")\n",
    "    print(f\"My {animal_type}'s name is {pet_name.title()}.\")\n",
    "\n",
    "describe_pet(animal_type='hamster', pet_name='harry')\n",
    "#名值对，在实参中将名称与值相关联，无需考虑顺序\n",
    "describe_pet(pet_name='harry',animal_type='hamster')"
   ]
  },
  {
   "cell_type": "code",
   "execution_count": 7,
   "id": "31712043-c2bb-49ee-a573-9d18fc3388d8",
   "metadata": {},
   "outputs": [
    {
     "name": "stdout",
     "output_type": "stream",
     "text": [
      "\n",
      "I have a dog.\n",
      "My dog's name is Lucky.\n",
      "\n",
      "I have a dog.\n",
      "My dog's name is Lucky.\n",
      "\n",
      "I have a cat.\n",
      "My cat's name is Lucky.\n"
     ]
    }
   ],
   "source": [
    "#8.2.3 默认值\n",
    "#必须先列出没有默认值的形参\n",
    "def describe_pet(pet_name,animal_type='dog'):\n",
    "    \"\"\"显示宠物的信息\"\"\"\n",
    "    print(f\"\\nI have a {animal_type}.\")\n",
    "    print(f\"My {animal_type}'s name is {pet_name.title()}.\")\n",
    "\n",
    "describe_pet(pet_name='lucky')\n",
    "describe_pet('lucky')\n",
    "describe_pet(pet_name='lucky',animal_type='cat')"
   ]
  },
  {
   "cell_type": "code",
   "execution_count": 8,
   "id": "2f9df774-fba4-4075-a648-c97c21be2def",
   "metadata": {},
   "outputs": [
    {
     "name": "stdout",
     "output_type": "stream",
     "text": [
      "\n",
      "I have a dog.\n",
      "My dog's name is Lucky.\n",
      "\n",
      "I have a dog.\n",
      "My dog's name is Lucky.\n",
      "\n",
      "I have a cat.\n",
      "My cat's name is Lucky.\n",
      "\n",
      "I have a hamsetr.\n",
      "My hamsetr's name is Harry.\n",
      "\n",
      "I have a hamster.\n",
      "My hamster's name is Harry.\n"
     ]
    }
   ],
   "source": [
    "#8.2.4 等效的函数调用\n",
    "def describe_pet(pet_name,animal_type='dog'):\n",
    "    \"\"\"显示宠物的信息\"\"\"\n",
    "    print(f\"\\nI have a {animal_type}.\")\n",
    "    print(f\"My {animal_type}'s name is {pet_name.title()}.\")\n",
    "\n",
    "describe_pet(pet_name='lucky')#关键字实参\n",
    "describe_pet('lucky')#位置实参\n",
    "describe_pet(pet_name='lucky',animal_type='cat')#关键字\n",
    "describe_pet('harry','hamsetr')#位置\n",
    "describe_pet(animal_type='hamster',pet_name='harry')#关键字"
   ]
  },
  {
   "cell_type": "code",
   "execution_count": 9,
   "id": "2487497d-dd47-47c1-8a0a-bb6176e35ffd",
   "metadata": {},
   "outputs": [
    {
     "ename": "TypeError",
     "evalue": "describe_pet() missing 2 required positional arguments: 'pet_name' and 'animal_type'",
     "output_type": "error",
     "traceback": [
      "\u001b[1;31m---------------------------------------------------------------------------\u001b[0m",
      "\u001b[1;31mTypeError\u001b[0m                                 Traceback (most recent call last)",
      "Cell \u001b[1;32mIn[9], line 7\u001b[0m\n\u001b[0;32m      5\u001b[0m     \u001b[38;5;28mprint\u001b[39m(\u001b[38;5;124mf\u001b[39m\u001b[38;5;124m\"\u001b[39m\u001b[38;5;124mMy \u001b[39m\u001b[38;5;132;01m{\u001b[39;00manimal_type\u001b[38;5;132;01m}\u001b[39;00m\u001b[38;5;124m'\u001b[39m\u001b[38;5;124ms name is \u001b[39m\u001b[38;5;132;01m{\u001b[39;00mpet_name\u001b[38;5;241m.\u001b[39mtitle()\u001b[38;5;132;01m}\u001b[39;00m\u001b[38;5;124m.\u001b[39m\u001b[38;5;124m\"\u001b[39m)\n\u001b[0;32m      6\u001b[0m \u001b[38;5;66;03m#未指定实参出现错误\u001b[39;00m\n\u001b[1;32m----> 7\u001b[0m describe_pet()\n",
      "\u001b[1;31mTypeError\u001b[0m: describe_pet() missing 2 required positional arguments: 'pet_name' and 'animal_type'"
     ]
    }
   ],
   "source": [
    "#.2.5 避免实参错误\n",
    "def describe_pet(pet_name,animal_type):\n",
    "    \"\"\"显示宠物的信息\"\"\"\n",
    "    print(f\"\\nI have a {animal_type}.\")\n",
    "    print(f\"My {animal_type}'s name is {pet_name.title()}.\")\n",
    "#未指定实参出现错误\n",
    "describe_pet()"
   ]
  },
  {
   "cell_type": "code",
   "execution_count": 10,
   "id": "c31b5e38-3090-4bbc-a6b5-16ce3c3eb438",
   "metadata": {},
   "outputs": [
    {
     "name": "stdout",
     "output_type": "stream",
     "text": [
      "Taylor Swift\n"
     ]
    }
   ],
   "source": [
    "#8.3 返回值\n",
    "#8.3.1 返回简单的值\n",
    "def get_formatted_name(first_name, last_name):\n",
    "    \"\"\"返回标准格式的姓名\"\"\"\n",
    "    full_name = f\"{first_name} {last_name}\"#将姓名赋给fullname\n",
    "    return full_name.title()#返回大写的fullname\n",
    "\n",
    "musician = get_formatted_name('Taylor','Swift')\n",
    "print(musician)\n"
   ]
  },
  {
   "cell_type": "code",
   "execution_count": 11,
   "id": "abbe9acc-9cd1-4fb6-b44a-6dfc0c506d2c",
   "metadata": {},
   "outputs": [
    {
     "name": "stdout",
     "output_type": "stream",
     "text": [
      "Taylor Cutie Swift\n"
     ]
    }
   ],
   "source": [
    "#.3.2 让实参变成可选的\n",
    "def get_formatted_name(first_name, middle_name, last_name):\n",
    "    \"\"\"返回标准格式的姓名\"\"\"\n",
    "    full_name = f\"{first_name} {middle_name} {last_name}\"\n",
    "    return full_name.title()\n",
    "\n",
    "musician = get_formatted_name('Taylor','cutie','Swift')\n",
    "print(musician)"
   ]
  },
  {
   "cell_type": "code",
   "execution_count": 13,
   "id": "99d7c3a2-7b8f-4067-93db-e48b13ec8386",
   "metadata": {},
   "outputs": [
    {
     "name": "stdout",
     "output_type": "stream",
     "text": [
      "Taylor Swift\n",
      "Taylor Swift Cutie\n"
     ]
    }
   ],
   "source": [
    "def get_formatted_name(first_name, last_name, middle_name=''):#给形参middle指定一个空字符串默认值\n",
    "    \"\"\"返回标准格式的姓名\"\"\"\n",
    "    #如果middlename不为空，那么输出三个，否则输出两个\n",
    "    if middle_name:\n",
    "        full_name = f\"{first_name} {middle_name} {last_name}\"\n",
    "    else:\n",
    "        full_name = f\"{first_name} {last_name}\"\n",
    "    return full_name.title()\n",
    "\n",
    "musician = get_formatted_name('Taylor','Swift')\n",
    "print(musician)\n",
    "musician = get_formatted_name('Taylor','cutie','Swift')\n",
    "print(musician)"
   ]
  },
  {
   "cell_type": "code",
   "execution_count": 14,
   "id": "d8e9ab98-cdbe-42be-9c13-bbe5f76a77f0",
   "metadata": {},
   "outputs": [
    {
     "name": "stdout",
     "output_type": "stream",
     "text": [
      "{'first': 'Talyor', 'last': 'Swift'}\n",
      "{'first': 'Talyor', 'last': 'Swift', 'age': 35}\n"
     ]
    }
   ],
   "source": [
    "#8.3.3 返回字典\n",
    "def build_person(first_name, last_name,age=''):\n",
    "    \"\"\"返回一个字典，其中包含有关一个人的信息\"\"\"\n",
    "    person = {'first': first_name, 'last': last_name}\n",
    "    #age形参为可选，如果有age，则将其存储至字典\n",
    "    if age:\n",
    "        person['age'] = age\n",
    "    return person\n",
    "\n",
    "musician = build_person('Talyor','Swift')\n",
    "print(musician)\n",
    "musician = build_person('Talyor','Swift',age=35)\n",
    "print(musician)"
   ]
  },
  {
   "cell_type": "code",
   "execution_count": 15,
   "id": "528baea5-469f-46e6-af0e-80d94315b035",
   "metadata": {},
   "outputs": [
    {
     "name": "stdout",
     "output_type": "stream",
     "text": [
      "\n",
      "Please tell me your name:\n",
      "(enter 'q' at any time to quit)\n"
     ]
    },
    {
     "name": "stdin",
     "output_type": "stream",
     "text": [
      "First name: Tayyy\n",
      "Last name: LORRRR\n"
     ]
    },
    {
     "name": "stdout",
     "output_type": "stream",
     "text": [
      "Hello, Tayyy Lorrrr\n",
      "\n",
      "Please tell me your name:\n",
      "(enter 'q' at any time to quit)\n"
     ]
    },
    {
     "name": "stdin",
     "output_type": "stream",
     "text": [
      "First name: q\n"
     ]
    }
   ],
   "source": [
    "#8.3.4 结合使用函数和while循环\n",
    "def get_formatted_name(first_name, last_name):\n",
    "    \"\"\"返回标准格式的姓名\"\"\"\n",
    "    full_name = f\"{first_name} {last_name}\"\n",
    "    return full_name.title()\n",
    "\n",
    "while True:\n",
    "    print(\"\\nPlease tell me your name:\")\n",
    "    print(\"(enter 'q' at any time to quit)\")\n",
    "    f_name = input(\"First name:\")\n",
    "    if f_name == 'q':\n",
    "        break\n",
    "    l_name = input(\"Last name:\")\n",
    "    if l_name == 'q':\n",
    "        break\n",
    "\n",
    "    formatted_name = get_formatted_name(f_name, l_name)\n",
    "    print(f\"Hello, {formatted_name}\")\n",
    "    "
   ]
  },
  {
   "cell_type": "code",
   "execution_count": 17,
   "id": "4efb13ca-d603-4c71-bf3a-ea8036940996",
   "metadata": {},
   "outputs": [
    {
     "name": "stdout",
     "output_type": "stream",
     "text": [
      "Hello, Rose!\n",
      "Hello, Jack!\n"
     ]
    }
   ],
   "source": [
    "#8.4 传递列表\n",
    "def greet_users(names):\n",
    "    \"\"\"向列表中的每个用户发出简单问候\"\"\"\n",
    "    #直接创建列表names\n",
    "    for name in names:\n",
    "        msg = f\"Hello, {name.title()}!\"\n",
    "        print(msg)\n",
    "\n",
    "usernames = ['rose','jack']\n",
    "greet_users(usernames)"
   ]
  },
  {
   "cell_type": "code",
   "execution_count": 18,
   "id": "4d60e645-5b1a-4609-9cd3-9a24dcea62b6",
   "metadata": {},
   "outputs": [
    {
     "name": "stdout",
     "output_type": "stream",
     "text": [
      "Printing model: dodecahedron\n",
      "Printing model: robot pendant\n",
      "Printing model: phone case\n",
      "\n",
      "The following models have been printed:\n",
      "dodecahedron\n",
      "robot pendant\n",
      "phone case\n"
     ]
    }
   ],
   "source": [
    "#8.4.1 在函数中修改列表\n",
    "unprinted_designs = ['phone case', 'robot pendant', 'dodecahedron']\n",
    "completed_models = []\n",
    "while unprinted_designs:\n",
    "    current_design = unprinted_designs.pop()\n",
    "    print(f\"Printing model: {current_design}\")\n",
    "    completed_models.append(current_design)\n",
    "print(\"\\nThe following models have been printed:\")\n",
    "for completed_model in completed_models:\n",
    "    print(completed_model)"
   ]
  },
  {
   "cell_type": "code",
   "execution_count": 19,
   "id": "0eb30814-342e-451c-a087-80a2ba5f53ad",
   "metadata": {},
   "outputs": [
    {
     "name": "stdout",
     "output_type": "stream",
     "text": [
      "Printing model: dodecahedron\n",
      "Printing model: robot pendant\n",
      "Printing model: phone case\n",
      "\n",
      "The following models have been printed:\n",
      "dodecahedron\n",
      "robot pendant\n",
      "phone case\n"
     ]
    }
   ],
   "source": [
    "def print_models(unprinted_designs, completed_models):\n",
    "    \"\"\"\n",
    "    模拟打印每个设计，直到没有未打印的设计为止\n",
    "    打印每个设计后，都将其移到列表completed_models中\n",
    "    \"\"\"\n",
    "    #当unprinted_designs不为空列表时，循环一直进行下去\n",
    "    while unprinted_designs:\n",
    "        current_design = unprinted_designs.pop()#将未打印的列表通过pop方法删除末尾并将其赋给一个变量\n",
    "        print(f\"Printing model: {current_design}\")\n",
    "        completed_models.append(current_design)\n",
    "\n",
    "def show_completed_models(completed_models):\n",
    "    \"\"\"显示打印好的所有模型\"\"\"\n",
    "    print(\"\\nThe following models have been printed:\")\n",
    "    for completed_model in completed_models:\n",
    "        print(completed_model)\n",
    "\n",
    "unprinted_designs = ['phone case', 'robot pendant', 'dodecahedron']\n",
    "completed_models = []\n",
    "\n",
    "print_models(unprinted_designs, completed_models)\n",
    "show_completed_models(completed_models)\n"
   ]
  },
  {
   "cell_type": "code",
   "execution_count": 20,
   "id": "7fa2e3b1-81e7-432b-aaf5-0f53d8b268a8",
   "metadata": {},
   "outputs": [
    {
     "name": "stdout",
     "output_type": "stream",
     "text": [
      "Printing model: dodecahedron\n",
      "Printing model: robot pendant\n",
      "Printing model: phone case\n",
      "['phone case', 'robot pendant', 'dodecahedron']\n"
     ]
    }
   ],
   "source": [
    "#8.4.2 禁止函数修改列表\n",
    "def print_models(unprinted_designs, completed_models):\n",
    "    \"\"\"\n",
    "    模拟打印每个设计，直到没有未打印的设计为止\n",
    "    打印每个设计后，都将其移到列表completed_models中\n",
    "    \"\"\"\n",
    "    while unprinted_designs:\n",
    "        current_design = unprinted_designs.pop()\n",
    "        print(f\"Printing model: {current_design}\")\n",
    "        completed_models.append(current_design)\n",
    "\n",
    "unprinted_designs = ['phone case', 'robot pendant', 'dodecahedron']\n",
    "completed_models = []\n",
    "#在形参中使用未打印列表的拷贝，可以保留原列表\n",
    "print_models(unprinted_designs[:], completed_models)\n",
    "print(unprinted_designs)"
   ]
  },
  {
   "cell_type": "code",
   "execution_count": 22,
   "id": "7728f2d5-8986-43a6-9ce3-ef93c1f66663",
   "metadata": {},
   "outputs": [
    {
     "name": "stdout",
     "output_type": "stream",
     "text": [
      "('pepperoni',)\n",
      "('mushrooms', 'green peppers', 'extra cheese')\n"
     ]
    }
   ],
   "source": [
    "#8.5 传递任意数量的实参\n",
    "#一个*创建元组\n",
    "def make_pizza(*toppings):\n",
    "    \"\"\"打印顾客点的所有配料\"\"\"\n",
    "    print(toppings)\n",
    "\n",
    "make_pizza('pepperoni')\n",
    "make_pizza('mushrooms', 'green peppers', 'extra cheese')"
   ]
  },
  {
   "cell_type": "code",
   "execution_count": null,
   "id": "f59639fe-c6f4-4317-92b3-9992dcd6c9ed",
   "metadata": {},
   "outputs": [],
   "source": [
    "def make_pizza(*toppings):\n",
    "    \"\"\"概述要制作的披萨\"\"\"\n",
    "    print(\"\\nMaking a pizza with the following toppings:\")\n",
    "    for topping in toppings:\n",
    "        print(f\"-{topping}\")\n",
    "\n",
    "make_pizza('pepperoni')\n",
    "make_pizza('mushrooms', 'green peppers', 'extra cheese')"
   ]
  },
  {
   "cell_type": "code",
   "execution_count": null,
   "id": "28fe2e5c-c4e4-4b8c-900e-d2ec4acccb52",
   "metadata": {},
   "outputs": [],
   "source": [
    "#8.5.1 结合使用位置实参和任意数量的实参\n",
    "def make_pizza(size, *toppings):\n",
    "    \"\"\"概述要制作的披萨\"\"\"\n",
    "    print(f\"\\nMaking a {size}-inch pizza with the following toppings:\")\n",
    "    for topping in toppings:\n",
    "        print(f\"-{topping}\")\n",
    "\n",
    "#第一个形参无*，所以实参第一个对应第一个形参，第二个形参有*，余下的实参皆对应第二个形参\n",
    "make_pizza(16, 'pepperoni')\n",
    "make_pizza(12, 'mushrroms', 'green peppers', 'extra cheese')"
   ]
  },
  {
   "cell_type": "code",
   "execution_count": 23,
   "id": "70b5798a-9f3a-4f58-9044-0689790f8aaa",
   "metadata": {},
   "outputs": [
    {
     "name": "stdout",
     "output_type": "stream",
     "text": [
      "{'location': 'princeton', 'field': 'physics', 'first_name': 'albert', 'last_name': 'einstein'}\n"
     ]
    }
   ],
   "source": [
    "#8.5.2 使用任意数量的关键字实参\n",
    "#两个**创建字典\n",
    "def build_profile(first, last, **user_info):\n",
    "    \"\"\"创建一个字典，其中包含我们知道的有关用户的一切\"\"\"\n",
    "    user_info['first_name'] = first\n",
    "    user_info['last_name'] = last\n",
    "    return user_info\n",
    "\n",
    "user_profile = build_profile('albert', 'einstein', \n",
    "                             location='princeton', \n",
    "                             field='physics')\n",
    "print(user_profile)"
   ]
  },
  {
   "cell_type": "code",
   "execution_count": null,
   "id": "411bbb3c-06b8-4bda-a790-962b8303552b",
   "metadata": {},
   "outputs": [],
   "source": [
    "#8.6 将函数存储在模块中\n",
    "#8.6.1 导入整个模块\n",
    "import pizza\n",
    "\n",
    "pizza.make_pizza(16, 'pepperoni')\n",
    "pizza.make_pizza(12, 'mushrooms', 'green peppers', 'extra cheese')\n",
    "\n",
    "# module_name.function_name()"
   ]
  },
  {
   "cell_type": "code",
   "execution_count": null,
   "id": "5f66a25c-48f2-4df5-af38-49577028b52a",
   "metadata": {},
   "outputs": [],
   "source": [
    "#8.6.2 导入特定的函数\n",
    "# from module_name import function_name\n",
    "# from module_name import functiion_0, function_1, function_2\n",
    "from pizza import make_pizza\n",
    "\n",
    "make_pizza(16, 'pepperoni')\n",
    "make_pizza(12, 'mushrooms', 'green peppers', 'extra cheese')"
   ]
  },
  {
   "cell_type": "code",
   "execution_count": null,
   "id": "d20b86b9-08bb-4ac4-8521-0cb32a6acc05",
   "metadata": {},
   "outputs": [],
   "source": [
    "#8.6.3 使用as给函数指定别名\n",
    "from pizza import make_pizza as mp\n",
    "\n",
    "make_pizza(16, 'pepperoni')\n",
    "make_pizza(12, 'mushrooms', 'green peppers', 'extra cheese')"
   ]
  },
  {
   "cell_type": "code",
   "execution_count": null,
   "id": "1a00a82d-5680-475b-849f-145b04677209",
   "metadata": {},
   "outputs": [],
   "source": [
    "#8.6.4 使用as给模块指定别名\n",
    "import pizza as p\n",
    "p.make_pizza(16, 'pepperoni')\n",
    "p.make_pizza(12, 'mushrooms', 'green peppers', 'extra cheese')"
   ]
  },
  {
   "cell_type": "code",
   "execution_count": null,
   "id": "d7fa2093-16ea-43fd-a0a3-d485fd5941f9",
   "metadata": {},
   "outputs": [],
   "source": [
    "#8.6.5 导入模块中的所有函数\n",
    "from pizza import *\n",
    "\n",
    "make_pizza(16, 'pepperoni')\n",
    "make_pizza(12, 'mushrooms', 'green peppers', 'extra cheese')"
   ]
  },
  {
   "cell_type": "code",
   "execution_count": 24,
   "id": "94cbd1b9-ccf3-4668-ba8e-1377dc7f137d",
   "metadata": {},
   "outputs": [
    {
     "name": "stdout",
     "output_type": "stream",
     "text": [
      "The theme of Chapter 8 is function（函数）.\n"
     ]
    }
   ],
   "source": [
    "#作业\n",
    "#8.1\n",
    "def display_message():\n",
    "    \"\"\"显示本章的主题\"\"\"\n",
    "    print(\"The theme of Chapter 8 is function（函数）.\")\n",
    "\n",
    "display_message()"
   ]
  },
  {
   "cell_type": "code",
   "execution_count": 26,
   "id": "c1a40261-e29f-47d7-9987-dd19789012e5",
   "metadata": {},
   "outputs": [
    {
     "name": "stdout",
     "output_type": "stream",
     "text": [
      "One of my favorite books is The ordinary world.\n"
     ]
    }
   ],
   "source": [
    "#8.2 喜欢的书\n",
    "def favorite_book(title):\n",
    "    \"\"\"显示喜欢的书\"\"\"\n",
    "    print(f\"One of my favorite books is {title}.\")\n",
    "\n",
    "favorite_book('The ordinary world')"
   ]
  },
  {
   "cell_type": "code",
   "execution_count": 28,
   "id": "13a6faf6-adbd-4c6b-b9af-93867ca8f740",
   "metadata": {},
   "outputs": [
    {
     "name": "stdout",
     "output_type": "stream",
     "text": [
      "The shirt with \"666\" is M.\n",
      "The shirt with \"666\" is M.\n"
     ]
    }
   ],
   "source": [
    "#8.3 T恤\n",
    "def make_shirt(size, word):\n",
    "    \"\"\"概述T恤的尺码和字样\"\"\"\n",
    "    print(f\"The shirt with \\\"{word}\\\" is {size}.\")\n",
    "\n",
    "make_shirt('M', '666')#位置实参\n",
    "make_shirt(word='666', size='M')#关键字实参"
   ]
  },
  {
   "cell_type": "code",
   "execution_count": 29,
   "id": "0ec562a2-069d-47bf-90c1-ba7a39676030",
   "metadata": {},
   "outputs": [
    {
     "name": "stdout",
     "output_type": "stream",
     "text": [
      "The shirt with \"I love Python\" is large.\n",
      "The shirt with \"I love Python\" is M.\n",
      "The shirt with \"666\" is large.\n"
     ]
    }
   ],
   "source": [
    "#8.4 大号T恤\n",
    "def make_shirt(size='large', word='I love Python'):#两个形参都指定了默认值\n",
    "    \"\"\"概述T恤的尺码和字样\"\"\"\n",
    "    print(f\"The shirt with \\\"{word}\\\" is {size}.\")\n",
    "\n",
    "make_shirt()\n",
    "make_shirt('M')#只更改了一个形参的默认值，按照位置实参所以更改了尺寸\n",
    "make_shirt(word='666')"
   ]
  },
  {
   "cell_type": "code",
   "execution_count": 30,
   "id": "89265b76-6bda-4dda-a513-fc7baff591f3",
   "metadata": {},
   "outputs": [
    {
     "name": "stdout",
     "output_type": "stream",
     "text": [
      "Nanjing is in China.\n",
      "Beijing is in China.\n",
      "Paris is in France.\n"
     ]
    }
   ],
   "source": [
    "#8.5 城市\n",
    "def describe_city(city, country='China'):\n",
    "    \"\"\"描述城市所属的国家\"\"\"\n",
    "    print(f\"{city.title()} is in {country}.\")\n",
    "\n",
    "describe_city('nanjing')\n",
    "describe_city('beijing')\n",
    "describe_city('Paris', 'France')"
   ]
  },
  {
   "cell_type": "code",
   "execution_count": 31,
   "id": "fb2f1f70-600e-4aa9-ba4e-db95a4295930",
   "metadata": {},
   "outputs": [
    {
     "name": "stdout",
     "output_type": "stream",
     "text": [
      "\"Newyork, America\"\n",
      "\"Nanjing, China\"\n",
      "\"Tokyo, Japan\"\n"
     ]
    }
   ],
   "source": [
    "#8.6 城市名\n",
    "def city_country(city,country):\n",
    "    \"\"\"返回城市和它所属的国家\"\"\"\n",
    "    cc = f'\"{city}, {country}\"'\n",
    "    return cc.title()\n",
    "\n",
    "cc_0 = city_country('newyork', 'america')\n",
    "print(cc_0)\n",
    "cc_1 = city_country('nanjing', 'china')\n",
    "print(cc_1)\n",
    "cc_2 = city_country('tokyo', 'japan')\n",
    "print(cc_2)"
   ]
  },
  {
   "cell_type": "code",
   "execution_count": 36,
   "id": "1a55f377-b16f-4e18-bf76-0ce8bead24a3",
   "metadata": {},
   "outputs": [
    {
     "name": "stdout",
     "output_type": "stream",
     "text": [
      "{'singer': 'TS', 'album': '1989'}\n",
      "{'singer': 'TS', 'album': 'RED'}\n",
      "{'singer': 'TS', 'album': 'TTPD', 'number of songs': '31'}\n"
     ]
    }
   ],
   "source": [
    "#8.7 专辑\n",
    "def make_album(singer_name, album_name, song_num=''):#song_num指定空格为默认值，其为可选\n",
    "    \"\"\"返回一个字典，其中包含歌手名和专辑名\"\"\"\n",
    "    album = {'singer': singer_name, 'album': album_name}#创建一个字典，形参作为键的值\n",
    "    if song_num:\n",
    "        album['number of songs'] = song_num\n",
    "    return album\n",
    "\n",
    "album_0 = make_album('TS', '1989')\n",
    "print(album_0)\n",
    "album_1 = make_album('TS','RED' )\n",
    "print(album_1)\n",
    "album_2 = make_album('TS', 'TTPD','31')\n",
    "print(album_2)"
   ]
  },
  {
   "cell_type": "code",
   "execution_count": 37,
   "id": "1b0ebf91-0359-46ae-af1e-930d62dfb0d5",
   "metadata": {},
   "outputs": [
    {
     "name": "stdout",
     "output_type": "stream",
     "text": [
      "\n",
      "Please enter the name of singer and album\n",
      "(enter 'q' at any time to quit)\n"
     ]
    },
    {
     "name": "stdin",
     "output_type": "stream",
     "text": [
      "Singer's name: TD\n",
      "The name of album: TTPD\n"
     ]
    },
    {
     "name": "stdout",
     "output_type": "stream",
     "text": [
      "{'singer': 'TD', 'album': 'TTPD'}\n",
      "\n",
      "Please enter the name of singer and album\n",
      "(enter 'q' at any time to quit)\n"
     ]
    },
    {
     "name": "stdin",
     "output_type": "stream",
     "text": [
      "Singer's name: q\n"
     ]
    }
   ],
   "source": [
    "#8.8 用户的专辑\n",
    "def make_album(singer_name, album_name, song_num=''):\n",
    "    \"\"\"返回一个字典，其中包含歌手名和专辑名\"\"\"\n",
    "    album = {'singer': singer_name, 'album': album_name}\n",
    "    if song_num:\n",
    "        album['number of songs'] = song_num\n",
    "    return album\n",
    "\n",
    "while True:\n",
    "    print(\"\\nPlease enter the name of singer and album\")\n",
    "    print(\"(enter 'q' at any time to quit)\")\n",
    "\n",
    "    s_name = input(\"Singer's name:\")\n",
    "    if s_name == 'q':\n",
    "        break\n",
    "\n",
    "    b_name = input(\"The name of album:\")\n",
    "    if b_name == 'q':\n",
    "        break\n",
    "\n",
    "    album = make_album(s_name, b_name)\n",
    "    print(album)"
   ]
  },
  {
   "cell_type": "code",
   "execution_count": 38,
   "id": "d45a7e14-4bbc-4688-bba5-b7901844f392",
   "metadata": {},
   "outputs": [
    {
     "name": "stdout",
     "output_type": "stream",
     "text": [
      "I love you !\n",
      "I hate you.\n",
      "Thank you!\n"
     ]
    }
   ],
   "source": [
    "#8.9 消息\n",
    "def show_messages(messages):\n",
    "    \"\"\"打印列表中的所有消息\"\"\"\n",
    "    for message in messages:#创建列表messages并遍历列表\n",
    "        print(message)\n",
    "\n",
    "msg = ['I love you !', 'I hate you.', 'Thank you!']\n",
    "show_messages(msg)\n"
   ]
  },
  {
   "cell_type": "code",
   "execution_count": 39,
   "id": "ca79ae4e-7a57-41a4-8def-3904954590d1",
   "metadata": {},
   "outputs": [
    {
     "name": "stdout",
     "output_type": "stream",
     "text": [
      "I love you !\n",
      "I hate you.\n",
      "Thank you!\n",
      "[]\n",
      "['Thank you!', 'I hate you.', 'I love you !']\n"
     ]
    }
   ],
   "source": [
    "#8.10 发送消息\n",
    "def send_messages(messages, sent_messages):\n",
    "    \"\"\"将消息打印出来后移到列表sent_messages中\"\"\"\n",
    "    for message in messages:\n",
    "        print(message)\n",
    "    while messages:\n",
    "        sent_message = messages.pop()\n",
    "        sent_messages.append(sent_message)\n",
    "    \n",
    "messages = ['I love you !', 'I hate you.', 'Thank you!']\n",
    "sent_messages = []\n",
    "send_messages(messages, sent_messages)\n",
    "print(messages)\n",
    "print(sent_messages)"
   ]
  },
  {
   "cell_type": "code",
   "execution_count": 40,
   "id": "41c83e61-9368-4b39-aa37-5977fe9b47ba",
   "metadata": {},
   "outputs": [
    {
     "name": "stdout",
     "output_type": "stream",
     "text": [
      "I love you !\n",
      "I hate you.\n",
      "Thank you!\n",
      "['I love you !', 'I hate you.', 'Thank you!']\n",
      "['Thank you!', 'I hate you.', 'I love you !']\n"
     ]
    }
   ],
   "source": [
    "#8.11 消息归档\n",
    "def send_messages(messages, sent_messages):\n",
    "    \"\"\"将消息打印出来后移到列表sent_messages中\"\"\"\n",
    "    for message in messages:\n",
    "        print(message)\n",
    "    while messages:\n",
    "        sent_message = messages.pop()\n",
    "        sent_messages.append(sent_message)\n",
    "    \n",
    "messages =  ['I love you !', 'I hate you.', 'Thank you!']\n",
    "sent_messages = []\n",
    "send_messages(messages[:], sent_messages)\n",
    "print(messages)\n",
    "print(sent_messages)"
   ]
  },
  {
   "cell_type": "code",
   "execution_count": 42,
   "id": "a82101e1-6c14-4351-859a-b6d1bb610dca",
   "metadata": {},
   "outputs": [
    {
     "name": "stdout",
     "output_type": "stream",
     "text": [
      "\n",
      "Making a sandwich with the following toppings:\n",
      "-a\n",
      "\n",
      "Making a sandwich with the following toppings:\n",
      "-a\n",
      "-b\n",
      "\n",
      "Making a sandwich with the following toppings:\n",
      "-a\n",
      "-b\n",
      "-c\n"
     ]
    }
   ],
   "source": [
    "#8.12 三明治\n",
    "def make_sandwich(*toppings):\n",
    "    \"\"\"概述顾客所点的三明治\"\"\"\n",
    "    print(\"\\nMaking a sandwich with the following toppings:\")\n",
    "    for topping in toppings:\n",
    "        print(f\"-{topping}\")\n",
    "\n",
    "make_sandwich('a')\n",
    "make_sandwich('a', 'b')\n",
    "make_sandwich('a', 'b', 'c')"
   ]
  },
  {
   "cell_type": "code",
   "execution_count": 48,
   "id": "2336a85b-3166-4cc0-aa94-8c970e40dc2b",
   "metadata": {},
   "outputs": [
    {
     "name": "stdout",
     "output_type": "stream",
     "text": [
      "{'hobby': 'xiangsheng', 'skill': 'laugh', 'hometown': 'jining', 'first_name': 'Wang', 'last_name': 'Meng'}\n"
     ]
    }
   ],
   "source": [
    "#8.13 用户简介\n",
    "def build_profile(first, last, **user_info):\n",
    "    \"\"\"创建一个字典，其中包含我们知道的有关用户的一切\"\"\"\n",
    "    user_info['first_name'] = first\n",
    "    user_info['last_name'] = last\n",
    "    return user_info\n",
    "\n",
    "user_profile = build_profile('Wang', 'Meng', \n",
    "                             hobby='xiangsheng',\n",
    "                             skill='laugh',\n",
    "                            hometown='jining')\n",
    "print(user_profile)"
   ]
  },
  {
   "cell_type": "code",
   "execution_count": 49,
   "id": "4e0087ac-1936-4cff-9895-ca208d5fd8e3",
   "metadata": {},
   "outputs": [
    {
     "name": "stdout",
     "output_type": "stream",
     "text": [
      "{'color': 'red', 'manufacturer': 'Audi', 'model': 'outback'}\n"
     ]
    }
   ],
   "source": [
    "#8.14 汽车\n",
    "def build_profile(manufacturer, model, **car_info):\n",
    "    \"\"\"创建一个字典，其中包含我们知道的有关汽车的一切\"\"\"\n",
    "    car_info['manufacturer'] = manufacturer\n",
    "    car_info['model'] = model\n",
    "    return car_info\n",
    "\n",
    "car_profile = build_profile('Audi', 'outback', color='red')\n",
    "print(car_profile)"
   ]
  },
  {
   "cell_type": "code",
   "execution_count": 21,
   "id": "504c22e8-3e77-4897-a4c4-fcb9d8ddb045",
   "metadata": {},
   "outputs": [
    {
     "ename": "NameError",
     "evalue": "name 'true' is not defined",
     "output_type": "error",
     "traceback": [
      "\u001b[1;31m---------------------------------------------------------------------------\u001b[0m",
      "\u001b[1;31mNameError\u001b[0m                                 Traceback (most recent call last)",
      "Cell \u001b[1;32mIn[21], line 2\u001b[0m\n\u001b[0;32m      1\u001b[0m \u001b[38;5;66;03m#8.15 打印模型\u001b[39;00m\n\u001b[1;32m----> 2\u001b[0m \u001b[38;5;28;01mwhile\u001b[39;00m true:\n\u001b[0;32m      3\u001b[0m     \u001b[38;5;28;01mimport\u001b[39;00m \u001b[38;5;21;01mprinting_model\u001b[39;00m\u001b[38;5;21;01m.\u001b[39;00m\u001b[38;5;21;01mipynb\u001b[39;00m\n\u001b[0;32m      4\u001b[0m     printing_model\u001b[38;5;241m.\u001b[39mipynb\u001b[38;5;241m.\u001b[39mpath\u001b[38;5;241m.\u001b[39mappend(\u001b[38;5;124m'\u001b[39m\u001b[38;5;124mC:/Users/17532\u001b[39m\u001b[38;5;124m'\u001b[39m)\n",
      "\u001b[1;31mNameError\u001b[0m: name 'true' is not defined"
     ]
    }
   ],
   "source": [
    "#8.15 打印模型\n",
    "while true:\n",
    "    import printing_model.ipynb\n",
    "    printing_model.ipynb.path.append('C:/Users/17532')\n",
    "    import printing_functions\n",
    "\n",
    "unprinted_designs = ['phone case', 'robot pendant', 'dodecahedron']\n",
    "completed_models = []\n",
    "\n",
    "printing_functions.print_models(unprinted_designs, completed_models)\n",
    "printing_functions.show_completed_models(completed_models)"
   ]
  },
  {
   "cell_type": "code",
   "execution_count": 2,
   "id": "f9a2c46c-badb-4fa2-b630-cb4a21cdbc51",
   "metadata": {},
   "outputs": [
    {
     "ename": "ModuleNotFoundError",
     "evalue": "No module named 'sandwich'",
     "output_type": "error",
     "traceback": [
      "\u001b[1;31m---------------------------------------------------------------------------\u001b[0m",
      "\u001b[1;31mModuleNotFoundError\u001b[0m                       Traceback (most recent call last)",
      "Cell \u001b[1;32mIn[2], line 2\u001b[0m\n\u001b[0;32m      1\u001b[0m \u001b[38;5;66;03m#8.16 导入\u001b[39;00m\n\u001b[1;32m----> 2\u001b[0m \u001b[38;5;28;01mimport\u001b[39;00m \u001b[38;5;21;01msandwich\u001b[39;00m\n\u001b[0;32m      3\u001b[0m sandwich\u001b[38;5;241m.\u001b[39mmake_sandwich(\u001b[38;5;124m'\u001b[39m\u001b[38;5;124megg\u001b[39m\u001b[38;5;124m'\u001b[39m, \u001b[38;5;124m'\u001b[39m\u001b[38;5;124mcheese\u001b[39m\u001b[38;5;124m'\u001b[39m)\n",
      "\u001b[1;31mModuleNotFoundError\u001b[0m: No module named 'sandwich'"
     ]
    }
   ],
   "source": [
    "#8.16 导入\n",
    "import sandwich\n",
    "sandwich.make_sandwich('egg', 'cheese')"
   ]
  },
  {
   "cell_type": "code",
   "execution_count": 53,
   "id": "baffecbf-cb55-4b3f-9ef1-6bd92563c2c8",
   "metadata": {},
   "outputs": [
    {
     "ename": "ModuleNotFoundError",
     "evalue": "No module named 'sandwich'",
     "output_type": "error",
     "traceback": [
      "\u001b[1;31m---------------------------------------------------------------------------\u001b[0m",
      "\u001b[1;31mModuleNotFoundError\u001b[0m                       Traceback (most recent call last)",
      "Cell \u001b[1;32mIn[53], line 1\u001b[0m\n\u001b[1;32m----> 1\u001b[0m \u001b[38;5;28;01mfrom\u001b[39;00m \u001b[38;5;21;01msandwich\u001b[39;00m \u001b[38;5;28;01mimport\u001b[39;00m make_sandwich\n\u001b[0;32m      2\u001b[0m make_sandwich(\u001b[38;5;124m'\u001b[39m\u001b[38;5;124megg\u001b[39m\u001b[38;5;124m'\u001b[39m)\n",
      "\u001b[1;31mModuleNotFoundError\u001b[0m: No module named 'sandwich'"
     ]
    }
   ],
   "source": [
    "from sandwich import make_sandwich\n",
    "make_sandwich('egg')"
   ]
  },
  {
   "cell_type": "code",
   "execution_count": 54,
   "id": "51665e6b-7d11-4447-9bc3-aa4aa0ea2981",
   "metadata": {},
   "outputs": [
    {
     "ename": "ModuleNotFoundError",
     "evalue": "No module named 'sandwich'",
     "output_type": "error",
     "traceback": [
      "\u001b[1;31m---------------------------------------------------------------------------\u001b[0m",
      "\u001b[1;31mModuleNotFoundError\u001b[0m                       Traceback (most recent call last)",
      "Cell \u001b[1;32mIn[54], line 1\u001b[0m\n\u001b[1;32m----> 1\u001b[0m \u001b[38;5;28;01mfrom\u001b[39;00m \u001b[38;5;21;01msandwich\u001b[39;00m \u001b[38;5;28;01mimport\u001b[39;00m make_sandwich \u001b[38;5;28;01mas\u001b[39;00m ms\n\u001b[0;32m      2\u001b[0m ms(\u001b[38;5;124m'\u001b[39m\u001b[38;5;124megg\u001b[39m\u001b[38;5;124m'\u001b[39m)\n",
      "\u001b[1;31mModuleNotFoundError\u001b[0m: No module named 'sandwich'"
     ]
    }
   ],
   "source": [
    "from sandwich import make_sandwich as ms\n",
    "ms('egg')"
   ]
  },
  {
   "cell_type": "code",
   "execution_count": 55,
   "id": "16826a1a-ec5a-45b1-b2b5-536c52561f6a",
   "metadata": {},
   "outputs": [
    {
     "ename": "ModuleNotFoundError",
     "evalue": "No module named 'sandwich'",
     "output_type": "error",
     "traceback": [
      "\u001b[1;31m---------------------------------------------------------------------------\u001b[0m",
      "\u001b[1;31mModuleNotFoundError\u001b[0m                       Traceback (most recent call last)",
      "Cell \u001b[1;32mIn[55], line 1\u001b[0m\n\u001b[1;32m----> 1\u001b[0m \u001b[38;5;28;01mimport\u001b[39;00m \u001b[38;5;21;01msandwich\u001b[39;00m \u001b[38;5;28;01mas\u001b[39;00m \u001b[38;5;21;01ms\u001b[39;00m\n\u001b[0;32m      2\u001b[0m s\u001b[38;5;241m.\u001b[39mmake_sandwich(\u001b[38;5;124m'\u001b[39m\u001b[38;5;124megg\u001b[39m\u001b[38;5;124m'\u001b[39m)\n",
      "\u001b[1;31mModuleNotFoundError\u001b[0m: No module named 'sandwich'"
     ]
    }
   ],
   "source": [
    "import sandwich as s\n",
    "s.make_sandwich('egg')"
   ]
  },
  {
   "cell_type": "code",
   "execution_count": 56,
   "id": "037a0c72-5932-4687-8bda-0a20dc6a67d5",
   "metadata": {},
   "outputs": [
    {
     "ename": "ModuleNotFoundError",
     "evalue": "No module named 'sandwich'",
     "output_type": "error",
     "traceback": [
      "\u001b[1;31m---------------------------------------------------------------------------\u001b[0m",
      "\u001b[1;31mModuleNotFoundError\u001b[0m                       Traceback (most recent call last)",
      "Cell \u001b[1;32mIn[56], line 1\u001b[0m\n\u001b[1;32m----> 1\u001b[0m \u001b[38;5;28;01mfrom\u001b[39;00m \u001b[38;5;21;01msandwich\u001b[39;00m \u001b[38;5;28;01mimport\u001b[39;00m \u001b[38;5;241m*\u001b[39m\n\u001b[0;32m      2\u001b[0m make_sandwich(\u001b[38;5;124m'\u001b[39m\u001b[38;5;124megg\u001b[39m\u001b[38;5;124m'\u001b[39m)\n",
      "\u001b[1;31mModuleNotFoundError\u001b[0m: No module named 'sandwich'"
     ]
    }
   ],
   "source": [
    "from sandwich import *\n",
    "make_sandwich('egg')"
   ]
  },
  {
   "cell_type": "code",
   "execution_count": null,
   "id": "70d96de3-7064-4abd-986b-67973bd069a4",
   "metadata": {},
   "outputs": [],
   "source": []
  }
 ],
 "metadata": {
  "kernelspec": {
   "display_name": "Python 3 (ipykernel)",
   "language": "python",
   "name": "python3"
  },
  "language_info": {
   "codemirror_mode": {
    "name": "ipython",
    "version": 3
   },
   "file_extension": ".py",
   "mimetype": "text/x-python",
   "name": "python",
   "nbconvert_exporter": "python",
   "pygments_lexer": "ipython3",
   "version": "3.11.7"
  }
 },
 "nbformat": 4,
 "nbformat_minor": 5
}
