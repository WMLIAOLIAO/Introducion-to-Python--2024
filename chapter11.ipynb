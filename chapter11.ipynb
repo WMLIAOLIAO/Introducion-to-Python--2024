{
 "cells": [
  {
   "cell_type": "code",
   "execution_count": null,
   "id": "3588b6b7-b23a-456c-8dcb-9760fb02dc7b",
   "metadata": {},
   "outputs": [],
   "source": [
    "#第11章 测试代码\n",
    "#11.1 使用pip安装pytest"
   ]
  },
  {
   "cell_type": "code",
   "execution_count": null,
   "id": "069f555b-9b6d-4850-a4e3-8f3cd2281ea2",
   "metadata": {},
   "outputs": [],
   "source": [
    "#11.1.1 更新pip\n",
    "#已在终端完成"
   ]
  },
  {
   "cell_type": "code",
   "execution_count": null,
   "id": "1b18f2c7-7cd0-4af6-bf26-5aaae3fe9244",
   "metadata": {},
   "outputs": [],
   "source": [
    "#11.1.2 安装pytest\n",
    "#按照命令 pip install\n",
    "#python -m install"
   ]
  },
  {
   "cell_type": "code",
   "execution_count": null,
   "id": "b4c32de2-8458-4998-a598-1f4d9bb11458",
   "metadata": {},
   "outputs": [],
   "source": [
    "#11.2 测试函数\n",
    "def get_formatted_name(first, last):\n",
    "    \"\"\"Generate a neatly formatted full name.\"\"\"\n",
    "    full_name = f\"{first} {last}\"\n",
    "    return full_name.title()"
   ]
  },
  {
   "cell_type": "code",
   "execution_count": null,
   "id": "08914093-185f-4f5f-b667-78d074b126c7",
   "metadata": {},
   "outputs": [],
   "source": [
    "from name_function import get_formatted_name\n",
    "\n",
    "\n",
    "print(\"Enter 'q' at any time to quit.\")\n",
    "while True:\n",
    "    first = input(\"\\nPlease give me a first name: \")\n",
    "    if first == 'q':\n",
    "        break\n",
    "    last = input(\"Please give me a last name: \")\n",
    "    if last == 'q':\n",
    "        break\n",
    "        \n",
    "    formatted_name = get_formatted_name(first, last)\n",
    "    print(f\"\\tNeatly formatted name: {formatted_name}.\")"
   ]
  },
  {
   "cell_type": "code",
   "execution_count": null,
   "id": "8090edc3-3caa-40dd-833f-51b386c1db0e",
   "metadata": {},
   "outputs": [],
   "source": [
    "#11.2.1 单元测试和测试用例\n",
    "#11.2.2 可通过的测试\n",
    "from name_function import get_formatted_name\n",
    "\n",
    "\n",
    "def test_first_last_name():\n",
    "    \"\"\"Do names like 'Janis Joplin' work?\"\"\"\n",
    "    formatted_name = get_formatted_name('janis', 'joplin')\n",
    "    assert formatted_name == 'Janis Joplin'"
   ]
  },
  {
   "cell_type": "code",
   "execution_count": null,
   "id": "ce69d74e-c02e-452c-a1d7-a4ed3b026725",
   "metadata": {},
   "outputs": [],
   "source": [
    "#11.2.3 运行测试\n",
    "#在终端窗口运行，并切换到测试文件所在的文件夹\n",
    "#11.2.4 未通过的测试\n",
    "def get_formatted_name(first, middle, last):\n",
    "    \"\"\"Generate a neatly formatted full name.\"\"\"\n",
    "    full_name = f\"{first} {middle} {last}\"\n",
    "    return full_name.title()"
   ]
  },
  {
   "cell_type": "code",
   "execution_count": null,
   "id": "3837d8ea-f150-49b1-b3cf-0aae7149f279",
   "metadata": {},
   "outputs": [],
   "source": [
    "#11.2.5 在测试为通过时怎么办\n",
    "def get_formatted_name(first, last, middle=''):\n",
    "    \"\"\"Generate a neatly formatted full name.\"\"\"\n",
    "    if middle:\n",
    "        full_name = f\"{first} {middle} {last}\"\n",
    "    else:\n",
    "        full_name = f\"{first} {last}\"\n",
    "    return full_name.title()"
   ]
  },
  {
   "cell_type": "code",
   "execution_count": null,
   "id": "ecda2866-c2cb-4248-ae4c-171716a4d58c",
   "metadata": {},
   "outputs": [],
   "source": [
    "#11.2.6 添加新测试\n",
    "from name_function import get_formatted_name\n",
    "\n",
    "\n",
    "def test_first_last_name():\n",
    "    \"\"\"Do names like 'Janis Joplin' work?\"\"\"\n",
    "    formatted_name = get_formatted_name('janis', 'joplin')\n",
    "    assert formatted_name == 'Janis Joplin'\n",
    "\n",
    "def test_first_last_middle_name():\n",
    "    \"\"\"Do names like 'Wolfgang Amadeus Mozart' work?\"\"\"\n",
    "    formatted_name = get_formatted_name(\n",
    "        'wolfgang', 'mozart', 'amadeus')\n",
    "    assert formatted_name == 'Wolfgang Amadeus Mozart'"
   ]
  },
  {
   "cell_type": "code",
   "execution_count": null,
   "id": "e59e19b1-66b5-4b9d-8fc2-f711985bcd5d",
   "metadata": {},
   "outputs": [],
   "source": [
    "#11.3 测试类\n",
    "11.3.1 各种断言\n",
    "assert a == b\n",
    "assert a != b\n",
    "assert a\n",
    "assert not a \n",
    "assert a in list\n",
    "assert a not in list"
   ]
  },
  {
   "cell_type": "code",
   "execution_count": null,
   "id": "5733e9cd-ad1e-4903-a4bd-8aa91ac2f456",
   "metadata": {},
   "outputs": [],
   "source": [
    "#11.3.2 一个要测试的类\n",
    "class AnonymousSurvey:\n",
    "    \"\"\"Collect anonymous answers to a survey question.\"\"\"\n",
    "\n",
    "    def __init__(self, question):\n",
    "        \"\"\"Store a question, and prepare to store responses.\"\"\"\n",
    "        self.question = question\n",
    "        self.responses = []\n",
    "\n",
    "    def show_question(self):\n",
    "        \"\"\"Show the survey question.\"\"\"\n",
    "        print(self.question)\n",
    "\n",
    "    def store_response(self, new_response):\n",
    "        \"\"\"Store a single response to the survey.\"\"\"\n",
    "        self.responses.append(new_response)\n",
    "        \n",
    "    def show_results(self):\n",
    "        \"\"\"Show all the responses that have been given.\"\"\"\n",
    "        print(\"Survey results:\")\n",
    "        for response in self.responses:\n",
    "            print(f\"- {response}\")\n"
   ]
  },
  {
   "cell_type": "code",
   "execution_count": null,
   "id": "9cbef4c7-6f60-4676-a729-0a7d5219c726",
   "metadata": {},
   "outputs": [],
   "source": [
    "from survey import AnonymousSurvey\n",
    "\n",
    "\n",
    "# Define a question, and make a survey.\n",
    "question = \"What language did you first learn to speak?\"\n",
    "language_survey = AnonymousSurvey(question)\n",
    "\n",
    "# Show the question, and store responses to the question.\n",
    "language_survey.show_question()\n",
    "print(\"Enter 'q' at any time to quit.\\n\")\n",
    "while True:\n",
    "    response = input(\"Language: \")\n",
    "    if response == 'q':\n",
    "        break\n",
    "    language_survey.store_response(response)\n",
    "\n",
    "# Show the survey results.\n",
    "print(\"\\nThank you to everyone who participated in the survey!\")\n",
    "language_survey.show_results()"
   ]
  },
  {
   "cell_type": "code",
   "execution_count": null,
   "id": "11f7d49b-7b1a-4c9f-ac99-d4be1b56ce7f",
   "metadata": {},
   "outputs": [],
   "source": [
    "#11.3.3 测试AnonymousSurvey类\n",
    "from survey import AnonymousSurvey\n",
    "\n",
    "def test_store_single_response():\n",
    "    \"\"\"Test that a single response is stored properly.\"\"\"\n",
    "    question = \"What language did you first learn to speak?\"\n",
    "    language_survey.store_response('English')\n",
    "    assert 'English' in language_survey.responses"
   ]
  },
  {
   "cell_type": "code",
   "execution_count": null,
   "id": "fcd7920f-5e8d-4a80-8478-e2da55ffdc30",
   "metadata": {},
   "outputs": [],
   "source": [
    "from survey import AnonymousSurvey\n",
    "\n",
    "def test_store_single_response():\n",
    "    \"\"\"Test that a single response is stored properly.\"\"\"\n",
    "    question = \"What language did you first learn to speak?\"\n",
    "    language_survey.store_response('English')\n",
    "    assert 'English' in language_survey.responses\n",
    "\n",
    "def test_store_three_responses(language_survey):\n",
    "    \"\"\"Test that three individual responses are stored properly.\"\"\"\n",
    "    question = \"What language did you first learn to speak?\"\n",
    "    language_survey = AnonymousSurvey(question)\n",
    "    responses = ['English', 'Spanish', 'Mandarin']\n",
    "    for response in responses:\n",
    "        language_survey.store_response(response)\n",
    "\n",
    "    for response in responses:\n",
    "        assert response in language_survey.responses"
   ]
  },
  {
   "cell_type": "code",
   "execution_count": null,
   "id": "08bbd686-c984-49ea-bf20-039aeb45dafe",
   "metadata": {},
   "outputs": [],
   "source": [
    "#11.3.4 使用夹具\n",
    "import pytest\n",
    "from survey import AnonymousSurvey\n",
    "\n",
    "\n",
    "@pytest.fixture\n",
    "def language_survey():\n",
    "    \"\"\"A survey that will be available to all test functions.\"\"\"\n",
    "    question = \"What language did you first learn to speak?\"\n",
    "    language_survey = AnonymousSurvey(question)\n",
    "    return language_survey\n",
    "\n",
    "def test_store_single_response(language_survey):\n",
    "    \"\"\"Test that a single response is stored properly.\"\"\"\n",
    "    language_survey.store_response('English')\n",
    "    assert 'English' in language_survey.responses\n",
    "\n",
    "def test_store_three_responses(language_survey):\n",
    "    \"\"\"Test that three individual responses are stored properly.\"\"\"\n",
    "    responses = ['English', 'Spanish', 'Mandarin']\n",
    "    for response in responses:\n",
    "        language_survey.store_response(response)\n",
    "\n",
    "    for response in responses:\n",
    "        assert response in language_survey.responses"
   ]
  },
  {
   "cell_type": "code",
   "execution_count": null,
   "id": "b8531b0c-b8cf-4bf1-a67d-5a887a07c249",
   "metadata": {},
   "outputs": [],
   "source": [
    "#练习\n",
    "#11.1 城市和国家\n",
    "\"\"\"A collection of functions for working with cities.\"\"\"\n",
    "\n",
    "def city_country(city, country):\n",
    "    \"\"\"Return a string like 'London, Britain'.\"\"\"\n",
    "    return f\"{city.title()}, {country.title()}\""
   ]
  },
  {
   "cell_type": "code",
   "execution_count": null,
   "id": "8bcb3683-09c5-4645-a156-c4e52c43b31e",
   "metadata": {},
   "outputs": [],
   "source": [
    "from city_functions import city_country\n",
    "\n",
    "def test_city_country():\n",
    "    \"\"\"Does a simple city and country pair work?\"\"\"\n",
    "    santiago_chile = city_country('london', 'britain')\n",
    "    assert santiago_chile == 'London, Britain'"
   ]
  },
  {
   "cell_type": "code",
   "execution_count": null,
   "id": "d32d67a8-6834-430f-88d7-c93da1a12a84",
   "metadata": {},
   "outputs": [],
   "source": [
    "#11.1 人口数量\n",
    "\"\"\"A collection of functions for working with cities.\"\"\"\n",
    "\n",
    "def city_country(city, country, population):\n",
    "    \"\"\"Return a string like 'London, Britain - population 6000000'.\"\"\"\n",
    "    output_string = f\"{city.title()}, {country.title()}\"\n",
    "    output_string += f\" -population {population}\"\n",
    "    return output_string"
   ]
  },
  {
   "cell_type": "code",
   "execution_count": null,
   "id": "94a52094-2289-4288-b856-4b16d492e9a2",
   "metadata": {},
   "outputs": [],
   "source": [
    "\"\"\"A collection of functions for working with cities.\"\"\"\n",
    "\n",
    "def city_country(city, country, population=0):\n",
    "    \"\"\"Return a string representing a city-country pair.\"\"\"\n",
    "    output_string = f\"{city.title()}, {country.title()}\"\n",
    "    if population:\n",
    "        output_string += f\" - population {population}\"\n",
    "    return output_string"
   ]
  },
  {
   "cell_type": "code",
   "execution_count": null,
   "id": "d0c593d8-909b-4d5a-9dda-2513d9d3cb24",
   "metadata": {},
   "outputs": [],
   "source": [
    "from city_functions_pop_optional import city_country\n",
    "\n",
    "def test_city_country():\n",
    "    \"\"\"Does a simple city and country pair work?\"\"\"\n",
    "    santiago_chile = city_country('london', 'britain')\n",
    "    assert santiago_chile == 'London, Britain'\n",
    "\n",
    "def test_city_country_population():\n",
    "    \"\"\"Can I include a population argument?\"\"\"\n",
    "    santiago_chile = city_country('london', 'britain', population=6_000_000)\n",
    "    assert santiago_chile == 'London, Britain - population 6000000'"
   ]
  },
  {
   "cell_type": "code",
   "execution_count": null,
   "id": "60a67546-b872-4488-b388-f9c703bc60ad",
   "metadata": {},
   "outputs": [],
   "source": [
    "#11.3 雇员\n",
    "class Employee:\n",
    "    \"\"\"A class to represent an employee.\"\"\"\n",
    "\n",
    "    def __init__(self, f_name, l_name, salary):\n",
    "        \"\"\"Initialize the employee.\"\"\"\n",
    "        self.first = f_name.title()\n",
    "        self.last = l_name.title()\n",
    "        self.salary = salary\n",
    "\n",
    "    def give_raise(self, amount=5000):\n",
    "        \"\"\"Give the employee a raise.\"\"\"\n",
    "        self.salary += amount"
   ]
  },
  {
   "cell_type": "code",
   "execution_count": null,
   "id": "615f2955-7727-4778-a49a-9a03284e932e",
   "metadata": {},
   "outputs": [],
   "source": [
    "from employee import Employee\n",
    "\n",
    "def test_give_default_raise():\n",
    "    \"\"\"Test that a default raise works correctly.\"\"\"\n",
    "    employee = Employee('eric', 'matthes', 65_000)\n",
    "    employee.give_raise()\n",
    "    assert employee.salary == 70_000\n",
    "\n",
    "def test_give_custom_raise():\n",
    "    \"\"\"Test that a custom raise works correctly.\"\"\"\n",
    "    employee = Employee('eric', 'matthes', 65_000)\n",
    "    employee.give_raise(10000)\n",
    "    assert employee.salary == 75_000\n"
   ]
  },
  {
   "cell_type": "code",
   "execution_count": null,
   "id": "124b8668-742b-468f-adc6-e7abb1b62117",
   "metadata": {},
   "outputs": [],
   "source": [
    "import pytest\n",
    "\n",
    "from employee import Employee\n",
    "\n",
    "@pytest.fixture\n",
    "def employee():\n",
    "    \"\"\"An Employee object that will be available to all test functions.\"\"\"\n",
    "    employee = Employee('eric', 'matthes', 65_000)\n",
    "    return employee\n",
    "\n",
    "def test_give_default_raise(employee):\n",
    "    \"\"\"Test that a default raise works correctly.\"\"\"\n",
    "    employee.give_raise()\n",
    "    assert employee.salary == 70_000\n",
    "\n",
    "def test_give_custom_raise(employee):\n",
    "    \"\"\"Test that a custom raise works correctly.\"\"\"\n",
    "    employee.give_raise(10000)\n",
    "    assert employee.salary == 75_000"
   ]
  }
 ],
 "metadata": {
  "kernelspec": {
   "display_name": "Python 3 (ipykernel)",
   "language": "python",
   "name": "python3"
  },
  "language_info": {
   "codemirror_mode": {
    "name": "ipython",
    "version": 3
   },
   "file_extension": ".py",
   "mimetype": "text/x-python",
   "name": "python",
   "nbconvert_exporter": "python",
   "pygments_lexer": "ipython3",
   "version": "3.11.7"
  }
 },
 "nbformat": 4,
 "nbformat_minor": 5
}
