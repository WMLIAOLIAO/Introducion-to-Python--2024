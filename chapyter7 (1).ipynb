{
 "cells": [
  {
   "cell_type": "code",
   "execution_count": 1,
   "id": "ce4cce47-3bef-497c-b5cb-e011b436f8cb",
   "metadata": {},
   "outputs": [
    {
     "name": "stdin",
     "output_type": "stream",
     "text": [
      "Tell me something, and I will repeat it back to you:  哈哈哈\n"
     ]
    },
    {
     "name": "stdout",
     "output_type": "stream",
     "text": [
      "哈哈哈\n"
     ]
    }
   ],
   "source": [
    "#第七章\n",
    "#7.1 input()函数的工作原理\n",
    "#input()函数接受参数，即括号中引号内的内容，也就是要向用户显示的提示，之用户输入的内容将被赋值给变量\n",
    "#输入input的内容后按enter运行，而非shift enter\n",
    "message = input('Tell me something, and I will repeat it back to you: ')\n",
    "print(message)"
   ]
  },
  {
   "cell_type": "code",
   "execution_count": 2,
   "id": "b2029e69-6b22-4208-9daa-be0e7d1bee3f",
   "metadata": {},
   "outputs": [
    {
     "name": "stdin",
     "output_type": "stream",
     "text": [
      "Please enter your name:  料料baobei\n"
     ]
    },
    {
     "name": "stdout",
     "output_type": "stream",
     "text": [
      "Hello, 料料Baobei\n"
     ]
    }
   ],
   "source": [
    "#7.1.1 编写清晰的提示\n",
    "name = input('Please enter your name: ')\n",
    "print(f'Hello, {name.title()}')"
   ]
  },
  {
   "cell_type": "code",
   "execution_count": 3,
   "id": "c3b60795-2f74-4a37-a681-879cd7ef7241",
   "metadata": {},
   "outputs": [
    {
     "name": "stdin",
     "output_type": "stream",
     "text": [
      "If you share your name, we can personalize the messages you see.\n",
      "What is your first name? meng\n"
     ]
    },
    {
     "name": "stdout",
     "output_type": "stream",
     "text": [
      "\n",
      "Hello, meng\n"
     ]
    }
   ],
   "source": [
    "prompt = 'If you share your name, we can personalize the messages you see.'\n",
    "prompt += '\\nWhat is your first name?'\n",
    "name = input(prompt)\n",
    "print(f'\\nHello, {name}')"
   ]
  },
  {
   "cell_type": "code",
   "execution_count": 4,
   "id": "fd6fea26-6c79-4351-a8aa-9e9105aa600b",
   "metadata": {},
   "outputs": [
    {
     "name": "stdin",
     "output_type": "stream",
     "text": [
      "How old are you? 20\n"
     ]
    },
    {
     "data": {
      "text/plain": [
       "True"
      ]
     },
     "execution_count": 4,
     "metadata": {},
     "output_type": "execute_result"
    }
   ],
   "source": [
    "#7.1.2 使用int()来获取数值输入\n",
    "age = input('How old are you?')\n",
    "age = int(age)\n",
    "age >= 18"
   ]
  },
  {
   "cell_type": "code",
   "execution_count": 5,
   "id": "2e22b86b-6930-4c9f-8cb0-8dd174b60857",
   "metadata": {},
   "outputs": [
    {
     "name": "stdin",
     "output_type": "stream",
     "text": [
      "How tall are you, in inches? 66\n"
     ]
    },
    {
     "name": "stdout",
     "output_type": "stream",
     "text": [
      "You are tall enough to ride!\n"
     ]
    }
   ],
   "source": [
    "height = input('How tall are you, in inches?')\n",
    "height = int(height)\n",
    "if height >= 48:\n",
    "    print('You are tall enough to ride!')\n",
    "else:\n",
    "    print('\\nYou will be able to ride when you are a little older.')"
   ]
  },
  {
   "cell_type": "code",
   "execution_count": 6,
   "id": "5ad52bc5-7c75-4661-a36e-52d8fe05e502",
   "metadata": {},
   "outputs": [
    {
     "data": {
      "text/plain": [
       "1"
      ]
     },
     "execution_count": 6,
     "metadata": {},
     "output_type": "execute_result"
    }
   ],
   "source": [
    "#7.1.3 求模运算符\n",
    "#将两个数相除并返回余数\n",
    "4 % 3\n"
   ]
  },
  {
   "cell_type": "code",
   "execution_count": 7,
   "id": "ee233573-5476-4a18-abc3-0ad03b14418d",
   "metadata": {},
   "outputs": [
    {
     "data": {
      "text/plain": [
       "0"
      ]
     },
     "execution_count": 7,
     "metadata": {},
     "output_type": "execute_result"
    }
   ],
   "source": [
    "6 % 3"
   ]
  },
  {
   "cell_type": "code",
   "execution_count": 8,
   "id": "5412e3b4-725f-4e31-8cc4-3205be9816e8",
   "metadata": {},
   "outputs": [
    {
     "name": "stdin",
     "output_type": "stream",
     "text": [
      "Enter a number, and I'll tell you if it's even or odd:  66\n"
     ]
    },
    {
     "name": "stdout",
     "output_type": "stream",
     "text": [
      "\n",
      "The number 66 is even.\n"
     ]
    }
   ],
   "source": [
    "num = input(\"Enter a number, and I'll tell you if it's even or odd: \")\n",
    "num = int(num)\n",
    "if num % 2 == 0:\n",
    "    print(f\"\\nThe number {num} is even.\")\n",
    "else:\n",
    "    print(f\"\\nThe number {num} is odd.\")"
   ]
  },
  {
   "cell_type": "code",
   "execution_count": 9,
   "id": "ea151bfb-9842-4af6-a5bf-9215e72189b9",
   "metadata": {},
   "outputs": [
    {
     "name": "stdout",
     "output_type": "stream",
     "text": [
      "1\n",
      "2\n",
      "3\n",
      "4\n",
      "5\n"
     ]
    }
   ],
   "source": [
    "#7.2 while循环简介\n",
    "#7.2.1 使用while循环\n",
    "current_number = 1\n",
    "while current_number <= 5:\n",
    "    print(current_number)\n",
    "    current_number = current_number + 1\n",
    "#current_number = current_number + 1可缩写为current_number += 1\n",
    "#自赋值运算符 +=  -= *= /= **= //="
   ]
  },
  {
   "cell_type": "code",
   "execution_count": 11,
   "id": "8af287f9-c60a-4489-8ddd-a95ada9f90b4",
   "metadata": {},
   "outputs": [
    {
     "name": "stdin",
     "output_type": "stream",
     "text": [
      "\n",
      "Tell me something, and I will repeat it back to you:\n",
      "Enter 'quit' to end the program. heiyou\n"
     ]
    },
    {
     "name": "stdout",
     "output_type": "stream",
     "text": [
      "heiyou\n"
     ]
    },
    {
     "name": "stdin",
     "output_type": "stream",
     "text": [
      "\n",
      "Tell me something, and I will repeat it back to you:\n",
      "Enter 'quit' to end the program. quit\n"
     ]
    },
    {
     "name": "stdout",
     "output_type": "stream",
     "text": [
      "quit\n"
     ]
    }
   ],
   "source": [
    "#7.2.2 让用户选择何时退出\n",
    "prompt = \"\\nTell me something, and I will repeat it back to you:\"\n",
    "prompt += \"\\nEnter 'quit' to end the program.\"\n",
    "\n",
    "message = \"\"\n",
    "while message != 'quit':\n",
    "    message = input(prompt)\n",
    "    print(message)"
   ]
  },
  {
   "cell_type": "code",
   "execution_count": 12,
   "id": "2d47f077-bbc8-459c-b05e-2739bf53c054",
   "metadata": {},
   "outputs": [
    {
     "name": "stdin",
     "output_type": "stream",
     "text": [
      "\n",
      "Tell me something, and I will repeat it back to you:\n",
      "Enter 'quit' to end the program. quit\n"
     ]
    }
   ],
   "source": [
    "prompt = \"\\nTell me something, and I will repeat it back to you:\"\n",
    "prompt += \"\\nEnter 'quit' to end the program.\"\n",
    "\n",
    "message = \"\"\n",
    "while message != 'quit':\n",
    "    message = input(prompt)\n",
    "    if message != 'quit':\n",
    "        print(message)\n"
   ]
  },
  {
   "cell_type": "code",
   "execution_count": 13,
   "id": "701bf13a-4ef7-45bc-852a-5c6a4e749e82",
   "metadata": {},
   "outputs": [
    {
     "name": "stdin",
     "output_type": "stream",
     "text": [
      "\n",
      "Tell me something, and I will repeat it back to you:\n",
      "Enter 'quit' to end the program. enya\n"
     ]
    },
    {
     "name": "stdout",
     "output_type": "stream",
     "text": [
      "enya\n"
     ]
    },
    {
     "name": "stdin",
     "output_type": "stream",
     "text": [
      "\n",
      "Tell me something, and I will repeat it back to you:\n",
      "Enter 'quit' to end the program. quit\n"
     ]
    }
   ],
   "source": [
    "#7.2.3 使用标志\n",
    "#在要求满足很多条件才能继续运行的程序中，可定义一个变量，用于判断整个程序是否活动状态\n",
    "#这个变量称为标志flag，程序在标志为True时运行，False时停止,标志可为任何名称\n",
    "prompt = \"\\nTell me something, and I will repeat it back to you:\"\n",
    "prompt += \"\\nEnter 'quit' to end the program.\"\n",
    "active = True\n",
    "while active:\n",
    "    message = input(prompt)\n",
    "    if message == 'quit':\n",
    "        active = False\n",
    "    else:\n",
    "        print(message)"
   ]
  },
  {
   "cell_type": "code",
   "execution_count": 14,
   "id": "e651ef79-ca0b-4ced-9c99-e3bf06f163be",
   "metadata": {},
   "outputs": [
    {
     "name": "stdin",
     "output_type": "stream",
     "text": [
      "\n",
      "Please enter the name of a city you have visited:\n",
      "Enter 'quit' when you are finished. jining\n"
     ]
    },
    {
     "name": "stdout",
     "output_type": "stream",
     "text": [
      "I'd love to go to Jining!\n"
     ]
    },
    {
     "name": "stdin",
     "output_type": "stream",
     "text": [
      "\n",
      "Please enter the name of a city you have visited:\n",
      "Enter 'quit' when you are finished. beijing\n"
     ]
    },
    {
     "name": "stdout",
     "output_type": "stream",
     "text": [
      "I'd love to go to Beijing!\n"
     ]
    },
    {
     "name": "stdin",
     "output_type": "stream",
     "text": [
      "\n",
      "Please enter the name of a city you have visited:\n",
      "Enter 'quit' when you are finished. quit\n"
     ]
    }
   ],
   "source": [
    "#7.2.4 使用break退出循环\n",
    "prompt = \"\\nPlease enter the name of a city you have visited:\"\n",
    "prompt += \"\\nEnter 'quit' when you are finished.\"\n",
    "while True:\n",
    "    city = input(prompt)\n",
    "    if city == 'quit':\n",
    "        break\n",
    "    else:\n",
    "        print(f\"I'd love to go to {city.title()}!\")"
   ]
  },
  {
   "cell_type": "code",
   "execution_count": 15,
   "id": "4b1d5770-0188-4760-8d49-2d4884daa056",
   "metadata": {},
   "outputs": [
    {
     "name": "stdin",
     "output_type": "stream",
     "text": [
      "\n",
      "Please enter the name of a city you have visited:\n",
      "Enter 'quit' when you are finished. 背景\n"
     ]
    },
    {
     "name": "stdout",
     "output_type": "stream",
     "text": [
      "I'd love to go to 背景!\n"
     ]
    },
    {
     "name": "stdin",
     "output_type": "stream",
     "text": [
      "\n",
      "Please enter the name of a city you have visited:\n",
      "Enter 'quit' when you are finished. 上海\n"
     ]
    },
    {
     "name": "stdout",
     "output_type": "stream",
     "text": [
      "I'd love to go to 上海!\n"
     ]
    },
    {
     "name": "stdin",
     "output_type": "stream",
     "text": [
      "\n",
      "Please enter the name of a city you have visited:\n",
      "Enter 'quit' when you are finished. quit\n"
     ]
    }
   ],
   "source": [
    "prompt = \"\\nPlease enter the name of a city you have visited:\"\n",
    "prompt += \"\\nEnter 'quit' when you are finished.\"\n",
    "active = True\n",
    "while active:\n",
    "    city = input(prompt)\n",
    "    if city == 'quit':\n",
    "        active = False\n",
    "    else:\n",
    "        print(f\"I'd love to go to {city.title()}!\")"
   ]
  },
  {
   "cell_type": "code",
   "execution_count": 16,
   "id": "aba1ce36-d972-4351-8234-36783a18a9ce",
   "metadata": {},
   "outputs": [
    {
     "name": "stdout",
     "output_type": "stream",
     "text": [
      "1\n",
      "3\n",
      "5\n",
      "7\n",
      "9\n"
     ]
    }
   ],
   "source": [
    "#7.2.5 在循环中使用continue\n",
    "#continue会忽略余下的代码返回循环的开头\n",
    "num = 0\n",
    "while num < 10:\n",
    "    num += 1\n",
    "    if num % 2 == 0:\n",
    "        continue\n",
    "    print(num)"
   ]
  },
  {
   "cell_type": "code",
   "execution_count": 17,
   "id": "445df9e2-af45-4750-8cb6-e8a6f19311f4",
   "metadata": {},
   "outputs": [
    {
     "name": "stdout",
     "output_type": "stream",
     "text": [
      "1\n",
      "2\n",
      "3\n",
      "4\n",
      "5\n"
     ]
    }
   ],
   "source": [
    "#7.2.6 避免无限循环\n",
    "#按CTRL+c结束无限循环\n",
    "x = 1\n",
    "while x <= 5:\n",
    "    print(x)\n",
    "    x += 1"
   ]
  },
  {
   "cell_type": "code",
   "execution_count": 19,
   "id": "f006465e-db3e-4369-a26b-27480876370d",
   "metadata": {},
   "outputs": [
    {
     "name": "stdout",
     "output_type": "stream",
     "text": [
      "Verifying user: Cici\n",
      "Verifying user: Bobo\n",
      "Verifying user: Aia\n",
      "\n",
      "The following users have been confirmed:\n",
      "Cici\n",
      "Bobo\n",
      "Aia\n"
     ]
    }
   ],
   "source": [
    "#7.3 使用while循环处理列表和字典\n",
    "#7.3.1 在列表之间移动元素\n",
    "unconfirmed_users = ['aia','bobo','cici']\n",
    "confirmed_users = []\n",
    "while unconfirmed_users:\n",
    "    current_user = unconfirmed_users.pop()\n",
    "    print(f\"Verifying user: {current_user.title()}\")\n",
    "    confirmed_users.append(current_user)\n",
    "print(\"\\nThe following users have been confirmed:\")\n",
    "for confirmed_user in confirmed_users:\n",
    "    print(confirmed_user.title())"
   ]
  },
  {
   "cell_type": "code",
   "execution_count": 20,
   "id": "e4d6c92e-e7b0-4c08-87ff-d54d9bec7bb5",
   "metadata": {},
   "outputs": [
    {
     "name": "stdout",
     "output_type": "stream",
     "text": [
      "['dog', 'cat', 'dog', 'cat', 'rabbit', 'cat']\n",
      "['dog', 'dog', 'rabbit']\n"
     ]
    }
   ],
   "source": [
    "#7.3.2 删除为特定值的所有列表元素\n",
    "pets = ['dog','cat','dog','cat','rabbit','cat']\n",
    "print(pets)\n",
    "while 'cat' in pets:\n",
    "    pets.remove('cat')\n",
    "print(pets)"
   ]
  },
  {
   "cell_type": "code",
   "execution_count": 21,
   "id": "1218aa2c-4300-4c56-854b-828fafcc744a",
   "metadata": {},
   "outputs": [
    {
     "name": "stdin",
     "output_type": "stream",
     "text": [
      "\n",
      "What is your name? wangm\n",
      "Which moutain would you like to clim someday? huangshan\n",
      "Would you like to let another person respond?(yes/no) no\n"
     ]
    },
    {
     "name": "stdout",
     "output_type": "stream",
     "text": [
      "\n",
      "--- Poll Results ---\n",
      "wangm would like to climb huangshan\n"
     ]
    }
   ],
   "source": [
    "#7.3.3 使用用户输入填充字典\n",
    "responses = {}\n",
    "polling_active = True\n",
    "while polling_active:\n",
    "    name = input(\"\\nWhat is your name?\")\n",
    "    response = input(\"Which moutain would you like to clim someday?\")\n",
    "    responses[name] = response\n",
    "    repeat = input(\"Would you like to let another person respond?(yes/no)\")\n",
    "    if repeat == 'no':\n",
    "        polling_active = False\n",
    "print(\"\\n--- Poll Results ---\")\n",
    "for name,response in responses.items():\n",
    "    print(f\"{name} would like to climb {response}\")"
   ]
  },
  {
   "cell_type": "code",
   "execution_count": 22,
   "id": "70bfe109-87fe-41ca-8a3e-4dcddc4b3103",
   "metadata": {},
   "outputs": [
    {
     "name": "stdin",
     "output_type": "stream",
     "text": [
      "What kind of car do you want to rent? bmw\n"
     ]
    },
    {
     "name": "stdout",
     "output_type": "stream",
     "text": [
      "Let me see if I can find a bmw.\n"
     ]
    }
   ],
   "source": [
    "#作业\n",
    "#7.1汽车租赁\n",
    "car = input(\"What kind of car do you want to rent?\")\n",
    "print(f\"Let me see if I can find a {car}.\")"
   ]
  },
  {
   "cell_type": "code",
   "execution_count": 23,
   "id": "d5666848-7dba-419c-82cf-bc78c904432f",
   "metadata": {},
   "outputs": [
    {
     "name": "stdin",
     "output_type": "stream",
     "text": [
      "How many people will be dining? 88\n"
     ]
    },
    {
     "name": "stdout",
     "output_type": "stream",
     "text": [
      "There are not enough free tables.\n"
     ]
    }
   ],
   "source": [
    "#7.2 餐馆订位\n",
    "people = input(\"How many people will be dining?\")\n",
    "people = int(people)\n",
    "if people > 8:\n",
    "    print(\"There are not enough free tables.\")\n",
    "else:\n",
    "     print(\"There are enough free tables.\")"
   ]
  },
  {
   "cell_type": "code",
   "execution_count": 24,
   "id": "e66dc42f-ca79-42ef-af92-dacd1496d69a",
   "metadata": {},
   "outputs": [
    {
     "name": "stdin",
     "output_type": "stream",
     "text": [
      "Enter a number, and I'll tell you if it's multiple of 10:  435\n"
     ]
    },
    {
     "name": "stdout",
     "output_type": "stream",
     "text": [
      "\n",
      "The number 435 is not multiple of 10.\n"
     ]
    }
   ],
   "source": [
    "#7.3 10的整数倍\n",
    "num = input(\"Enter a number, and I'll tell you if it's multiple of 10: \")\n",
    "num = int(num)\n",
    "if num % 10 == 0:\n",
    "    print(f\"\\nThe number {num} is multiple of 10.\")\n",
    "else:\n",
    "    print(f\"\\nThe number {num} is not multiple of 10.\")"
   ]
  },
  {
   "cell_type": "code",
   "execution_count": 25,
   "id": "b82096b8-f6c8-4302-83ee-c2decaf78f2f",
   "metadata": {},
   "outputs": [
    {
     "name": "stdin",
     "output_type": "stream",
     "text": [
      "\n",
      "Enter the name of topping you want.\n",
      "Enter 'quit' to end the program. meat \n"
     ]
    },
    {
     "name": "stdout",
     "output_type": "stream",
     "text": [
      "Add meat  to pizza.\n"
     ]
    },
    {
     "name": "stdin",
     "output_type": "stream",
     "text": [
      "\n",
      "Enter the name of topping you want.\n",
      "Enter 'quit' to end the program. tomato\n"
     ]
    },
    {
     "name": "stdout",
     "output_type": "stream",
     "text": [
      "Add tomato to pizza.\n"
     ]
    },
    {
     "name": "stdin",
     "output_type": "stream",
     "text": [
      "\n",
      "Enter the name of topping you want.\n",
      "Enter 'quit' to end the program. quit\n"
     ]
    }
   ],
   "source": [
    "#7.4 比萨配料\n",
    "prompt = \"\\nEnter the name of topping you want.\"\n",
    "prompt += \"\\nEnter 'quit' to end the program.\"\n",
    "\n",
    "message = \"\"\n",
    "while message != 'quit':\n",
    "    message = input(prompt)\n",
    "    if message != 'quit':\n",
    "        print(f\"Add {message} to pizza.\")"
   ]
  },
  {
   "cell_type": "code",
   "execution_count": 26,
   "id": "d66dba04-de9d-44fc-a1cc-48299a631cd8",
   "metadata": {},
   "outputs": [
    {
     "name": "stdin",
     "output_type": "stream",
     "text": [
      "\n",
      "Enter the name of topping you want.\n",
      "Enter 'quit' to end the program. cheese\n"
     ]
    },
    {
     "name": "stdout",
     "output_type": "stream",
     "text": [
      "Add cheese to pizza.\n"
     ]
    },
    {
     "name": "stdin",
     "output_type": "stream",
     "text": [
      "\n",
      "Enter the name of topping you want.\n",
      "Enter 'quit' to end the program. love\n"
     ]
    },
    {
     "name": "stdout",
     "output_type": "stream",
     "text": [
      "Add love to pizza.\n"
     ]
    },
    {
     "name": "stdin",
     "output_type": "stream",
     "text": [
      "\n",
      "Enter the name of topping you want.\n",
      "Enter 'quit' to end the program. quit\n"
     ]
    },
    {
     "name": "stdout",
     "output_type": "stream",
     "text": [
      "Add quit to pizza.\n"
     ]
    }
   ],
   "source": [
    "prompt = \"\\nEnter the name of topping you want.\"\n",
    "prompt += \"\\nEnter 'quit' to end the program.\"\n",
    "\n",
    "active = True\n",
    "while active:\n",
    "    message = input(prompt)\n",
    "    print(f\"Add {message} to pizza.\")\n",
    "    if message == 'quit':\n",
    "        active = False"
   ]
  },
  {
   "cell_type": "code",
   "execution_count": 27,
   "id": "11cf4f79-81df-48c0-af37-a41775bbf4b9",
   "metadata": {},
   "outputs": [
    {
     "name": "stdin",
     "output_type": "stream",
     "text": [
      "\n",
      "Enter the name of topping you want.\n",
      "Enter 'quit' to end the program. money\n"
     ]
    },
    {
     "name": "stdout",
     "output_type": "stream",
     "text": [
      "Add money to pizza.\n"
     ]
    },
    {
     "name": "stdin",
     "output_type": "stream",
     "text": [
      "\n",
      "Enter the name of topping you want.\n",
      "Enter 'quit' to end the program. gifts\n"
     ]
    },
    {
     "name": "stdout",
     "output_type": "stream",
     "text": [
      "Add gifts to pizza.\n"
     ]
    },
    {
     "name": "stdin",
     "output_type": "stream",
     "text": [
      "\n",
      "Enter the name of topping you want.\n",
      "Enter 'quit' to end the program. quit\n"
     ]
    },
    {
     "name": "stdout",
     "output_type": "stream",
     "text": [
      "Add quit to pizza.\n"
     ]
    }
   ],
   "source": [
    "prompt = \"\\nEnter the name of topping you want.\"\n",
    "prompt += \"\\nEnter 'quit' to end the program.\"\n",
    "\n",
    "while True:\n",
    "    message = input(prompt)\n",
    "    print(f\"Add {message} to pizza.\")\n",
    "    if message == 'quit':\n",
    "        break"
   ]
  },
  {
   "cell_type": "code",
   "execution_count": 30,
   "id": "0b1654fb-738e-4b8c-8832-72ffe09068ef",
   "metadata": {},
   "outputs": [
    {
     "name": "stdin",
     "output_type": "stream",
     "text": [
      "Enter your age:\n",
      "Enter 666666 to end the program. 8\n"
     ]
    },
    {
     "name": "stdout",
     "output_type": "stream",
     "text": [
      "You need to pay 10 $.\n"
     ]
    },
    {
     "name": "stdin",
     "output_type": "stream",
     "text": [
      "Enter your age:\n",
      "Enter 666666 to end the program. 666666\n"
     ]
    }
   ],
   "source": [
    "#7.5 电影票\n",
    "prompt = \"Enter your age:\"\n",
    "prompt += \"\\nEnter 666666 to end the program.\"\n",
    "message = \"\"\n",
    "while message != 666666:\n",
    "    message = input(prompt)\n",
    "    message = int(message)\n",
    "    if message < 3:\n",
    "        print(\"You can watch the movie free of charge.\")\n",
    "    elif message < 12:\n",
    "        print(\"You need to pay 10 $.\")\n",
    "    elif message < 666666:\n",
    "        print(\"You need to pay 15 $.\")\n"
   ]
  },
  {
   "cell_type": "code",
   "execution_count": 31,
   "id": "f6f52466-8c99-494f-b919-ecff180c67db",
   "metadata": {},
   "outputs": [
    {
     "name": "stdin",
     "output_type": "stream",
     "text": [
      "Enter your age:\n",
      "Enter 666666 to end the program. 666666\n"
     ]
    }
   ],
   "source": [
    "#7.6 三种出路\n",
    "prompt = \"Enter your age:\"\n",
    "prompt += \"\\nEnter 666666 to end the program.\"\n",
    "message = \"\"\n",
    "while message != 666666:\n",
    "    message = input(prompt)\n",
    "    message = int(message)\n",
    "    if message < 3:\n",
    "        print(\"You can watch the movie free of charge.\")\n",
    "    elif message < 12:\n",
    "        print(\"You need to pay 10 $.\")\n",
    "    elif message < 666666:\n",
    "        print(\"You need to pay 15 $.\")"
   ]
  },
  {
   "cell_type": "code",
   "execution_count": null,
   "id": "7ca83ac2-d8cd-421d-9ba4-4ed6c147489a",
   "metadata": {},
   "outputs": [],
   "source": [
    "prompt = \"Enter your age:\"\n",
    "prompt += \"\\nEnter 666666 to end the program.\"\n",
    "active = True\n",
    "while active:\n",
    "    message = input(prompt)\n",
    "    message = int(message)\n",
    "    if message < 3:\n",
    "        print(\"You can watch the movie free of charge.\")\n",
    "    elif message < 12:\n",
    "        print(\"You need to pay 10 $.\")\n",
    "    elif message < 666666:\n",
    "        print(\"You need to pay 15 $.\")\n",
    "    elif message == 666:\n",
    "        active = False"
   ]
  },
  {
   "cell_type": "code",
   "execution_count": null,
   "id": "5db7fe48-3b9b-45a9-aabf-8368ce665e9f",
   "metadata": {},
   "outputs": [],
   "source": [
    "#7.7 无限循环\n",
    "num = 1\n",
    "while num < 2:\n",
    "    print(num)"
   ]
  },
  {
   "cell_type": "code",
   "execution_count": null,
   "id": "e6adc6f9-b7df-41ac-8944-565ae62d928a",
   "metadata": {},
   "outputs": [],
   "source": [
    "#7.8 熟食店\n",
    "sandwich_orders = ['a sandwich','b sandwich','c sandwich']\n",
    "finished_sandwiches = []\n",
    "while sandwich_orders:\n",
    "    finished_sandwich = sandwich_orders.pop()\n",
    "    print(f\"I made your {finished_sandwich}.\")\n",
    "    finished_sandwiches.append(finished_sandwich)\n",
    "print(\"All sandwiches are finished:\")\n",
    "for sandwich in finished_sandwiches:\n",
    "    print(sandwich)"
   ]
  },
  {
   "cell_type": "code",
   "execution_count": null,
   "id": "c7228ab5-aa95-48bf-925a-69836d35b1ab",
   "metadata": {},
   "outputs": [],
   "source": [
    "#7.9 五香烟熏牛肉卖完了\n",
    "sandwich_orders = ['egg sandwich','pastrami','ham sandwich','pastrami','fish sandwich','pastrami']\n",
    "print(\"The pastrami of deli has been sold out.\")\n",
    "while 'pastrami' in sandwich_orders:\n",
    "    sandwich_orders.remove('pastrami')\n",
    "if 'pastrami' not in sandwich_orders:\n",
    "    print(1)"
   ]
  },
  {
   "cell_type": "code",
   "execution_count": null,
   "id": "77863c49-2357-4bb9-8ed6-e90560979dbf",
   "metadata": {},
   "outputs": [],
   "source": [
    "#7.10 梦想中的度假胜地\n",
    "places = {}\n",
    "polling_active = True\n",
    "while polling_active:\n",
    "    name = input(\"\\nWhat is your name?\")\n",
    "    place = input(\"If you could visit one place in the world, where would you go?\")\n",
    "    places[name] = place\n",
    "    repeat = input(\"Would you like to let another person respond?(yes/no)\")\n",
    "    if repeat == 'no':\n",
    "        polling_active = False\n",
    "print(\"\\n--- Poll Results ---\")\n",
    "for name,place in places.items():\n",
    "    print(f\"{name} would like to go to {place}.\")"
   ]
  }
 ],
 "metadata": {
  "kernelspec": {
   "display_name": "Python 3 (ipykernel)",
   "language": "python",
   "name": "python3"
  },
  "language_info": {
   "codemirror_mode": {
    "name": "ipython",
    "version": 3
   },
   "file_extension": ".py",
   "mimetype": "text/x-python",
   "name": "python",
   "nbconvert_exporter": "python",
   "pygments_lexer": "ipython3",
   "version": "3.11.7"
  }
 },
 "nbformat": 4,
 "nbformat_minor": 5
}
